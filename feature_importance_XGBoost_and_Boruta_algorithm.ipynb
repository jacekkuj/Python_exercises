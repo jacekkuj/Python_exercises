{
  "metadata": {
    "kernelspec": {
      "language": "python",
      "display_name": "Python 3",
      "name": "python3"
    },
    "language_info": {
      "name": "python",
      "version": "3.11.11",
      "mimetype": "text/x-python",
      "codemirror_mode": {
        "name": "ipython",
        "version": 3
      },
      "pygments_lexer": "ipython3",
      "nbconvert_exporter": "python",
      "file_extension": ".py"
    },
    "kaggle": {
      "accelerator": "none",
      "dataSources": [],
      "dockerImageVersionId": 31040,
      "isInternetEnabled": true,
      "language": "python",
      "sourceType": "notebook",
      "isGpuEnabled": false
    },
    "colab": {
      "name": "feature_importance_XGBoost_and_Boruta_algorithm",
      "provenance": []
    }
  },
  "nbformat_minor": 0,
  "nbformat": 4,
  "cells": [
    {
      "cell_type": "code",
      "source": [
        "# This Python 3 environment comes with many helpful analytics libraries installed\n",
        "# It is defined by the kaggle/python Docker image: https://github.com/kaggle/docker-python\n",
        "# For example, here's several helpful packages to load\n",
        "\n",
        "import numpy as np # linear algebra\n",
        "import pandas as pd # data processing, CSV file I/O (e.g. pd.read_csv)\n",
        "\n",
        "# Input data files are available in the read-only \"../input/\" directory\n",
        "# For example, running this (by clicking run or pressing Shift+Enter) will list all files under the input directory\n",
        "\n",
        "import os\n",
        "for dirname, _, filenames in os.walk('/kaggle/input'):\n",
        "    for filename in filenames:\n",
        "        print(os.path.join(dirname, filename))\n",
        "\n",
        "# You can write up to 20GB to the current directory (/kaggle/working/) that gets preserved as output when you create a version using \"Save & Run All\"\n",
        "# You can also write temporary files to /kaggle/temp/, but they won't be saved outside of the current session"
      ],
      "metadata": {
        "_uuid": "8f2839f25d086af736a60e9eeb907d3b93b6e0e5",
        "_cell_guid": "b1076dfc-b9ad-4769-8c92-a6c4dae69d19",
        "trusted": true,
        "id": "4jC_VtiPkFbL"
      },
      "outputs": [],
      "execution_count": null
    },
    {
      "cell_type": "code",
      "source": [
        "# !pip install boruta"
      ],
      "metadata": {
        "trusted": true,
        "execution": {
          "iopub.status.busy": "2025-06-28T12:19:37.000623Z",
          "iopub.execute_input": "2025-06-28T12:19:37.00114Z",
          "iopub.status.idle": "2025-06-28T12:19:37.006205Z",
          "shell.execute_reply.started": "2025-06-28T12:19:37.001112Z",
          "shell.execute_reply": "2025-06-28T12:19:37.004896Z"
        },
        "id": "-x5qUb4EkFbO"
      },
      "outputs": [],
      "execution_count": null
    },
    {
      "cell_type": "markdown",
      "source": [
        "## Porównanie modeli: XGBoost vs Random Forest + Wykresy ROC-AUC\n",
        "\n",
        "W tym zadaniu zbudujemy modele klasyfikacyjne XGBoost i RandomForestClassifier, wytrenujemy je na tym samym zbiorze danych, narysujemy wykresy ROC-AUC dla obu, a następnie przeprowadzimy selekcję cech algorytmem Boruta (dla RF).\n"
      ],
      "metadata": {
        "id": "TIovKn-LkFbP"
      }
    },
    {
      "cell_type": "code",
      "source": [
        "# 1. Przygotuj dane\n",
        "import numpy as np\n",
        "import pandas as pd\n",
        "from sklearn.datasets import make_classification\n",
        "from sklearn.model_selection import train_test_split\n",
        "\n",
        "# Zbiór\n",
        "X, y = make_classification(n_samples=1200, n_features=12, n_informative=7, n_redundant=3,\n",
        "                           n_classes=2, flip_y=0.04, class_sep=1.2, random_state=42)\n",
        "df = pd.DataFrame(X, columns=[f'feat_{i+1}' for i in range(X.shape[1])])\n",
        "X_train, X_test, y_train, y_test = train_test_split(df, y, test_size=0.3, stratify=y, random_state=1)\n"
      ],
      "metadata": {
        "trusted": true,
        "execution": {
          "iopub.status.busy": "2025-06-28T12:32:33.507398Z",
          "iopub.execute_input": "2025-06-28T12:32:33.507744Z",
          "iopub.status.idle": "2025-06-28T12:32:33.652454Z",
          "shell.execute_reply.started": "2025-06-28T12:32:33.50772Z",
          "shell.execute_reply": "2025-06-28T12:32:33.651503Z"
        },
        "id": "M7iHNgXtkFbS"
      },
      "outputs": [],
      "execution_count": null
    },
    {
      "cell_type": "code",
      "source": [
        "X"
      ],
      "metadata": {
        "trusted": true,
        "execution": {
          "iopub.status.busy": "2025-06-28T12:32:38.214781Z",
          "iopub.execute_input": "2025-06-28T12:32:38.215174Z",
          "iopub.status.idle": "2025-06-28T12:32:38.222746Z",
          "shell.execute_reply.started": "2025-06-28T12:32:38.215143Z",
          "shell.execute_reply": "2025-06-28T12:32:38.221745Z"
        },
        "id": "sI09awPikFbU"
      },
      "outputs": [],
      "execution_count": null
    },
    {
      "cell_type": "code",
      "source": [
        "y"
      ],
      "metadata": {
        "trusted": true,
        "execution": {
          "iopub.status.busy": "2025-06-28T12:32:42.077577Z",
          "iopub.execute_input": "2025-06-28T12:32:42.07801Z",
          "iopub.status.idle": "2025-06-28T12:32:42.085325Z",
          "shell.execute_reply.started": "2025-06-28T12:32:42.07798Z",
          "shell.execute_reply": "2025-06-28T12:32:42.084417Z"
        },
        "id": "8g-XQag7kFbX"
      },
      "outputs": [],
      "execution_count": null
    },
    {
      "cell_type": "code",
      "source": [
        "# 2. Trening XGBoost i RandomForest\n",
        "import xgboost as xgb\n",
        "from sklearn.ensemble import RandomForestClassifier\n",
        "\n",
        "# XGBoost\n",
        "xgb_model = xgb.XGBClassifier(eval_metric='logloss', use_label_encoder=False, random_state=1)\n",
        "xgb_model.fit(X_train, y_train)\n",
        "y_pred_xgb = xgb_model.predict_proba(X_test)[:, 1]\n",
        "\n",
        "# RandomForest\n",
        "rf_model = RandomForestClassifier(n_estimators=200, random_state=1)\n",
        "rf_model.fit(X_train, y_train)\n",
        "y_pred_rf = rf_model.predict_proba(X_test)[:, 1]"
      ],
      "metadata": {
        "trusted": true,
        "execution": {
          "iopub.status.busy": "2025-06-28T12:33:04.037899Z",
          "iopub.execute_input": "2025-06-28T12:33:04.038228Z",
          "iopub.status.idle": "2025-06-28T12:33:04.86793Z",
          "shell.execute_reply.started": "2025-06-28T12:33:04.038206Z",
          "shell.execute_reply": "2025-06-28T12:33:04.867101Z"
        },
        "id": "-re0L_IvkFbY"
      },
      "outputs": [],
      "execution_count": null
    },
    {
      "cell_type": "code",
      "source": [
        "# 3. Wykres ROC AUC dla obu modeli\n",
        "from sklearn.metrics import roc_curve, auc\n",
        "import matplotlib.pyplot as plt\n",
        "\n",
        "fpr_xgb, tpr_xgb, _ = roc_curve(y_test, y_pred_xgb)\n",
        "fpr_rf, tpr_rf, _ = roc_curve(y_test, y_pred_rf)\n",
        "auc_xgb = auc(fpr_xgb, tpr_xgb)\n",
        "auc_rf = auc(fpr_rf, tpr_rf)\n",
        "\n",
        "plt.figure(figsize=(7,5))\n",
        "plt.plot(fpr_xgb, tpr_xgb, label=f'XGBoost (AUC={auc_xgb:.3f})', lw=2)\n",
        "plt.plot(fpr_rf, tpr_rf, label=f'Random Forest (AUC={auc_rf:.3f})', lw=2, linestyle='--')\n",
        "plt.plot([0, 1], [0, 1], 'k--', lw=1)\n",
        "plt.xlabel('False Positive Rate')\n",
        "plt.ylabel('True Positive Rate')\n",
        "plt.title('ROC Curve: XGBoost vs RandomForest')\n",
        "plt.legend()\n",
        "plt.grid()\n",
        "plt.show()"
      ],
      "metadata": {
        "trusted": true,
        "execution": {
          "iopub.status.busy": "2025-06-28T12:33:14.140873Z",
          "iopub.execute_input": "2025-06-28T12:33:14.14123Z",
          "iopub.status.idle": "2025-06-28T12:33:14.381547Z",
          "shell.execute_reply.started": "2025-06-28T12:33:14.141204Z",
          "shell.execute_reply": "2025-06-28T12:33:14.380519Z"
        },
        "id": "QeA_jeiFkFba"
      },
      "outputs": [],
      "execution_count": null
    },
    {
      "cell_type": "markdown",
      "source": [
        "## Boruta – selekcja cech z Random Forest\n",
        "\n",
        "Poniżej – porównanie AUC modelu RF przed i po selekcji cech."
      ],
      "metadata": {
        "id": "8bFRpWi5kFbc"
      }
    },
    {
      "cell_type": "code",
      "source": [
        "# 4. Boruta z RandomForest\n",
        "from boruta import BorutaPy\n",
        "\n",
        "boruta_selector = BorutaPy(\n",
        "    estimator=RandomForestClassifier(n_estimators=2000, random_state=1),\n",
        "    n_estimators='auto', random_state=1, verbose=2, perc=85, max_iter=50\n",
        ")\n",
        "boruta_selector.fit(X_train.values, y_train)\n",
        "\n",
        "selected = boruta_selector.support_\n",
        "selected_features = X_train.columns[selected]\n",
        "print(f\"Wybrane cechy przez Borutę: {list(selected_features)}\")\n",
        "\n",
        "if len(selected_features) > 0:\n",
        "    # Trening na wybranych cechach\n",
        "    rf_model_boruta = RandomForestClassifier(n_estimators=200, random_state=1)\n",
        "    rf_model_boruta.fit(X_train[selected_features], y_train)\n",
        "    y_pred_rf_boruta = rf_model_boruta.predict_proba(X_test[selected_features])[:, 1]\n",
        "    fpr_rf_boruta, tpr_rf_boruta, _ = roc_curve(y_test, y_pred_rf_boruta)\n",
        "    auc_rf_boruta = auc(fpr_rf_boruta, tpr_rf_boruta)\n",
        "else:\n",
        "    auc_rf_boruta = None\n",
        "    print(\"Boruta nie wybrała żadnych cech – porównanie ograniczone do pełnego zbioru.\")"
      ],
      "metadata": {
        "trusted": true,
        "execution": {
          "iopub.status.busy": "2025-06-28T12:35:57.067628Z",
          "iopub.execute_input": "2025-06-28T12:35:57.068214Z",
          "iopub.status.idle": "2025-06-28T12:35:59.51495Z",
          "shell.execute_reply.started": "2025-06-28T12:35:57.06817Z",
          "shell.execute_reply": "2025-06-28T12:35:59.513896Z"
        },
        "id": "G_2Uu1TIkFbd"
      },
      "outputs": [],
      "execution_count": null
    },
    {
      "cell_type": "code",
      "source": [
        "# 5. Wykres ROC RF przed/po Boruta\n",
        "plt.figure(figsize=(7,5))\n",
        "plt.plot(fpr_rf, tpr_rf, label=f'RF - wszystkie cechy (AUC={auc_rf:.3f})', lw=2)\n",
        "if auc_rf_boruta:\n",
        "    plt.plot(fpr_rf_boruta, tpr_rf_boruta, label=f'RF + Boruta (AUC={auc_rf_boruta:.3f})', lw=2, linestyle='--')\n",
        "plt.plot([0, 1], [0, 1], 'k--', lw=1)\n",
        "plt.xlabel('False Positive Rate')\n",
        "plt.ylabel('True Positive Rate')\n",
        "plt.title('RF: ROC Curve (pełny vs Boruta)')\n",
        "plt.legend()\n",
        "plt.grid()\n",
        "plt.show()"
      ],
      "metadata": {
        "trusted": true,
        "execution": {
          "iopub.status.busy": "2025-06-28T12:36:03.410803Z",
          "iopub.execute_input": "2025-06-28T12:36:03.411164Z",
          "iopub.status.idle": "2025-06-28T12:36:03.641614Z",
          "shell.execute_reply.started": "2025-06-28T12:36:03.41114Z",
          "shell.execute_reply": "2025-06-28T12:36:03.640607Z"
        },
        "id": "gRsOs04HkFbe"
      },
      "outputs": [],
      "execution_count": null
    },
    {
      "cell_type": "code",
      "source": [
        "import seaborn as sns\n",
        "import matplotlib.pyplot as plt\n",
        "\n",
        "selected_features = ['feat_1', 'feat_2', 'feat_4', 'feat_5', 'feat_6', 'feat_7', 'feat_9', 'feat_10', 'feat_11', 'feat_12']\n",
        "\n",
        "# Załóżmy, że Twój dataframe nazywa się df i masz już kolumnę 'y' z etykietami klasy\n",
        "df_plot = df.copy()\n",
        "df_plot['target'] = y  # jeśli jeszcze nie masz etykiety jako kolumna\n",
        "\n",
        "sns.pairplot(df_plot[selected_features + ['target']], hue='target', palette='Set1', plot_kws={'alpha':0.5})\n",
        "plt.suptitle('Pairplot wybranych cech', y=1.02)\n",
        "plt.show()"
      ],
      "metadata": {
        "trusted": true,
        "execution": {
          "iopub.status.busy": "2025-06-28T12:37:01.340474Z",
          "iopub.execute_input": "2025-06-28T12:37:01.340844Z",
          "iopub.status.idle": "2025-06-28T12:37:40.037385Z",
          "shell.execute_reply.started": "2025-06-28T12:37:01.340819Z",
          "shell.execute_reply": "2025-06-28T12:37:40.036098Z"
        },
        "id": "JLCI9-cQkFbg"
      },
      "outputs": [],
      "execution_count": null
    },
    {
      "cell_type": "code",
      "source": [
        "plt.figure(figsize=(6,5))\n",
        "sns.scatterplot(data=df_plot, x='feat_1', y='feat_2', hue='target')\n",
        "plt.title('feat_1 vs feat_2')\n",
        "plt.show()"
      ],
      "metadata": {
        "trusted": true,
        "execution": {
          "iopub.status.busy": "2025-06-28T12:38:03.378407Z",
          "iopub.execute_input": "2025-06-28T12:38:03.378751Z",
          "iopub.status.idle": "2025-06-28T12:38:03.695246Z",
          "shell.execute_reply.started": "2025-06-28T12:38:03.378727Z",
          "shell.execute_reply": "2025-06-28T12:38:03.694211Z"
        },
        "id": "A0qrvYpfkFbg"
      },
      "outputs": [],
      "execution_count": null
    },
    {
      "cell_type": "code",
      "source": [
        "plt.figure(figsize=(6,5))\n",
        "sns.scatterplot(data=df_plot, x='feat_3', y='feat_4', hue='target')\n",
        "plt.title('feat_3 vs feat_4')\n",
        "plt.show()"
      ],
      "metadata": {
        "trusted": true,
        "execution": {
          "iopub.status.busy": "2025-06-28T12:38:29.644611Z",
          "iopub.execute_input": "2025-06-28T12:38:29.645421Z",
          "iopub.status.idle": "2025-06-28T12:38:29.949693Z",
          "shell.execute_reply.started": "2025-06-28T12:38:29.645389Z",
          "shell.execute_reply": "2025-06-28T12:38:29.948646Z"
        },
        "id": "fMaE6qrKkFbi"
      },
      "outputs": [],
      "execution_count": null
    }
  ]
}