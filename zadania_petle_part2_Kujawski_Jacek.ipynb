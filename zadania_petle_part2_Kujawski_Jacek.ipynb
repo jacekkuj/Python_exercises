{
 "cells": [
  {
   "cell_type": "markdown",
   "id": "2135ce8e",
   "metadata": {},
   "source": [
    "**1. Napisz pętlę, która wyświetli, po podaniu liczby, tabliczkę mnożenia.**\n",
    "<br> Przykładowo:\n",
    "<br> \n",
    "<br>Wprowadź liczbę: 6\n",
    "<br>6x1 = 6\n",
    "<br>6x2 = 12\n",
    "<br>6x3 = 18\n",
    "<br>6x4 = 24\n",
    "<br>6x5 = 30\n",
    "<br>6x6 = 36\n",
    "<br>6x7 = 42\n",
    "<br>6x8 = 48\n",
    "<br>6x9 = 54\n",
    "<br>6x10 = 60"
   ]
  },
  {
   "cell_type": "code",
   "execution_count": 4,
   "id": "adf2516d",
   "metadata": {},
   "outputs": [
    {
     "name": "stdout",
     "output_type": "stream",
     "text": [
      "Wprowadz liczbe, dla ktorej wyświetlisz tabliczkę mnożenia : 6\n",
      "Wprowadzona liczba:  6\n",
      "6 x 1 = 6\n",
      "6 x 2 = 12\n",
      "6 x 3 = 18\n",
      "6 x 4 = 24\n",
      "6 x 5 = 30\n",
      "6 x 6 = 36\n",
      "6 x 7 = 42\n",
      "6 x 8 = 48\n",
      "6 x 9 = 54\n",
      "6 x 10 = 60\n"
     ]
    }
   ],
   "source": [
    "number = int(input (\"Wprowadz liczbe, dla ktorej wyświetlisz tabliczkę mnożenia : \"))      \n",
    "# Uzywajac petli iterujemy sie przez liczby 1-10 za kazdym razem mnazac numer przez kolejna z niach.\n",
    "# Wszystko ubieramy w elegancki print\n",
    "print (\"Wprowadzona liczba: \", number)    \n",
    "for count in range(1, 11):      \n",
    "   print (number, 'x', count, '=', number * count)   "
   ]
  },
  {
   "cell_type": "markdown",
   "id": "c747527b",
   "metadata": {},
   "source": [
    "**2. Napisz pętlę, która wypisze liczby od 1 do 10 wstecz**"
   ]
  },
  {
   "cell_type": "markdown",
   "id": "78ccf25e",
   "metadata": {},
   "source": [
    "## Sposob 1"
   ]
  },
  {
   "cell_type": "code",
   "execution_count": 10,
   "id": "12e6c81c",
   "metadata": {},
   "outputs": [
    {
     "name": "stdout",
     "output_type": "stream",
     "text": [
      "10  9  8  7  6  5  4  3  2  1  "
     ]
    }
   ],
   "source": [
    "i = 10 #tu mozna wstawic kazda inna wartosc, od ktorej wyswietli wstecz.## Sposob 1\n",
    "\n",
    "while ( i >= 1):\n",
    "    print (i, end = '  ')\n",
    "    i = i - 1"
   ]
  },
  {
   "cell_type": "markdown",
   "id": "0bf0950f",
   "metadata": {},
   "source": [
    "## Sposob 2"
   ]
  },
  {
   "cell_type": "code",
   "execution_count": 12,
   "id": "e0386985",
   "metadata": {},
   "outputs": [
    {
     "name": "stdout",
     "output_type": "stream",
     "text": [
      "10\n",
      "9\n",
      "8\n",
      "7\n",
      "6\n",
      "5\n",
      "4\n",
      "3\n",
      "2\n",
      "1\n"
     ]
    }
   ],
   "source": [
    "for i in range(1, 11)[::-1]:\n",
    "    print(i)"
   ]
  },
  {
   "cell_type": "markdown",
   "id": "2e3526c6",
   "metadata": {},
   "source": [
    "## Sposob 3"
   ]
  },
  {
   "cell_type": "code",
   "execution_count": 16,
   "id": "aa617dc5",
   "metadata": {},
   "outputs": [
    {
     "name": "stdout",
     "output_type": "stream",
     "text": [
      "10\n",
      "9\n",
      "8\n",
      "7\n",
      "6\n",
      "5\n",
      "4\n",
      "3\n",
      "2\n",
      "1\n"
     ]
    }
   ],
   "source": [
    "for i in range(10,0,-1):\n",
    "    print(i)"
   ]
  },
  {
   "cell_type": "markdown",
   "id": "c6754449",
   "metadata": {},
   "source": [
    "**3. Użyj pętli while, aby obliczyć sumę liczb nieparzystych do 100.**"
   ]
  },
  {
   "cell_type": "markdown",
   "id": "a5282661",
   "metadata": {},
   "source": [
    "## Wersja z while"
   ]
  },
  {
   "cell_type": "code",
   "execution_count": 40,
   "id": "0f3ffbcf",
   "metadata": {},
   "outputs": [
    {
     "name": "stdout",
     "output_type": "stream",
     "text": [
      "Suma liczb nieparzystych do 100 to 2500\n"
     ]
    }
   ],
   "source": [
    "maximum = 100\n",
    "oddtotal = 0\n",
    "number = 1\n",
    " \n",
    "while number <= maximum:\n",
    "    if(number % 2 != 0):\n",
    "        oddtotal = oddtotal + number\n",
    "    number = number + 1\n",
    "\n",
    "print(\"Suma liczb nieparzystych do {0} to {1}\".format(maximum, Oddtotal))"
   ]
  },
  {
   "cell_type": "markdown",
   "id": "963ca3b9",
   "metadata": {},
   "source": [
    "## Wersja z for - podaje bardziej jako ciekawa alternatywe (nie wynika to z zadania)"
   ]
  },
  {
   "cell_type": "code",
   "execution_count": 41,
   "id": "d5d270c4",
   "metadata": {},
   "outputs": [
    {
     "name": "stdout",
     "output_type": "stream",
     "text": [
      "Suma liczb nieparzystych do 100 to 2500\n"
     ]
    }
   ],
   "source": [
    "maximum = 100\n",
    "oddtotal = 0\n",
    "\n",
    "for number in range(1, maximum+1):\n",
    "    if(number % 2 != 0):\n",
    "        oddtotal = oddtotal + number\n",
    "        \n",
    "print(\"Suma liczb nieparzystych do {0} to {1}\".format(number, Oddtotal)) "
   ]
  },
  {
   "cell_type": "markdown",
   "id": "d5fa74a9",
   "metadata": {},
   "source": [
    "**4. Napisz pętlę, która wydrukuje 20 pierwszych liczb ciągu fibonacciego: 0,1,1,2,3,5,8,13, najlepiej w formie listy.**"
   ]
  },
  {
   "cell_type": "code",
   "execution_count": 48,
   "id": "a9c57416",
   "metadata": {},
   "outputs": [
    {
     "name": "stdout",
     "output_type": "stream",
     "text": [
      "0\n",
      "1\n",
      "1\n",
      "2\n",
      "3\n",
      "5\n",
      "8\n",
      "13\n",
      "21\n",
      "34\n",
      "55\n",
      "89\n",
      "144\n",
      "233\n",
      "377\n",
      "610\n",
      "987\n",
      "1597\n",
      "2584\n",
      "4181\n"
     ]
    }
   ],
   "source": [
    "nterms = 20 #podanie ile pierwszych elementow ciagu powinno byc wyswietlane\n",
    "\n",
    "n1, n2 = 0, 1\n",
    "count = 0\n",
    "\n",
    "\n",
    "while count < nterms:\n",
    "    print(n1) #podanie wartosci\n",
    "    nth = n1 + n2 #kolejny element ciagu to dwa poprzednie - regula zwiazana z ciagiem\n",
    "    n1 = n2 #przypisanie wartosci - \"przesuniecie\" po ciagu\n",
    "    n2 = nth #jak wyzej\n",
    "    count += 1 #dodanie ilosci elementow (petla stopuje sie jak jest ich 20)"
   ]
  },
  {
   "cell_type": "markdown",
   "id": "45129498",
   "metadata": {},
   "source": [
    "**5. Napisz pętlę, która wydrukuje wszystkie liczby z przedziału <1000,5000>, które są podzielne bez reszty przez 11.**"
   ]
  },
  {
   "cell_type": "markdown",
   "id": "79ed2c9b",
   "metadata": {},
   "source": [
    "## podzielne przez 11"
   ]
  },
  {
   "cell_type": "code",
   "execution_count": 52,
   "id": "723b4155",
   "metadata": {
    "scrolled": true
   },
   "outputs": [
    {
     "name": "stdout",
     "output_type": "stream",
     "text": [
      "1001\n",
      "1012\n",
      "1023\n",
      "1034\n",
      "1045\n",
      "1056\n",
      "1067\n",
      "1078\n",
      "1089\n",
      "1100\n",
      "1111\n",
      "1122\n",
      "1133\n",
      "1144\n",
      "1155\n",
      "1166\n",
      "1177\n",
      "1188\n",
      "1199\n",
      "1210\n",
      "1221\n",
      "1232\n",
      "1243\n",
      "1254\n",
      "1265\n",
      "1276\n",
      "1287\n",
      "1298\n",
      "1309\n",
      "1320\n",
      "1331\n",
      "1342\n",
      "1353\n",
      "1364\n",
      "1375\n",
      "1386\n",
      "1397\n",
      "1408\n",
      "1419\n",
      "1430\n",
      "1441\n",
      "1452\n",
      "1463\n",
      "1474\n",
      "1485\n",
      "1496\n",
      "1507\n",
      "1518\n",
      "1529\n",
      "1540\n",
      "1551\n",
      "1562\n",
      "1573\n",
      "1584\n",
      "1595\n",
      "1606\n",
      "1617\n",
      "1628\n",
      "1639\n",
      "1650\n",
      "1661\n",
      "1672\n",
      "1683\n",
      "1694\n",
      "1705\n",
      "1716\n",
      "1727\n",
      "1738\n",
      "1749\n",
      "1760\n",
      "1771\n",
      "1782\n",
      "1793\n",
      "1804\n",
      "1815\n",
      "1826\n",
      "1837\n",
      "1848\n",
      "1859\n",
      "1870\n",
      "1881\n",
      "1892\n",
      "1903\n",
      "1914\n",
      "1925\n",
      "1936\n",
      "1947\n",
      "1958\n",
      "1969\n",
      "1980\n",
      "1991\n",
      "2002\n",
      "2013\n",
      "2024\n",
      "2035\n",
      "2046\n",
      "2057\n",
      "2068\n",
      "2079\n",
      "2090\n",
      "2101\n",
      "2112\n",
      "2123\n",
      "2134\n",
      "2145\n",
      "2156\n",
      "2167\n",
      "2178\n",
      "2189\n",
      "2200\n",
      "2211\n",
      "2222\n",
      "2233\n",
      "2244\n",
      "2255\n",
      "2266\n",
      "2277\n",
      "2288\n",
      "2299\n",
      "2310\n",
      "2321\n",
      "2332\n",
      "2343\n",
      "2354\n",
      "2365\n",
      "2376\n",
      "2387\n",
      "2398\n",
      "2409\n",
      "2420\n",
      "2431\n",
      "2442\n",
      "2453\n",
      "2464\n",
      "2475\n",
      "2486\n",
      "2497\n",
      "2508\n",
      "2519\n",
      "2530\n",
      "2541\n",
      "2552\n",
      "2563\n",
      "2574\n",
      "2585\n",
      "2596\n",
      "2607\n",
      "2618\n",
      "2629\n",
      "2640\n",
      "2651\n",
      "2662\n",
      "2673\n",
      "2684\n",
      "2695\n",
      "2706\n",
      "2717\n",
      "2728\n",
      "2739\n",
      "2750\n",
      "2761\n",
      "2772\n",
      "2783\n",
      "2794\n",
      "2805\n",
      "2816\n",
      "2827\n",
      "2838\n",
      "2849\n",
      "2860\n",
      "2871\n",
      "2882\n",
      "2893\n",
      "2904\n",
      "2915\n",
      "2926\n",
      "2937\n",
      "2948\n",
      "2959\n",
      "2970\n",
      "2981\n",
      "2992\n",
      "3003\n",
      "3014\n",
      "3025\n",
      "3036\n",
      "3047\n",
      "3058\n",
      "3069\n",
      "3080\n",
      "3091\n",
      "3102\n",
      "3113\n",
      "3124\n",
      "3135\n",
      "3146\n",
      "3157\n",
      "3168\n",
      "3179\n",
      "3190\n",
      "3201\n",
      "3212\n",
      "3223\n",
      "3234\n",
      "3245\n",
      "3256\n",
      "3267\n",
      "3278\n",
      "3289\n",
      "3300\n",
      "3311\n",
      "3322\n",
      "3333\n",
      "3344\n",
      "3355\n",
      "3366\n",
      "3377\n",
      "3388\n",
      "3399\n",
      "3410\n",
      "3421\n",
      "3432\n",
      "3443\n",
      "3454\n",
      "3465\n",
      "3476\n",
      "3487\n",
      "3498\n",
      "3509\n",
      "3520\n",
      "3531\n",
      "3542\n",
      "3553\n",
      "3564\n",
      "3575\n",
      "3586\n",
      "3597\n",
      "3608\n",
      "3619\n",
      "3630\n",
      "3641\n",
      "3652\n",
      "3663\n",
      "3674\n",
      "3685\n",
      "3696\n",
      "3707\n",
      "3718\n",
      "3729\n",
      "3740\n",
      "3751\n",
      "3762\n",
      "3773\n",
      "3784\n",
      "3795\n",
      "3806\n",
      "3817\n",
      "3828\n",
      "3839\n",
      "3850\n",
      "3861\n",
      "3872\n",
      "3883\n",
      "3894\n",
      "3905\n",
      "3916\n",
      "3927\n",
      "3938\n",
      "3949\n",
      "3960\n",
      "3971\n",
      "3982\n",
      "3993\n",
      "4004\n",
      "4015\n",
      "4026\n",
      "4037\n",
      "4048\n",
      "4059\n",
      "4070\n",
      "4081\n",
      "4092\n",
      "4103\n",
      "4114\n",
      "4125\n",
      "4136\n",
      "4147\n",
      "4158\n",
      "4169\n",
      "4180\n",
      "4191\n",
      "4202\n",
      "4213\n",
      "4224\n",
      "4235\n",
      "4246\n",
      "4257\n",
      "4268\n",
      "4279\n",
      "4290\n",
      "4301\n",
      "4312\n",
      "4323\n",
      "4334\n",
      "4345\n",
      "4356\n",
      "4367\n",
      "4378\n",
      "4389\n",
      "4400\n",
      "4411\n",
      "4422\n",
      "4433\n",
      "4444\n",
      "4455\n",
      "4466\n",
      "4477\n",
      "4488\n",
      "4499\n",
      "4510\n",
      "4521\n",
      "4532\n",
      "4543\n",
      "4554\n",
      "4565\n",
      "4576\n",
      "4587\n",
      "4598\n",
      "4609\n",
      "4620\n",
      "4631\n",
      "4642\n",
      "4653\n",
      "4664\n",
      "4675\n",
      "4686\n",
      "4697\n",
      "4708\n",
      "4719\n",
      "4730\n",
      "4741\n",
      "4752\n",
      "4763\n",
      "4774\n",
      "4785\n",
      "4796\n",
      "4807\n",
      "4818\n",
      "4829\n",
      "4840\n",
      "4851\n",
      "4862\n",
      "4873\n",
      "4884\n",
      "4895\n",
      "4906\n",
      "4917\n",
      "4928\n",
      "4939\n",
      "4950\n",
      "4961\n",
      "4972\n",
      "4983\n",
      "4994\n"
     ]
    }
   ],
   "source": [
    "for i in range(1000,5000+1):\n",
    "    if(i%11==0):\n",
    "        print(i)"
   ]
  },
  {
   "cell_type": "code",
   "execution_count": 54,
   "id": "23976d89",
   "metadata": {},
   "outputs": [],
   "source": [
    "# kod uniwersalny - mozna podawac kazde wartosci zakresu i kazdy dzielnik"
   ]
  },
  {
   "cell_type": "code",
   "execution_count": 53,
   "id": "2892bd78",
   "metadata": {
    "scrolled": true
   },
   "outputs": [
    {
     "name": "stdout",
     "output_type": "stream",
     "text": [
      "dolny zasieg generatora:10\n",
      "gorny zasieg generatora:100\n",
      "liczba, przez krota ma byc podzielny input:3\n",
      "12\n",
      "15\n",
      "18\n",
      "21\n",
      "24\n",
      "27\n",
      "30\n",
      "33\n",
      "36\n",
      "39\n",
      "42\n",
      "45\n",
      "48\n",
      "51\n",
      "54\n",
      "57\n",
      "60\n",
      "63\n",
      "66\n",
      "69\n",
      "72\n",
      "75\n",
      "78\n",
      "81\n",
      "84\n",
      "87\n",
      "90\n",
      "93\n",
      "96\n",
      "99\n"
     ]
    }
   ],
   "source": [
    "lower=int(input(\"dolny zasieg generatora:\"))\n",
    "upper=int(input(\"gorny zasieg generatora:\"))\n",
    "n=int(input(\"liczba, przez krota ma byc podzielny input:\"))\n",
    "for i in range(lower,upper+1):\n",
    "    if(i%n==0):\n",
    "        print(i)"
   ]
  },
  {
   "cell_type": "markdown",
   "id": "e1c1cd12",
   "metadata": {},
   "source": [
    "**1*. Za pomoca petli wydrukuj nastepujacy wzorzec:**\n",
    "<br>1\n",
    "<br>22\n",
    "<br>333\n",
    "<br>4444\n",
    "<br>55555\n",
    "<br>666666\n",
    "<br>7777777\n",
    "<br>88888888\n",
    "<br>999999999"
   ]
  },
  {
   "cell_type": "markdown",
   "id": "38a2a296",
   "metadata": {},
   "source": [
    "## Wersja 1"
   ]
  },
  {
   "cell_type": "code",
   "execution_count": 62,
   "id": "c00ebbc7",
   "metadata": {
    "collapsed": true
   },
   "outputs": [
    {
     "name": "stdout",
     "output_type": "stream",
     "text": [
      "1\n",
      "22\n",
      "333\n",
      "4444\n",
      "55555\n",
      "666666\n",
      "7777777\n",
      "88888888\n",
      "999999999\n"
     ]
    }
   ],
   "source": [
    "for i in range(1,10):\n",
    "    for j in range(1, i+1):\n",
    "        print(i, end=\"\")\n",
    "    print()"
   ]
  },
  {
   "cell_type": "markdown",
   "id": "30b5a3d5",
   "metadata": {},
   "source": [
    "## Wersja 2"
   ]
  },
  {
   "cell_type": "code",
   "execution_count": 71,
   "id": "9b8e4cb6",
   "metadata": {},
   "outputs": [
    {
     "name": "stdout",
     "output_type": "stream",
     "text": [
      "1\n",
      "22\n",
      "333\n",
      "4444\n",
      "55555\n",
      "666666\n",
      "7777777\n",
      "88888888\n",
      "999999999\n"
     ]
    }
   ],
   "source": [
    "k = 1\n",
    "while k <= 9:\n",
    "    j = 1\n",
    "    while j <= k:\n",
    "        print(k, end=\"\")\n",
    "        j += 1\n",
    "    print()\n",
    "    k += 1"
   ]
  }
 ],
 "metadata": {
  "kernelspec": {
   "display_name": "Python 3",
   "language": "python",
   "name": "python3"
  },
  "language_info": {
   "codemirror_mode": {
    "name": "ipython",
    "version": 3
   },
   "file_extension": ".py",
   "mimetype": "text/x-python",
   "name": "python",
   "nbconvert_exporter": "python",
   "pygments_lexer": "ipython3",
   "version": "3.8.8"
  }
 },
 "nbformat": 4,
 "nbformat_minor": 5
}
