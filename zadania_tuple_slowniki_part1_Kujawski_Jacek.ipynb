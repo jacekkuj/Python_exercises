{
 "cells": [
  {
   "cell_type": "markdown",
   "id": "f0c6b8d7",
   "metadata": {},
   "source": [
    "## TUPLE (krotki)"
   ]
  },
  {
   "cell_type": "markdown",
   "id": "55e39fad",
   "metadata": {},
   "source": [
    "1. Napisz tuple składającą się z dowolnych tupli (np. tpl = ((1,2,3), (1,8,1)))\n",
    "<br> - Podaj jej elementy o pierwszym i ostatnim indexie. \n",
    "<br> - Policz elementy.\n",
    "<br> - Jeśli jest to tupla numeryczna podać wartość min i max.\n",
    "<br> - Jak dodać na końcu jeszcze jedną tuple p = (8,19,10)?"
   ]
  },
  {
   "cell_type": "code",
   "execution_count": 67,
   "id": "8f2c4750",
   "metadata": {},
   "outputs": [
    {
     "name": "stdout",
     "output_type": "stream",
     "text": [
      "Element 0 krotki: (1, 2, 3).\n",
      "Element 1 krotki: (1, 8, 1).\n",
      "Dlugosc krotki wynosi 2 elementy.\n",
      "Max. wartosc krotki: 8\n",
      "Min. wartosc krotki:  1\n",
      "(8, 19, 10)\n",
      "((1, 2, 3), (1, 8, 1), (8, 19, 10))\n"
     ]
    }
   ],
   "source": [
    "def tuple_index(tpl):\n",
    "    i = 0\n",
    "    lista = []\n",
    "    for i in range(len(tpl)):\n",
    "        print(f\"Element {i} krotki: {tpl[i]}.\")\n",
    "        lista = lista + list(tpl[i])\n",
    "        i += 1\n",
    "    print(f\"Dlugosc krotki wynosi {len(tpl)} elementy.\")\n",
    "    print(\"Max. wartosc krotki:\", max(lista))\n",
    "    print(\"Min. wartosc krotki: \", min(lista))\n",
    "    return lista\n",
    "\n",
    "def new_tuple(tpl):\n",
    "    p = tuple((8,19,10))\n",
    "    print(p)\n",
    "    nowa_krotka = tpl + (p,)\n",
    "    print(nowa_krotka)\n",
    "\n",
    "tpl = ((1,2,3), (1,8,1))\n",
    "tuple_index(tpl)        \n",
    "new_tuple(tpl)\n"
   ]
  },
  {
   "cell_type": "markdown",
   "id": "dee52e01",
   "metadata": {},
   "source": [
    "2. Dodaj do siebie krotki a = (4,5,6) i b=(4,67,10).\n",
    "<br> Skonwertuj powstałą zmienną na listę.\n",
    "<br> Podaj sumę, wartość max i min. \n",
    "<br> Policz elementy."
   ]
  },
  {
   "cell_type": "code",
   "execution_count": 73,
   "id": "e9650f58",
   "metadata": {},
   "outputs": [
    {
     "name": "stdout",
     "output_type": "stream",
     "text": [
      "Powstala nowa lista:  [4, 5, 6, 4, 67, 10]\n",
      "Dlugosc powstalej listy wynosi: 6 elementow.\n",
      "Max. wartosc powstalej listy: 67\n",
      "Min. wartosc powstalej listy:  4\n"
     ]
    }
   ],
   "source": [
    "def new_list(a, b):\n",
    "    a_list = list(a)\n",
    "    b_list = list(b)\n",
    "    nowa_lista = list(a + b)\n",
    "    print(\"Powstala nowa lista: \", nowa_lista)\n",
    "    print(f\"Dlugosc powstalej listy wynosi: {len(nowa_lista)} elementow.\")\n",
    "    print(\"Max. wartosc powstalej listy:\", max(nowa_lista))\n",
    "    print(\"Min. wartosc powstalej listy: \", min(nowa_lista))    \n",
    "    \n",
    "\n",
    "a = (4,5,6)\n",
    "b=(4,67,10)\n",
    "\n",
    "new_list(a, b)\n",
    "\n",
    "    "
   ]
  },
  {
   "cell_type": "markdown",
   "id": "8d4671b0",
   "metadata": {},
   "source": [
    "# **3. Napisz program (czyli funkcjonujacy kod:)), który sprawdza czy dany element istnieje w tupli. \n",
    "<br> Sprawdź go na przykładowej krotce.\n",
    "*dodatkowe:\n",
    "<br> 1*: Z dowolnej tupli utwórz odwróconą listę.\n",
    "<br> 2**. Napisz program który podaje różnicę sum wartości w dwóch tuplach"
   ]
  },
  {
   "cell_type": "code",
   "execution_count": 152,
   "id": "6c6bbbfa",
   "metadata": {},
   "outputs": [
    {
     "name": "stdout",
     "output_type": "stream",
     "text": [
      "Powstala z tupli nowa lista:  [1, 2, 3, 1, 8, 1]\n",
      "Odwrocona powstala lista:  [1, 8, 1, 3, 2, 1]\n",
      "10\n",
      "6\n"
     ]
    }
   ],
   "source": [
    " def new_tuple(tpl):\n",
    "        i, j = 0, 0\n",
    "        lista = []\n",
    "        diff = []\n",
    "        for i in range(len(tpl)):\n",
    "            diff.append(sum(list(tpl[i])))\n",
    "            lista = lista + list(tpl[i])\n",
    "            i +=1\n",
    "        print(\"Powstala z tupli nowa lista: \", lista)\n",
    "        lista.reverse()\n",
    "        print(\"Odwrocona powstala lista: \", lista)\n",
    "\n",
    "\n",
    "#        for j in diff[::-1]:\n",
    "#            print(j)\n",
    "# do uzupelnienia\n",
    "\n",
    "\n",
    "#        print(\"Różnica sum wartości w dwóch tuplach: \", wynik)\n",
    "        \n",
    "tpl = ((1,2,3), (1,8,1))\n",
    "new_tuple(tpl)\n",
    "                          "
   ]
  },
  {
   "cell_type": "markdown",
   "id": "a5eb0db7",
   "metadata": {},
   "source": [
    "## SŁOWNIKI"
   ]
  },
  {
   "cell_type": "markdown",
   "id": "fac3ddb6",
   "metadata": {},
   "source": [
    "Utwórz słownik: słownik = {\"Ania\":1200, \"Ola\":1300, \"Arek\":3000} \n",
    "<br> Zaktualizuj dla niego wartość Ania:200, Arek:100\n",
    "<br> Sprawdź czy istnieje w słowniku „Ola”\n",
    "<br> Sprawdź czy ktoś zarabia 200 zł\n",
    "<br> Policz elementy słownika\n",
    "<br> Wyczyść słownik."
   ]
  },
  {
   "cell_type": "code",
   "execution_count": null,
   "id": "9426e85d",
   "metadata": {},
   "outputs": [],
   "source": []
  }
 ],
 "metadata": {
  "kernelspec": {
   "display_name": "Python 3",
   "language": "python",
   "name": "python3"
  },
  "language_info": {
   "codemirror_mode": {
    "name": "ipython",
    "version": 3
   },
   "file_extension": ".py",
   "mimetype": "text/x-python",
   "name": "python",
   "nbconvert_exporter": "python",
   "pygments_lexer": "ipython3",
   "version": "3.8.8"
  }
 },
 "nbformat": 4,
 "nbformat_minor": 5
}
