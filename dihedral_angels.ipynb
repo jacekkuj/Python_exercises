{
 "cells": [
  {
   "cell_type": "code",
   "execution_count": 4,
   "id": "1c471027",
   "metadata": {},
   "outputs": [
    {
     "name": "stdout",
     "output_type": "stream",
     "text": [
      "Computed dihedral angle =136.71 degrees\n"
     ]
    }
   ],
   "source": [
    "\"\"\"\n",
    "Dihedral angels from 2INS.pdb taken from the Protein Data Bank database.\n",
    "\"\"\"\n",
    "\n",
    "import numpy as np\n",
    "# Dihedral angles\n",
    "wall1_phecd1 = np.array([ -7.497, 20.877, -0.865]) # xyz from 2INS.pdb  atom 349\n",
    "wall1_phecd2 = np.array([ -5.644, 21.663,  0.493]) # atom 350 \n",
    "wall2_tyrcd1 = np.array([ -4.106, 13.747,  5.282]) # atom 360  \n",
    "wall2_tyrcd2 = np.array([ -1.869, 14.466,  4.723]) # atom 361  \n",
    "vec_a = wall1_phecd2 - wall1_phecd1 \n",
    "vec_b = wall2_tyrcd1 - phecd2  \n",
    "vec_c = tyrcd2 - tyrcd1 \n",
    "\n",
    "m = np.cross(vec_a,vec_b)\n",
    "n = np.cross(vec_b,vec_c)\n",
    "psi = np.sign(np.dot(vec_a,n)) * np.arccos(np.dot(n,m) / (np.sqrt(np.dot(n,n)) * np.sqrt(np.dot(m,m))))\n",
    "print('{:s}{:6.2f}{:s}'.format('Computed dihedral angle =', psi * 180 / np.pi,' degrees'))\n",
    "\n"
   ]
  },
  {
   "cell_type": "code",
   "execution_count": null,
   "id": "e2ba8d02",
   "metadata": {},
   "outputs": [],
   "source": []
  }
 ],
 "metadata": {
  "kernelspec": {
   "display_name": "Python 3",
   "language": "python",
   "name": "python3"
  },
  "language_info": {
   "codemirror_mode": {
    "name": "ipython",
    "version": 3
   },
   "file_extension": ".py",
   "mimetype": "text/x-python",
   "name": "python",
   "nbconvert_exporter": "python",
   "pygments_lexer": "ipython3",
   "version": "3.8.8"
  }
 },
 "nbformat": 4,
 "nbformat_minor": 5
}
