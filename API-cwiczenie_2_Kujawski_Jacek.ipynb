{
 "cells": [
  {
   "cell_type": "markdown",
   "id": "acfcda47",
   "metadata": {},
   "source": [
    "### API - ćwiczenia"
   ]
  },
  {
   "cell_type": "markdown",
   "id": "fdad333a",
   "metadata": {},
   "source": [
    "Zadania dotyczą API z psami. thedogapi"
   ]
  },
  {
   "cell_type": "markdown",
   "id": "9400a5f1",
   "metadata": {},
   "source": [
    "Na początek nalezy wygenerowac dla siebie API_KEY. Instrukcja: https://thedogapi.com"
   ]
  },
  {
   "cell_type": "markdown",
   "id": "ec59e5d3",
   "metadata": {},
   "source": [
    "Test"
   ]
  },
  {
   "cell_type": "code",
   "execution_count": 1,
   "id": "8b6c5547",
   "metadata": {},
   "outputs": [],
   "source": [
    "import requests"
   ]
  },
  {
   "cell_type": "code",
   "execution_count": 2,
   "id": "0d76b560",
   "metadata": {},
   "outputs": [],
   "source": [
    "response = requests.get(\"https://api.thedogapi.com/v1/images/search\")"
   ]
  },
  {
   "cell_type": "code",
   "execution_count": 3,
   "id": "1633721e",
   "metadata": {},
   "outputs": [
    {
     "data": {
      "text/plain": [
       "<Response [200]>"
      ]
     },
     "execution_count": 3,
     "metadata": {},
     "output_type": "execute_result"
    }
   ],
   "source": [
    "response.text\n",
    "response"
   ]
  },
  {
   "cell_type": "markdown",
   "id": "dc581189",
   "metadata": {},
   "source": [
    "TIP: Zeby generowac url ze strony nalezy podac tam swoje API_KEY."
   ]
  },
  {
   "cell_type": "code",
   "execution_count": 4,
   "id": "991b0919",
   "metadata": {},
   "outputs": [],
   "source": [
    "api_key='38b7a48c-bfc2-4c83-9e17-85d91338d987'"
   ]
  },
  {
   "cell_type": "markdown",
   "id": "8e0a0dc1",
   "metadata": {},
   "source": [
    "Zad.1. Korzystajac z dokumentacji podaj ile jest rodzajow ras jesli wyszuka sie po po breed=spaniel."
   ]
  },
  {
   "cell_type": "code",
   "execution_count": 5,
   "id": "f6ee41b7",
   "metadata": {},
   "outputs": [
    {
     "name": "stdout",
     "output_type": "stream",
     "text": [
      " There is 11 number of 'Spaniel' dogs gathered in database.\n"
     ]
    }
   ],
   "source": [
    "response = requests.get(\"https://api.thedogapi.com/v1/breeds\")\n",
    "response\n",
    "payload = response.json()  # `response.text` --->  JSON\n",
    "\n",
    "#import pprint\n",
    "#pp = pprint.PrettyPrinter(indent=1)\n",
    "#pp.pprint(payload)\n",
    "\n",
    "lista = []\n",
    "lista_spaniel = []\n",
    "n = 0\n",
    "for element in payload:\n",
    "    lista.append(element)\n",
    "for i in range(len(lista)):\n",
    "    lista_spaniel.append((lista[i]['name'].split()))\n",
    "for spaniel in lista_spaniel:\n",
    "    for word in spaniel:\n",
    "        if word == \"Spaniel\":\n",
    "            n +=1\n",
    "print(f\" There is {n} number of 'Spaniel' dogs gathered in database.\")\n",
    "\n",
    "#######################################\n",
    "# Znalazlem mozliwosc wyciagania 'Spaniel' jako query\n",
    "\n",
    "#import requests\n",
    "#import json\n",
    "#from requests.utils import quote\n",
    "\n",
    "#query = quote('Spaniel')\n",
    "#query = 'name=' + query\n",
    "#URL = f\"https://api.thedogapi.com/v1/breeds/search?{query}\"  # tu wstawiamy adres URL do breeds!!!!!\n",
    "#r = requests.get(URL)\n",
    "#data = json.loads(r.text)\n",
    "#data"
   ]
  },
  {
   "cell_type": "markdown",
   "id": "c5152554",
   "metadata": {},
   "source": [
    "Zad.2. Podejmij probe wyciagniecia public images - jednego badz kilku"
   ]
  },
  {
   "cell_type": "code",
   "execution_count": 10,
   "id": "bf8c666b",
   "metadata": {},
   "outputs": [],
   "source": [
    "import requests\n",
    "import json\n",
    "from PIL import Image\n",
    "from io import BytesIO\n",
    "\n",
    "URL = \"https://api.thedogapi.com/v1/images/search\"\n",
    "\n",
    "r = requests.get(URL)\n",
    "data = json.loads(r.text)\n",
    "\n",
    "response = requests.get(data[0]['url'])\n",
    "img = Image.open(BytesIO(response.content))\n",
    "\n",
    "img.show()\n"
   ]
  },
  {
   "cell_type": "code",
   "execution_count": null,
   "id": "8fa9641d",
   "metadata": {},
   "outputs": [],
   "source": [
    "\n"
   ]
  },
  {
   "cell_type": "code",
   "execution_count": null,
   "id": "601ca8d4",
   "metadata": {},
   "outputs": [],
   "source": []
  },
  {
   "cell_type": "code",
   "execution_count": null,
   "id": "9d3cb53b",
   "metadata": {},
   "outputs": [],
   "source": []
  }
 ],
 "metadata": {
  "kernelspec": {
   "display_name": "Python 3",
   "language": "python",
   "name": "python3"
  },
  "language_info": {
   "codemirror_mode": {
    "name": "ipython",
    "version": 3
   },
   "file_extension": ".py",
   "mimetype": "text/x-python",
   "name": "python",
   "nbconvert_exporter": "python",
   "pygments_lexer": "ipython3",
   "version": "3.8.8"
  }
 },
 "nbformat": 4,
 "nbformat_minor": 5
}
