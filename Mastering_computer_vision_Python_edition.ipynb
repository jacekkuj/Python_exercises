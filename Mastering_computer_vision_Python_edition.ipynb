{
  "nbformat": 4,
  "nbformat_minor": 0,
  "metadata": {
    "colab": {
      "provenance": []
    },
    "kernelspec": {
      "name": "python3",
      "display_name": "Python 3"
    },
    "language_info": {
      "name": "python"
    }
  },
  "cells": [
    {
      "cell_type": "code",
      "execution_count": 1,
      "metadata": {
        "colab": {
          "base_uri": "https://localhost:8080/"
        },
        "id": "Hfoe8gv-fAKF",
        "outputId": "8b8a1da7-4454-4f80-a8c7-29243887ce12"
      },
      "outputs": [
        {
          "output_type": "stream",
          "name": "stdout",
          "text": [
            "Mounted at /content/drive\n"
          ]
        }
      ],
      "source": [
        "from google.colab import drive\n",
        "drive.mount('/content/drive')"
      ]
    },
    {
      "cell_type": "code",
      "source": [
        "import numpy as np\n",
        "import pandas as pd"
      ],
      "metadata": {
        "id": "2uyW3BQwfArV"
      },
      "execution_count": 2,
      "outputs": []
    },
    {
      "cell_type": "code",
      "source": [
        "vector = np.array([0,255,128,64])\n",
        "vector_sum = vector + 10\n",
        "vector_normalized = vector_sum / 255\n",
        "print(\"original vector\", vector)\n",
        "print(\"vector sum\", vector_sum)\n",
        "print(\"vector normalized\", vector_normalized)"
      ],
      "metadata": {
        "colab": {
          "base_uri": "https://localhost:8080/"
        },
        "id": "CgFBkncXfAur",
        "outputId": "57ee67a6-ef6c-4010-ce38-cea294b12d8f"
      },
      "execution_count": 3,
      "outputs": [
        {
          "output_type": "stream",
          "name": "stdout",
          "text": [
            "original vector [  0 255 128  64]\n",
            "vector sum [ 10 265 138  74]\n",
            "vector normalized [0.03921569 1.03921569 0.54117647 0.29019608]\n"
          ]
        }
      ]
    },
    {
      "cell_type": "code",
      "source": [
        "image_matrix = np.array([\n",
        "    [0,128,255],\n",
        "    [64,192,128],\n",
        "    [255,0,64]\n",
        "])"
      ],
      "metadata": {
        "id": "ySyAPLwtfAwh"
      },
      "execution_count": 4,
      "outputs": []
    },
    {
      "cell_type": "code",
      "source": [
        "transformed_matrix = image_matrix + 50\n",
        "normalized_matrix = transformed_matrix / 255\n",
        "print(\"original matrix\", image_matrix)\n",
        "print(\"transformed matrix\", transformed_matrix)\n",
        "print(\"normalized matrix\", normalized_matrix)"
      ],
      "metadata": {
        "colab": {
          "base_uri": "https://localhost:8080/"
        },
        "id": "DPEr1oXkfAyG",
        "outputId": "04b86b0d-78cb-4523-9860-414fead5a853"
      },
      "execution_count": 5,
      "outputs": [
        {
          "output_type": "stream",
          "name": "stdout",
          "text": [
            "original matrix [[  0 128 255]\n",
            " [ 64 192 128]\n",
            " [255   0  64]]\n",
            "transformed matrix [[ 50 178 305]\n",
            " [114 242 178]\n",
            " [305  50 114]]\n",
            "normalized matrix [[0.19607843 0.69803922 1.19607843]\n",
            " [0.44705882 0.94901961 0.69803922]\n",
            " [1.19607843 0.19607843 0.44705882]]\n"
          ]
        }
      ]
    },
    {
      "cell_type": "code",
      "source": [
        "transposed_matrix = np.transpose(image_matrix)\n",
        "print(image_matrix)\n",
        "print(\"transposed matrix\", transposed_matrix)"
      ],
      "metadata": {
        "colab": {
          "base_uri": "https://localhost:8080/"
        },
        "id": "fWuSqs1GfAzq",
        "outputId": "a131d39a-2c5d-4838-8e23-0e4594e66c5b"
      },
      "execution_count": 6,
      "outputs": [
        {
          "output_type": "stream",
          "name": "stdout",
          "text": [
            "[[  0 128 255]\n",
            " [ 64 192 128]\n",
            " [255   0  64]]\n",
            "transposed matrix [[  0  64 255]\n",
            " [128 192   0]\n",
            " [255 128  64]]\n"
          ]
        }
      ]
    },
    {
      "cell_type": "code",
      "source": [
        "from scipy.signal import convolve2d"
      ],
      "metadata": {
        "id": "DZJQDlpUfA09"
      },
      "execution_count": 7,
      "outputs": []
    },
    {
      "cell_type": "code",
      "source": [
        "image_matrix = np.array([\n",
        "    [1,2,3],\n",
        "    [4,5,6],\n",
        "    [7,8,9]\n",
        "])\n",
        "\n",
        "filter_matrix = np.array([\n",
        "    [-1,0,1],\n",
        "    [-1,0,1],\n",
        "    [-1,0,1]\n",
        "])"
      ],
      "metadata": {
        "id": "J5Twq4BRhyYK"
      },
      "execution_count": 8,
      "outputs": []
    },
    {
      "cell_type": "code",
      "source": [
        "# apply convolution\n",
        "convolved_matrix = convolve2d(image_matrix, filter_matrix, mode='same')\n",
        "print(image_matrix)\n",
        "print(filter_matrix)\n",
        "print(convolved_matrix)"
      ],
      "metadata": {
        "colab": {
          "base_uri": "https://localhost:8080/"
        },
        "id": "p2GA2YGFhyaW",
        "outputId": "bca86428-966f-4708-9d0e-7cab8aa31441"
      },
      "execution_count": 9,
      "outputs": [
        {
          "output_type": "stream",
          "name": "stdout",
          "text": [
            "[[1 2 3]\n",
            " [4 5 6]\n",
            " [7 8 9]]\n",
            "[[-1  0  1]\n",
            " [-1  0  1]\n",
            " [-1  0  1]]\n",
            "[[ -7  -4   7]\n",
            " [-15  -6  15]\n",
            " [-13  -4  13]]\n"
          ]
        }
      ]
    },
    {
      "cell_type": "code",
      "source": [
        "# Affine transformation"
      ],
      "metadata": {
        "id": "P96CnnHOhycI"
      },
      "execution_count": 10,
      "outputs": []
    },
    {
      "cell_type": "code",
      "source": [
        "point = np.array([1, 2])\n",
        "scaling_matrix = np.array([[2,0],\n",
        "                          [0, 2]])\n",
        "scaled_point = np.dot(scaling_matrix, point)\n",
        "print(point)\n",
        "print(scaled_point)"
      ],
      "metadata": {
        "id": "MRE73vPBhyeK",
        "colab": {
          "base_uri": "https://localhost:8080/"
        },
        "outputId": "8e2591ad-0a15-4e94-8f53-da74c5b93f34"
      },
      "execution_count": 11,
      "outputs": [
        {
          "output_type": "stream",
          "name": "stdout",
          "text": [
            "[1 2]\n",
            "[2 4]\n"
          ]
        }
      ]
    },
    {
      "cell_type": "code",
      "source": [
        "# Pronciple Component Analysis (PCA)\n",
        "from sklearn.decomposition import PCA\n",
        "\n",
        "data = np.array([[1,2],\n",
        "                 [3,4],\n",
        "                 [5,6],\n",
        "                [7,8]])\n",
        "\n",
        "pca = PCA(n_components=1)\n",
        "transformed_data = pca.fit_transform(data)\n",
        "print(data)\n",
        "print(transformed_data)\n",
        "print(pca.components_)"
      ],
      "metadata": {
        "id": "uL3V2ak2hygP",
        "colab": {
          "base_uri": "https://localhost:8080/"
        },
        "outputId": "1b0768a3-8909-4343-9dcc-431ac219746a"
      },
      "execution_count": 12,
      "outputs": [
        {
          "output_type": "stream",
          "name": "stdout",
          "text": [
            "[[1 2]\n",
            " [3 4]\n",
            " [5 6]\n",
            " [7 8]]\n",
            "[[-4.24264069]\n",
            " [-1.41421356]\n",
            " [ 1.41421356]\n",
            " [ 4.24264069]]\n",
            "[[0.70710678 0.70710678]]\n"
          ]
        }
      ]
    },
    {
      "cell_type": "code",
      "source": [
        "# Eigenvalues and eigenvectors\n",
        "A = np.array([[2,1],\n",
        "                  [1,2]])\n",
        "eigenvalues, eigenvectors = np.linalg.eig(A)\n",
        "print(A)\n",
        "print(eigenvalues)\n",
        "print(eigenvectors)"
      ],
      "metadata": {
        "id": "WUXDxRGNhyiL",
        "colab": {
          "base_uri": "https://localhost:8080/"
        },
        "outputId": "ca1083dc-ce08-4963-d639-19eebb96c1f8"
      },
      "execution_count": 13,
      "outputs": [
        {
          "output_type": "stream",
          "name": "stdout",
          "text": [
            "[[2 1]\n",
            " [1 2]]\n",
            "[3. 1.]\n",
            "[[ 0.70710678 -0.70710678]\n",
            " [ 0.70710678  0.70710678]]\n"
          ]
        }
      ]
    },
    {
      "cell_type": "code",
      "source": [
        "for i in range(len(eigenvalues)):\n",
        "  eigenvalue = eigenvalues[i]\n",
        "  eigenvector = eigenvectors[:, i]\n",
        "  print(f\"Eigenvalue {i+1}: {eigenvalue}\")\n",
        "  print(f\"Eigenvector {i+1}: {eigenvector}\")"
      ],
      "metadata": {
        "id": "507P0keBhykQ",
        "colab": {
          "base_uri": "https://localhost:8080/"
        },
        "outputId": "5ac08178-8ac8-490e-bd9b-0022cccffd52"
      },
      "execution_count": 14,
      "outputs": [
        {
          "output_type": "stream",
          "name": "stdout",
          "text": [
            "Eigenvalue 1: 3.0\n",
            "Eigenvector 1: [0.70710678 0.70710678]\n",
            "Eigenvalue 2: 1.0\n",
            "Eigenvector 2: [-0.70710678  0.70710678]\n"
          ]
        }
      ]
    },
    {
      "cell_type": "code",
      "source": [
        "for i in range(len(eigenvalues)):\n",
        "  eigenvalue = eigenvalues[i]\n",
        "  eigenvector = eigenvectors[:, i]\n",
        "  Av = np.dot(A, eigenvector)\n",
        "  lambda_v = eigenvalue * eigenvector\n",
        "  print(f\"Av: {Av}\")\n",
        "  print(f\"lambda_v: {lambda_v}\")\n",
        "  print(\"Difference: \", np.allclose(Av, lambda_v))"
      ],
      "metadata": {
        "id": "ejxE-YevhymM",
        "colab": {
          "base_uri": "https://localhost:8080/"
        },
        "outputId": "22334b44-37d1-4219-f781-3e071e9a1949"
      },
      "execution_count": 15,
      "outputs": [
        {
          "output_type": "stream",
          "name": "stdout",
          "text": [
            "Av: [2.12132034 2.12132034]\n",
            "lambda_v: [2.12132034 2.12132034]\n",
            "Difference:  True\n",
            "Av: [-0.70710678  0.70710678]\n",
            "lambda_v: [-0.70710678  0.70710678]\n",
            "Difference:  True\n"
          ]
        }
      ]
    },
    {
      "cell_type": "markdown",
      "metadata": {
        "id": "c5f683ce"
      },
      "source": [
        "# Task\n",
        "Load the Excel file \"/content/drive/MyDrive/Rejestr_Produktow_Leczniczych_calosciowy_stan_na_dzien_20250914.xlsx\" into a pandas DataFrame. Iterate through the rows of the DataFrame. For each row, get the URL from the 'Charakterystyka' column, download the PDF from the URL, and save it to the 'ChPL_PDF' directory. Create the directory 'ChPL_PDF' if it doesn't already exist. Include error handling for cases where a URL is invalid or a download fails."
      ]
    },
    {
      "cell_type": "markdown",
      "metadata": {
        "id": "db5bfea5"
      },
      "source": [
        "## Load the data\n",
        "\n",
        "### Subtask:\n",
        "Load the Excel file \"/content/drive/MyDrive/Rejestr_Produktow_Leczniczych_calosciowy_stan_na_dzien_20250914.xlsx\" into a pandas DataFrame.\n"
      ]
    },
    {
      "cell_type": "markdown",
      "metadata": {
        "id": "1f46620b"
      },
      "source": [
        "**Reasoning**:\n",
        "Load the Excel file into a pandas DataFrame and display the first few rows and info to verify.\n",
        "\n"
      ]
    },
    {
      "cell_type": "code",
      "metadata": {
        "colab": {
          "base_uri": "https://localhost:8080/",
          "height": 1000
        },
        "id": "0bc068f1",
        "outputId": "536a6496-3211-4658-be15-5d0bbc997838"
      },
      "source": [
        "excel_file_path = \"/content/drive/MyDrive/Rejestr_Produktow_Leczniczych_calosciowy_stan_na_dzien_20250914.xlsx\"\n",
        "df = pd.read_excel(excel_file_path)\n",
        "display(df.head())\n",
        "df.info()"
      ],
      "execution_count": 16,
      "outputs": [
        {
          "output_type": "stream",
          "name": "stderr",
          "text": [
            "/usr/local/lib/python3.12/dist-packages/openpyxl/styles/stylesheet.py:237: UserWarning: Workbook contains no default style, apply openpyxl's default\n",
            "  warn(\"Workbook contains no default style, apply openpyxl's default\")\n"
          ]
        },
        {
          "output_type": "display_data",
          "data": {
            "text/plain": [
              "   Identyfikator Produktu Leczniczego      Nazwa Produktu Leczniczego  \\\n",
              "0                           100000014  Zoledronic acid Fresenius Kabi   \n",
              "1                           100000020                          Edelan   \n",
              "2                           100000037                        Nalgesin   \n",
              "3                           100000043                  Nalgesin Forte   \n",
              "4                           100000089                       Diprobase   \n",
              "\n",
              "  Nazwa powszechnie stosowana Rodzaj preparatu Zakaz stosowania u zwierząt  \\\n",
              "0         Acidum zoledronicum           Ludzki                         NaN   \n",
              "1           Mometasoni furoas           Ludzki                         NaN   \n",
              "2         Naproxenum natricum           Ludzki                         NaN   \n",
              "3         Naproxenum natricum           Ludzki                         NaN   \n",
              "4                           -           Ludzki                         NaN   \n",
              "\n",
              "  Nazwa poprzednia produktu Droga podania - Gatunek - Tkanka - Okres karencji  \\\n",
              "0                       NaN                                           dożylna   \n",
              "1                       NaN                                          na skórę   \n",
              "2                       NaN                                           doustna   \n",
              "3                       NaN                                           doustna   \n",
              "4                       NaN                                          na skórę   \n",
              "\n",
              "         Moc                           Postać farmaceutyczna Typ procedury  \\\n",
              "0  4 mg/5 ml  Koncentrat do sporządzania roztworu do infuzji           DCP   \n",
              "1     1 mg/g                                            Krem           NAR   \n",
              "2     275 mg                              Tabletki powlekane           DCP   \n",
              "3     550 mg                              Tabletki powlekane           DCP   \n",
              "4          -                                            Krem           NAR   \n",
              "\n",
              "   ... Kraj eksportu Podstawa prawna wniosku  \\\n",
              "0  ...           NaN    art. 15 ust. 1 pkt 2   \n",
              "1  ...           NaN         art. 15 ust. 12   \n",
              "2  ...           NaN         art. 16 ust. 1    \n",
              "3  ...           NaN         art. 16 ust. 1    \n",
              "4  ...           NaN     art. 10 ust. 1 i 2    \n",
              "\n",
              "                                              Ulotka  \\\n",
              "0  https://rejestrymedyczne.ezdrowie.gov.pl/api/r...   \n",
              "1  https://rejestrymedyczne.ezdrowie.gov.pl/api/r...   \n",
              "2  https://rejestrymedyczne.ezdrowie.gov.pl/api/r...   \n",
              "3  https://rejestrymedyczne.ezdrowie.gov.pl/api/r...   \n",
              "4  https://rejestrymedyczne.ezdrowie.gov.pl/api/r...   \n",
              "\n",
              "                                     Charakterystyka Etykieto-ulotka  \\\n",
              "0  https://rejestrymedyczne.ezdrowie.gov.pl/api/r...             NaN   \n",
              "1  https://rejestrymedyczne.ezdrowie.gov.pl/api/r...             NaN   \n",
              "2  https://rejestrymedyczne.ezdrowie.gov.pl/api/r...             NaN   \n",
              "3  https://rejestrymedyczne.ezdrowie.gov.pl/api/r...             NaN   \n",
              "4  https://rejestrymedyczne.ezdrowie.gov.pl/api/r...             NaN   \n",
              "\n",
              "  Ulotka importu równoległego Etykieto-ulotka importu równoległego  \\\n",
              "0                         NaN                                  NaN   \n",
              "1                         NaN                                  NaN   \n",
              "2                         NaN                                  NaN   \n",
              "3                         NaN                                  NaN   \n",
              "4                         NaN                                  NaN   \n",
              "\n",
              "  Oznakowanie opakowań importu równoległego  \\\n",
              "0                                       NaN   \n",
              "1                                       NaN   \n",
              "2                                       NaN   \n",
              "3                                       NaN   \n",
              "4                                       NaN   \n",
              "\n",
              "  Narzędzia edukacyjne dla osoby wykonującej zawód medyczny  \\\n",
              "0                                                NaN          \n",
              "1                                                NaN          \n",
              "2                                                NaN          \n",
              "3                                                NaN          \n",
              "4                                                NaN          \n",
              "\n",
              "  Narzędzia edukacyjne dla pacjenta  \n",
              "0                               NaN  \n",
              "1                               NaN  \n",
              "2                               NaN  \n",
              "3                               NaN  \n",
              "4                               NaN  \n",
              "\n",
              "[5 rows x 33 columns]"
            ],
            "text/html": [
              "\n",
              "  <div id=\"df-73731da5-928c-460a-9552-9bac22c70d6f\" class=\"colab-df-container\">\n",
              "    <div>\n",
              "<style scoped>\n",
              "    .dataframe tbody tr th:only-of-type {\n",
              "        vertical-align: middle;\n",
              "    }\n",
              "\n",
              "    .dataframe tbody tr th {\n",
              "        vertical-align: top;\n",
              "    }\n",
              "\n",
              "    .dataframe thead th {\n",
              "        text-align: right;\n",
              "    }\n",
              "</style>\n",
              "<table border=\"1\" class=\"dataframe\">\n",
              "  <thead>\n",
              "    <tr style=\"text-align: right;\">\n",
              "      <th></th>\n",
              "      <th>Identyfikator Produktu Leczniczego</th>\n",
              "      <th>Nazwa Produktu Leczniczego</th>\n",
              "      <th>Nazwa powszechnie stosowana</th>\n",
              "      <th>Rodzaj preparatu</th>\n",
              "      <th>Zakaz stosowania u zwierząt</th>\n",
              "      <th>Nazwa poprzednia produktu</th>\n",
              "      <th>Droga podania - Gatunek - Tkanka - Okres karencji</th>\n",
              "      <th>Moc</th>\n",
              "      <th>Postać farmaceutyczna</th>\n",
              "      <th>Typ procedury</th>\n",
              "      <th>...</th>\n",
              "      <th>Kraj eksportu</th>\n",
              "      <th>Podstawa prawna wniosku</th>\n",
              "      <th>Ulotka</th>\n",
              "      <th>Charakterystyka</th>\n",
              "      <th>Etykieto-ulotka</th>\n",
              "      <th>Ulotka importu równoległego</th>\n",
              "      <th>Etykieto-ulotka importu równoległego</th>\n",
              "      <th>Oznakowanie opakowań importu równoległego</th>\n",
              "      <th>Narzędzia edukacyjne dla osoby wykonującej zawód medyczny</th>\n",
              "      <th>Narzędzia edukacyjne dla pacjenta</th>\n",
              "    </tr>\n",
              "  </thead>\n",
              "  <tbody>\n",
              "    <tr>\n",
              "      <th>0</th>\n",
              "      <td>100000014</td>\n",
              "      <td>Zoledronic acid Fresenius Kabi</td>\n",
              "      <td>Acidum zoledronicum</td>\n",
              "      <td>Ludzki</td>\n",
              "      <td>NaN</td>\n",
              "      <td>NaN</td>\n",
              "      <td>dożylna</td>\n",
              "      <td>4 mg/5 ml</td>\n",
              "      <td>Koncentrat do sporządzania roztworu do infuzji</td>\n",
              "      <td>DCP</td>\n",
              "      <td>...</td>\n",
              "      <td>NaN</td>\n",
              "      <td>art. 15 ust. 1 pkt 2</td>\n",
              "      <td>https://rejestrymedyczne.ezdrowie.gov.pl/api/r...</td>\n",
              "      <td>https://rejestrymedyczne.ezdrowie.gov.pl/api/r...</td>\n",
              "      <td>NaN</td>\n",
              "      <td>NaN</td>\n",
              "      <td>NaN</td>\n",
              "      <td>NaN</td>\n",
              "      <td>NaN</td>\n",
              "      <td>NaN</td>\n",
              "    </tr>\n",
              "    <tr>\n",
              "      <th>1</th>\n",
              "      <td>100000020</td>\n",
              "      <td>Edelan</td>\n",
              "      <td>Mometasoni furoas</td>\n",
              "      <td>Ludzki</td>\n",
              "      <td>NaN</td>\n",
              "      <td>NaN</td>\n",
              "      <td>na skórę</td>\n",
              "      <td>1 mg/g</td>\n",
              "      <td>Krem</td>\n",
              "      <td>NAR</td>\n",
              "      <td>...</td>\n",
              "      <td>NaN</td>\n",
              "      <td>art. 15 ust. 12</td>\n",
              "      <td>https://rejestrymedyczne.ezdrowie.gov.pl/api/r...</td>\n",
              "      <td>https://rejestrymedyczne.ezdrowie.gov.pl/api/r...</td>\n",
              "      <td>NaN</td>\n",
              "      <td>NaN</td>\n",
              "      <td>NaN</td>\n",
              "      <td>NaN</td>\n",
              "      <td>NaN</td>\n",
              "      <td>NaN</td>\n",
              "    </tr>\n",
              "    <tr>\n",
              "      <th>2</th>\n",
              "      <td>100000037</td>\n",
              "      <td>Nalgesin</td>\n",
              "      <td>Naproxenum natricum</td>\n",
              "      <td>Ludzki</td>\n",
              "      <td>NaN</td>\n",
              "      <td>NaN</td>\n",
              "      <td>doustna</td>\n",
              "      <td>275 mg</td>\n",
              "      <td>Tabletki powlekane</td>\n",
              "      <td>DCP</td>\n",
              "      <td>...</td>\n",
              "      <td>NaN</td>\n",
              "      <td>art. 16 ust. 1</td>\n",
              "      <td>https://rejestrymedyczne.ezdrowie.gov.pl/api/r...</td>\n",
              "      <td>https://rejestrymedyczne.ezdrowie.gov.pl/api/r...</td>\n",
              "      <td>NaN</td>\n",
              "      <td>NaN</td>\n",
              "      <td>NaN</td>\n",
              "      <td>NaN</td>\n",
              "      <td>NaN</td>\n",
              "      <td>NaN</td>\n",
              "    </tr>\n",
              "    <tr>\n",
              "      <th>3</th>\n",
              "      <td>100000043</td>\n",
              "      <td>Nalgesin Forte</td>\n",
              "      <td>Naproxenum natricum</td>\n",
              "      <td>Ludzki</td>\n",
              "      <td>NaN</td>\n",
              "      <td>NaN</td>\n",
              "      <td>doustna</td>\n",
              "      <td>550 mg</td>\n",
              "      <td>Tabletki powlekane</td>\n",
              "      <td>DCP</td>\n",
              "      <td>...</td>\n",
              "      <td>NaN</td>\n",
              "      <td>art. 16 ust. 1</td>\n",
              "      <td>https://rejestrymedyczne.ezdrowie.gov.pl/api/r...</td>\n",
              "      <td>https://rejestrymedyczne.ezdrowie.gov.pl/api/r...</td>\n",
              "      <td>NaN</td>\n",
              "      <td>NaN</td>\n",
              "      <td>NaN</td>\n",
              "      <td>NaN</td>\n",
              "      <td>NaN</td>\n",
              "      <td>NaN</td>\n",
              "    </tr>\n",
              "    <tr>\n",
              "      <th>4</th>\n",
              "      <td>100000089</td>\n",
              "      <td>Diprobase</td>\n",
              "      <td>-</td>\n",
              "      <td>Ludzki</td>\n",
              "      <td>NaN</td>\n",
              "      <td>NaN</td>\n",
              "      <td>na skórę</td>\n",
              "      <td>-</td>\n",
              "      <td>Krem</td>\n",
              "      <td>NAR</td>\n",
              "      <td>...</td>\n",
              "      <td>NaN</td>\n",
              "      <td>art. 10 ust. 1 i 2</td>\n",
              "      <td>https://rejestrymedyczne.ezdrowie.gov.pl/api/r...</td>\n",
              "      <td>https://rejestrymedyczne.ezdrowie.gov.pl/api/r...</td>\n",
              "      <td>NaN</td>\n",
              "      <td>NaN</td>\n",
              "      <td>NaN</td>\n",
              "      <td>NaN</td>\n",
              "      <td>NaN</td>\n",
              "      <td>NaN</td>\n",
              "    </tr>\n",
              "  </tbody>\n",
              "</table>\n",
              "<p>5 rows × 33 columns</p>\n",
              "</div>\n",
              "    <div class=\"colab-df-buttons\">\n",
              "\n",
              "  <div class=\"colab-df-container\">\n",
              "    <button class=\"colab-df-convert\" onclick=\"convertToInteractive('df-73731da5-928c-460a-9552-9bac22c70d6f')\"\n",
              "            title=\"Convert this dataframe to an interactive table.\"\n",
              "            style=\"display:none;\">\n",
              "\n",
              "  <svg xmlns=\"http://www.w3.org/2000/svg\" height=\"24px\" viewBox=\"0 -960 960 960\">\n",
              "    <path d=\"M120-120v-720h720v720H120Zm60-500h600v-160H180v160Zm220 220h160v-160H400v160Zm0 220h160v-160H400v160ZM180-400h160v-160H180v160Zm440 0h160v-160H620v160ZM180-180h160v-160H180v160Zm440 0h160v-160H620v160Z\"/>\n",
              "  </svg>\n",
              "    </button>\n",
              "\n",
              "  <style>\n",
              "    .colab-df-container {\n",
              "      display:flex;\n",
              "      gap: 12px;\n",
              "    }\n",
              "\n",
              "    .colab-df-convert {\n",
              "      background-color: #E8F0FE;\n",
              "      border: none;\n",
              "      border-radius: 50%;\n",
              "      cursor: pointer;\n",
              "      display: none;\n",
              "      fill: #1967D2;\n",
              "      height: 32px;\n",
              "      padding: 0 0 0 0;\n",
              "      width: 32px;\n",
              "    }\n",
              "\n",
              "    .colab-df-convert:hover {\n",
              "      background-color: #E2EBFA;\n",
              "      box-shadow: 0px 1px 2px rgba(60, 64, 67, 0.3), 0px 1px 3px 1px rgba(60, 64, 67, 0.15);\n",
              "      fill: #174EA6;\n",
              "    }\n",
              "\n",
              "    .colab-df-buttons div {\n",
              "      margin-bottom: 4px;\n",
              "    }\n",
              "\n",
              "    [theme=dark] .colab-df-convert {\n",
              "      background-color: #3B4455;\n",
              "      fill: #D2E3FC;\n",
              "    }\n",
              "\n",
              "    [theme=dark] .colab-df-convert:hover {\n",
              "      background-color: #434B5C;\n",
              "      box-shadow: 0px 1px 3px 1px rgba(0, 0, 0, 0.15);\n",
              "      filter: drop-shadow(0px 1px 2px rgba(0, 0, 0, 0.3));\n",
              "      fill: #FFFFFF;\n",
              "    }\n",
              "  </style>\n",
              "\n",
              "    <script>\n",
              "      const buttonEl =\n",
              "        document.querySelector('#df-73731da5-928c-460a-9552-9bac22c70d6f button.colab-df-convert');\n",
              "      buttonEl.style.display =\n",
              "        google.colab.kernel.accessAllowed ? 'block' : 'none';\n",
              "\n",
              "      async function convertToInteractive(key) {\n",
              "        const element = document.querySelector('#df-73731da5-928c-460a-9552-9bac22c70d6f');\n",
              "        const dataTable =\n",
              "          await google.colab.kernel.invokeFunction('convertToInteractive',\n",
              "                                                    [key], {});\n",
              "        if (!dataTable) return;\n",
              "\n",
              "        const docLinkHtml = 'Like what you see? Visit the ' +\n",
              "          '<a target=\"_blank\" href=https://colab.research.google.com/notebooks/data_table.ipynb>data table notebook</a>'\n",
              "          + ' to learn more about interactive tables.';\n",
              "        element.innerHTML = '';\n",
              "        dataTable['output_type'] = 'display_data';\n",
              "        await google.colab.output.renderOutput(dataTable, element);\n",
              "        const docLink = document.createElement('div');\n",
              "        docLink.innerHTML = docLinkHtml;\n",
              "        element.appendChild(docLink);\n",
              "      }\n",
              "    </script>\n",
              "  </div>\n",
              "\n",
              "\n",
              "    <div id=\"df-632dfaf7-fd72-4ff4-a76c-bf4d2ec69a08\">\n",
              "      <button class=\"colab-df-quickchart\" onclick=\"quickchart('df-632dfaf7-fd72-4ff4-a76c-bf4d2ec69a08')\"\n",
              "                title=\"Suggest charts\"\n",
              "                style=\"display:none;\">\n",
              "\n",
              "<svg xmlns=\"http://www.w3.org/2000/svg\" height=\"24px\"viewBox=\"0 0 24 24\"\n",
              "     width=\"24px\">\n",
              "    <g>\n",
              "        <path d=\"M19 3H5c-1.1 0-2 .9-2 2v14c0 1.1.9 2 2 2h14c1.1 0 2-.9 2-2V5c0-1.1-.9-2-2-2zM9 17H7v-7h2v7zm4 0h-2V7h2v10zm4 0h-2v-4h2v4z\"/>\n",
              "    </g>\n",
              "</svg>\n",
              "      </button>\n",
              "\n",
              "<style>\n",
              "  .colab-df-quickchart {\n",
              "      --bg-color: #E8F0FE;\n",
              "      --fill-color: #1967D2;\n",
              "      --hover-bg-color: #E2EBFA;\n",
              "      --hover-fill-color: #174EA6;\n",
              "      --disabled-fill-color: #AAA;\n",
              "      --disabled-bg-color: #DDD;\n",
              "  }\n",
              "\n",
              "  [theme=dark] .colab-df-quickchart {\n",
              "      --bg-color: #3B4455;\n",
              "      --fill-color: #D2E3FC;\n",
              "      --hover-bg-color: #434B5C;\n",
              "      --hover-fill-color: #FFFFFF;\n",
              "      --disabled-bg-color: #3B4455;\n",
              "      --disabled-fill-color: #666;\n",
              "  }\n",
              "\n",
              "  .colab-df-quickchart {\n",
              "    background-color: var(--bg-color);\n",
              "    border: none;\n",
              "    border-radius: 50%;\n",
              "    cursor: pointer;\n",
              "    display: none;\n",
              "    fill: var(--fill-color);\n",
              "    height: 32px;\n",
              "    padding: 0;\n",
              "    width: 32px;\n",
              "  }\n",
              "\n",
              "  .colab-df-quickchart:hover {\n",
              "    background-color: var(--hover-bg-color);\n",
              "    box-shadow: 0 1px 2px rgba(60, 64, 67, 0.3), 0 1px 3px 1px rgba(60, 64, 67, 0.15);\n",
              "    fill: var(--button-hover-fill-color);\n",
              "  }\n",
              "\n",
              "  .colab-df-quickchart-complete:disabled,\n",
              "  .colab-df-quickchart-complete:disabled:hover {\n",
              "    background-color: var(--disabled-bg-color);\n",
              "    fill: var(--disabled-fill-color);\n",
              "    box-shadow: none;\n",
              "  }\n",
              "\n",
              "  .colab-df-spinner {\n",
              "    border: 2px solid var(--fill-color);\n",
              "    border-color: transparent;\n",
              "    border-bottom-color: var(--fill-color);\n",
              "    animation:\n",
              "      spin 1s steps(1) infinite;\n",
              "  }\n",
              "\n",
              "  @keyframes spin {\n",
              "    0% {\n",
              "      border-color: transparent;\n",
              "      border-bottom-color: var(--fill-color);\n",
              "      border-left-color: var(--fill-color);\n",
              "    }\n",
              "    20% {\n",
              "      border-color: transparent;\n",
              "      border-left-color: var(--fill-color);\n",
              "      border-top-color: var(--fill-color);\n",
              "    }\n",
              "    30% {\n",
              "      border-color: transparent;\n",
              "      border-left-color: var(--fill-color);\n",
              "      border-top-color: var(--fill-color);\n",
              "      border-right-color: var(--fill-color);\n",
              "    }\n",
              "    40% {\n",
              "      border-color: transparent;\n",
              "      border-right-color: var(--fill-color);\n",
              "      border-top-color: var(--fill-color);\n",
              "    }\n",
              "    60% {\n",
              "      border-color: transparent;\n",
              "      border-right-color: var(--fill-color);\n",
              "    }\n",
              "    80% {\n",
              "      border-color: transparent;\n",
              "      border-right-color: var(--fill-color);\n",
              "      border-bottom-color: var(--fill-color);\n",
              "    }\n",
              "    90% {\n",
              "      border-color: transparent;\n",
              "      border-bottom-color: var(--fill-color);\n",
              "    }\n",
              "  }\n",
              "</style>\n",
              "\n",
              "      <script>\n",
              "        async function quickchart(key) {\n",
              "          const quickchartButtonEl =\n",
              "            document.querySelector('#' + key + ' button');\n",
              "          quickchartButtonEl.disabled = true;  // To prevent multiple clicks.\n",
              "          quickchartButtonEl.classList.add('colab-df-spinner');\n",
              "          try {\n",
              "            const charts = await google.colab.kernel.invokeFunction(\n",
              "                'suggestCharts', [key], {});\n",
              "          } catch (error) {\n",
              "            console.error('Error during call to suggestCharts:', error);\n",
              "          }\n",
              "          quickchartButtonEl.classList.remove('colab-df-spinner');\n",
              "          quickchartButtonEl.classList.add('colab-df-quickchart-complete');\n",
              "        }\n",
              "        (() => {\n",
              "          let quickchartButtonEl =\n",
              "            document.querySelector('#df-632dfaf7-fd72-4ff4-a76c-bf4d2ec69a08 button');\n",
              "          quickchartButtonEl.style.display =\n",
              "            google.colab.kernel.accessAllowed ? 'block' : 'none';\n",
              "        })();\n",
              "      </script>\n",
              "    </div>\n",
              "\n",
              "    </div>\n",
              "  </div>\n"
            ],
            "application/vnd.google.colaboratory.intrinsic+json": {
              "type": "dataframe"
            }
          },
          "metadata": {}
        },
        {
          "output_type": "stream",
          "name": "stdout",
          "text": [
            "<class 'pandas.core.frame.DataFrame'>\n",
            "RangeIndex: 22514 entries, 0 to 22513\n",
            "Data columns (total 33 columns):\n",
            " #   Column                                                     Non-Null Count  Dtype \n",
            "---  ------                                                     --------------  ----- \n",
            " 0   Identyfikator Produktu Leczniczego                         22514 non-null  int64 \n",
            " 1   Nazwa Produktu Leczniczego                                 22514 non-null  object\n",
            " 2   Nazwa powszechnie stosowana                                22499 non-null  object\n",
            " 3   Rodzaj preparatu                                           22514 non-null  object\n",
            " 4   Zakaz stosowania u zwierząt                                166 non-null    object\n",
            " 5   Nazwa poprzednia produktu                                  1329 non-null   object\n",
            " 6   Droga podania - Gatunek - Tkanka - Okres karencji          22457 non-null  object\n",
            " 7   Moc                                                        22379 non-null  object\n",
            " 8   Postać farmaceutyczna                                      22514 non-null  object\n",
            " 9   Typ procedury                                              22514 non-null  object\n",
            " 10  Numer pozwolenia                                           18813 non-null  object\n",
            " 11  Ważność pozwolenia                                         18443 non-null  object\n",
            " 12  Kod ATC                                                    21389 non-null  object\n",
            " 13  Podmiot odpowiedzialny                                     22504 non-null  object\n",
            " 14  Opakowanie                                                 22503 non-null  object\n",
            " 15  Substancja czynna                                          21342 non-null  object\n",
            " 16  Nazwa wytwórcy                                             14042 non-null  object\n",
            " 17  Kraj wytwórcy                                              14042 non-null  object\n",
            " 18  Nazwa importera                                            1501 non-null   object\n",
            " 19  Kraj importera                                             1501 non-null   object\n",
            " 20  Nazwa wytwórcy/importera                                   18172 non-null  object\n",
            " 21  Kraj wytwórcy/importera                                    18172 non-null  object\n",
            " 22  Podmiot odpowiedzialny w kraju eksportu                    4332 non-null   object\n",
            " 23  Kraj eksportu                                              4332 non-null   object\n",
            " 24  Podstawa prawna wniosku                                    13816 non-null  object\n",
            " 25  Ulotka                                                     13201 non-null  object\n",
            " 26  Charakterystyka                                            13345 non-null  object\n",
            " 27  Etykieto-ulotka                                            90 non-null     object\n",
            " 28  Ulotka importu równoległego                                2537 non-null   object\n",
            " 29  Etykieto-ulotka importu równoległego                       33 non-null     object\n",
            " 30  Oznakowanie opakowań importu równoległego                  2365 non-null   object\n",
            " 31  Narzędzia edukacyjne dla osoby wykonującej zawód medyczny  750 non-null    object\n",
            " 32  Narzędzia edukacyjne dla pacjenta                          768 non-null    object\n",
            "dtypes: int64(1), object(32)\n",
            "memory usage: 5.7+ MB\n"
          ]
        }
      ]
    },
    {
      "cell_type": "markdown",
      "metadata": {
        "id": "ad35cab2"
      },
      "source": [
        "## Create output directory\n",
        "\n",
        "### Subtask:\n",
        "Create the directory 'ChPL_PDF' if it doesn't already exist.\n"
      ]
    },
    {
      "cell_type": "markdown",
      "metadata": {
        "id": "45c94e78"
      },
      "source": [
        "**Reasoning**:\n",
        "Create the output directory for storing the downloaded PDFs if it doesn't already exist.\n",
        "\n"
      ]
    },
    {
      "cell_type": "code",
      "metadata": {
        "colab": {
          "base_uri": "https://localhost:8080/"
        },
        "id": "60df5cce",
        "outputId": "6e4e78f2-7450-41fa-e401-3150a7251ba6"
      },
      "source": [
        "import os\n",
        "\n",
        "output_dir = 'ChPL_PDF'\n",
        "os.makedirs(output_dir, exist_ok=True)\n",
        "print(f\"Directory '{output_dir}' created or already exists.\")"
      ],
      "execution_count": 17,
      "outputs": [
        {
          "output_type": "stream",
          "name": "stdout",
          "text": [
            "Directory 'ChPL_PDF' created or already exists.\n"
          ]
        }
      ]
    },
    {
      "cell_type": "markdown",
      "metadata": {
        "id": "eb8cb03a"
      },
      "source": [
        "## Iterate and download\n",
        "\n",
        "### Subtask:\n",
        "Iterate through the rows of the DataFrame. For each row, get the URL from the 'Charakterystyka' column, download the PDF from the URL, and save it to the 'ChPL_PDF' directory.\n"
      ]
    },
    {
      "cell_type": "markdown",
      "metadata": {
        "id": "c161d632"
      },
      "source": [
        "**Reasoning**:\n",
        "Iterate through the DataFrame, extract URLs, download PDFs, and save them to the specified directory, handling potential errors.\n",
        "\n"
      ]
    },
    {
      "cell_type": "code",
      "metadata": {
        "id": "6febb7d4"
      },
      "source": [
        "# import requests\n",
        "# import re\n",
        "\n",
        "# output_dir = 'ChPL_PDF'\n",
        "\n",
        "# for index, row in df.iterrows():\n",
        "#     url = row['Charakterystyka']\n",
        "#     product_id = row['Identyfikator Produktu Leczniczego']\n",
        "#     product_name = row['Nazwa Produktu Leczniczego']\n",
        "\n",
        "#     if isinstance(url, str) and url:\n",
        "#         try:\n",
        "#             # Sanitize the product name for use in the filename\n",
        "#             sanitized_name = re.sub(r'[^\\w\\-_\\. ]', '', str(product_name))\n",
        "#             filename = f\"{product_id}_{sanitized_name}.pdf\"\n",
        "#             filepath = os.path.join(output_dir, filename)\n",
        "\n",
        "#             response = requests.get(url, stream=True, timeout=10)\n",
        "#             response.raise_for_status()  # Raise an HTTPError for bad responses (4xx or 5xx)\n",
        "\n",
        "#             with open(filepath, 'wb') as pdf_file:\n",
        "#                 for chunk in response.iter_content(chunk_size=8192):\n",
        "#                     pdf_file.write(chunk)\n",
        "\n",
        "#             print(f\"Successfully downloaded and saved: {filename}\")\n",
        "\n",
        "#         except requests.exceptions.RequestException as e:\n",
        "#             print(f\"Error downloading {url}: {e}\")\n",
        "#         except IOError as e:\n",
        "#             print(f\"Error writing file {filepath}: {e}\")\n",
        "#         except Exception as e:\n",
        "#             print(f\"An unexpected error occurred for URL {url}: {e}\")\n",
        "#     else:\n",
        "#         print(f\"Skipping row {index}: Invalid or missing URL in 'Charakterystyka' column.\")\n"
      ],
      "execution_count": 19,
      "outputs": []
    },
    {
      "cell_type": "code",
      "source": [
        "# !cp -r /content/ChPL_PDF /content/drive/MyDrive/"
      ],
      "metadata": {
        "id": "LtVxWs98M29b"
      },
      "execution_count": 20,
      "outputs": []
    },
    {
      "cell_type": "code",
      "source": [
        "# Singular Value Decomposition (SVD)"
      ],
      "metadata": {
        "id": "6aZiQOk1hyn-"
      },
      "execution_count": 21,
      "outputs": []
    },
    {
      "cell_type": "code",
      "source": [
        "A = np.array([\n",
        "    [1,2,3],\n",
        "    [4,5,6],\n",
        "    [7,8,9]\n",
        "])"
      ],
      "metadata": {
        "id": "tfLUKZUzRgGa"
      },
      "execution_count": 23,
      "outputs": []
    },
    {
      "cell_type": "code",
      "source": [
        "A"
      ],
      "metadata": {
        "colab": {
          "base_uri": "https://localhost:8080/"
        },
        "id": "MFAtzwulRhTZ",
        "outputId": "f204640d-7bf7-4a16-d2b2-43dc3c9c07f7"
      },
      "execution_count": 24,
      "outputs": [
        {
          "output_type": "execute_result",
          "data": {
            "text/plain": [
              "array([[1, 2, 3],\n",
              "       [4, 5, 6],\n",
              "       [7, 8, 9]])"
            ]
          },
          "metadata": {},
          "execution_count": 24
        }
      ]
    },
    {
      "cell_type": "code",
      "source": [
        "U, Sigma, VT = np.linalg.svd(A) # Perform Singular Value Decomposition\n",
        "U"
      ],
      "metadata": {
        "colab": {
          "base_uri": "https://localhost:8080/"
        },
        "id": "Ug43fiCbRhV6",
        "outputId": "c4b5a1f0-a66f-4494-9e69-8305ad0f185d"
      },
      "execution_count": 32,
      "outputs": [
        {
          "output_type": "execute_result",
          "data": {
            "text/plain": [
              "array([[-0.21483724,  0.88723069,  0.40824829],\n",
              "       [-0.52058739,  0.24964395, -0.81649658],\n",
              "       [-0.82633754, -0.38794278,  0.40824829]])"
            ]
          },
          "metadata": {},
          "execution_count": 32
        }
      ]
    },
    {
      "cell_type": "code",
      "source": [
        "Sigma"
      ],
      "metadata": {
        "colab": {
          "base_uri": "https://localhost:8080/"
        },
        "id": "Rj3so5ajRhYC",
        "outputId": "ab192a89-91f2-4ad6-aea3-cd67acd90c26"
      },
      "execution_count": 33,
      "outputs": [
        {
          "output_type": "execute_result",
          "data": {
            "text/plain": [
              "array([1.68481034e+01, 1.06836951e+00, 4.41842475e-16])"
            ]
          },
          "metadata": {},
          "execution_count": 33
        }
      ]
    },
    {
      "cell_type": "code",
      "source": [
        "VT"
      ],
      "metadata": {
        "colab": {
          "base_uri": "https://localhost:8080/"
        },
        "id": "klt9g7SPRhaT",
        "outputId": "f3ac2fc0-c38c-4e59-a527-a4be2d531b23"
      },
      "execution_count": 34,
      "outputs": [
        {
          "output_type": "execute_result",
          "data": {
            "text/plain": [
              "array([[-0.47967118, -0.57236779, -0.66506441],\n",
              "       [-0.77669099, -0.07568647,  0.62531805],\n",
              "       [-0.40824829,  0.81649658, -0.40824829]])"
            ]
          },
          "metadata": {},
          "execution_count": 34
        }
      ]
    },
    {
      "cell_type": "code",
      "source": [
        "# Convert Sigma to a diagonal matrix\n",
        "Sigma_matrix = np.zeros((A.shape[0], A.shape[1]))\n",
        "Sigma_matrix"
      ],
      "metadata": {
        "colab": {
          "base_uri": "https://localhost:8080/"
        },
        "id": "X9xAijThRhcb",
        "outputId": "1d0728ee-4be4-401a-9051-b0279ea36d6d"
      },
      "execution_count": 35,
      "outputs": [
        {
          "output_type": "execute_result",
          "data": {
            "text/plain": [
              "array([[0., 0., 0.],\n",
              "       [0., 0., 0.],\n",
              "       [0., 0., 0.]])"
            ]
          },
          "metadata": {},
          "execution_count": 35
        }
      ]
    },
    {
      "cell_type": "code",
      "source": [
        "Sigma_matrix[:len(Sigma), :len(Sigma)] = np.diag(Sigma)"
      ],
      "metadata": {
        "id": "e9JoFOHKUjIA"
      },
      "execution_count": 36,
      "outputs": []
    },
    {
      "cell_type": "code",
      "source": [
        "print(\"Original Matrix A:\\n\", U)\n",
        "print(\"Left Singular Vectors (U):\\n\", U)\n",
        "print(\"Right Singular Vectors Transposed (VT):\\n\", VT)\n",
        "print(\"Reconstructed Matrix A using SVD:\\n\", np.dot(U, np.dot(Sigma_matrix, VT)))"
      ],
      "metadata": {
        "colab": {
          "base_uri": "https://localhost:8080/"
        },
        "id": "6Fipa6H9Rher",
        "outputId": "5fa63e5a-003d-4890-c0bd-921b26a2da8b"
      },
      "execution_count": 38,
      "outputs": [
        {
          "output_type": "stream",
          "name": "stdout",
          "text": [
            "Original Matrix A:\n",
            " [[-0.21483724  0.88723069  0.40824829]\n",
            " [-0.52058739  0.24964395 -0.81649658]\n",
            " [-0.82633754 -0.38794278  0.40824829]]\n",
            "Left Singular Vectors (U):\n",
            " [[-0.21483724  0.88723069  0.40824829]\n",
            " [-0.52058739  0.24964395 -0.81649658]\n",
            " [-0.82633754 -0.38794278  0.40824829]]\n",
            "Right Singular Vectors Transposed (VT):\n",
            " [[-0.47967118 -0.57236779 -0.66506441]\n",
            " [-0.77669099 -0.07568647  0.62531805]\n",
            " [-0.40824829  0.81649658 -0.40824829]]\n",
            "Reconstructed Matrix A using SVD:\n",
            " [[1. 2. 3.]\n",
            " [4. 5. 6.]\n",
            " [7. 8. 9.]]\n"
          ]
        }
      ]
    },
    {
      "cell_type": "code",
      "source": [
        "# Calculus in Image Processing"
      ],
      "metadata": {
        "id": "vFlO7zJqRhgm"
      },
      "execution_count": 39,
      "outputs": []
    },
    {
      "cell_type": "code",
      "source": [
        "import numpy as np\n",
        "import matplotlib.pyplot as plt\n",
        "from scipy.ndimage import sobel"
      ],
      "metadata": {
        "id": "edGTG7wIRhir"
      },
      "execution_count": 40,
      "outputs": []
    },
    {
      "cell_type": "code",
      "source": [
        "image = np.array([\n",
        "    [10,20,30,40],\n",
        "    [50,60,70,80],\n",
        "    [90,100,110,120],\n",
        "    [130,140,150,160]\n",
        "], dtype=float)"
      ],
      "metadata": {
        "id": "aCaln9tbRhkq"
      },
      "execution_count": 41,
      "outputs": []
    },
    {
      "cell_type": "code",
      "source": [
        "image"
      ],
      "metadata": {
        "colab": {
          "base_uri": "https://localhost:8080/"
        },
        "id": "4_Ymw8xVRhml",
        "outputId": "3500721f-46a9-4111-c8e1-8e56bfe383af"
      },
      "execution_count": 42,
      "outputs": [
        {
          "output_type": "execute_result",
          "data": {
            "text/plain": [
              "array([[ 10.,  20.,  30.,  40.],\n",
              "       [ 50.,  60.,  70.,  80.],\n",
              "       [ 90., 100., 110., 120.],\n",
              "       [130., 140., 150., 160.]])"
            ]
          },
          "metadata": {},
          "execution_count": 42
        }
      ]
    },
    {
      "cell_type": "code",
      "source": [
        "# Compute gradients using Sobel operators"
      ],
      "metadata": {
        "id": "Ar35GFPbRhoF"
      },
      "execution_count": 43,
      "outputs": []
    },
    {
      "cell_type": "code",
      "source": [
        "gradient_x = sobel(image, axis=0) #  Gradient in x direction\n",
        "gradient_y = sobel(image, axis=1) # Gradient in y direction"
      ],
      "metadata": {
        "id": "L4GLefwJRhqd"
      },
      "execution_count": 44,
      "outputs": []
    },
    {
      "cell_type": "code",
      "source": [
        "gradient_magnitude = np.sqrt(gradient_x**2 + gradient_y**2)\n",
        "gradient_direction = np.arctan2(gradient_y, gradient_x) # Direction of gradient"
      ],
      "metadata": {
        "id": "PkZBsVo9Rhsn"
      },
      "execution_count": 46,
      "outputs": []
    },
    {
      "cell_type": "code",
      "source": [
        "gradient_magnitude"
      ],
      "metadata": {
        "colab": {
          "base_uri": "https://localhost:8080/"
        },
        "id": "OewOhjOvgezG",
        "outputId": "4b17af66-f392-4de6-d5ed-80d3545c1651"
      },
      "execution_count": 47,
      "outputs": [
        {
          "output_type": "execute_result",
          "data": {
            "text/plain": [
              "array([[164.92422502, 178.8854382 , 178.8854382 , 164.92422502],\n",
              "       [322.49030993, 329.84845005, 329.84845005, 322.49030993],\n",
              "       [322.49030993, 329.84845005, 329.84845005, 322.49030993],\n",
              "       [164.92422502, 178.8854382 , 178.8854382 , 164.92422502]])"
            ]
          },
          "metadata": {},
          "execution_count": 47
        }
      ]
    },
    {
      "cell_type": "code",
      "source": [
        "gradient_direction"
      ],
      "metadata": {
        "colab": {
          "base_uri": "https://localhost:8080/"
        },
        "id": "r1TFwGavgm6U",
        "outputId": "324a524d-918e-49dc-dcff-13848084345e"
      },
      "execution_count": 48,
      "outputs": [
        {
          "output_type": "execute_result",
          "data": {
            "text/plain": [
              "array([[0.24497866, 0.46364761, 0.46364761, 0.24497866],\n",
              "       [0.12435499, 0.24497866, 0.24497866, 0.12435499],\n",
              "       [0.12435499, 0.24497866, 0.24497866, 0.12435499],\n",
              "       [0.24497866, 0.46364761, 0.46364761, 0.24497866]])"
            ]
          },
          "metadata": {},
          "execution_count": 48
        }
      ]
    },
    {
      "cell_type": "code",
      "source": [
        "fig, axes = plt.subplots(1,4, figsize=(15,5))\n",
        "axes[0].imshow(image, cmap='gray')\n",
        "axes[0].set_title('Original Image')\n",
        "axes[1].imshow(gradient_x, cmap='gray')\n",
        "axes[1].set_title('Gradient in x direction')\n",
        "axes[2].imshow(gradient_y, cmap='gray')\n",
        "axes[2].set_title('Gradient in y direction')\n",
        "axes[3].imshow(gradient_magnitude, cmap='gray')\n",
        "axes[3].set_title('Gradient Magnitude')\n",
        "\n",
        "for ax in axes:\n",
        "  ax.axis('off')\n",
        "\n",
        "plt.tight_layout()\n",
        "plt.show()"
      ],
      "metadata": {
        "colab": {
          "base_uri": "https://localhost:8080/",
          "height": 415
        },
        "id": "vo40cfyUgm8t",
        "outputId": "32529271-5390-4f0c-b33e-beaf09683e3d"
      },
      "execution_count": 51,
      "outputs": [
        {
          "output_type": "display_data",
          "data": {
            "text/plain": [
              "<Figure size 1500x500 with 4 Axes>"
            ],
            "image/png": "[encoded data removed]"
          },
          "metadata": {}
        }
      ]
    },
    {
      "cell_type": "code",
      "source": [
        "fig, axes = plt.subplots(1,4, figsize=(15,5))\n",
        "axes[0].imshow(image, cmap='gray')\n",
        "axes[0].set_title('Original Image')\n",
        "axes[1].imshow(gradient_x, cmap='gray')\n",
        "axes[1].set_title('Gradient in x direction')\n",
        "axes[2].imshow(gradient_y, cmap='gray')\n",
        "axes[2].set_title('Gradient in y direction')\n",
        "axes[3].imshow(gradient_magnitude, cmap='gray')\n",
        "axes[3].set_title('Gradient Magnitude')"
      ],
      "metadata": {
        "colab": {
          "base_uri": "https://localhost:8080/",
          "height": 353
        },
        "id": "fqDm7aWSgnAk",
        "outputId": "f2f446e0-17a3-44a3-e7bd-c66f1fdf2e6f"
      },
      "execution_count": 52,
      "outputs": [
        {
          "output_type": "execute_result",
          "data": {
            "text/plain": [
              "Text(0.5, 1.0, 'Gradient Magnitude')"
            ]
          },
          "metadata": {},
          "execution_count": 52
        },
        {
          "output_type": "display_data",
          "data": {
            "text/plain": [
              "<Figure size 1500x500 with 4 Axes>"
            ],
            "image/png": "[encoded data removed]"
          },
          "metadata": {}
        }
      ]
    },
    {
      "cell_type": "code",
      "source": [],
      "metadata": {
        "id": "RTCr401sgnCf"
      },
      "execution_count": null,
      "outputs": []
    },
    {
      "cell_type": "code",
      "source": [],
      "metadata": {
        "id": "0LtxULLagnEn"
      },
      "execution_count": null,
      "outputs": []
    }
  ]
}