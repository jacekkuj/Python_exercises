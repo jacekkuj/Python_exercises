{
 "cells": [
  {
   "cell_type": "markdown",
   "id": "4f9b6311",
   "metadata": {},
   "source": [
    "**1. Napisz funkcję o nazwie show_numbers, która przyjmuje parametr o nazwie limit. Powinien wydrukować wszystkie liczby od 0 do limitu z etykietą, aby zidentyfikować liczby parzyste i nieparzyste. Na przykład, jeśli limit wynosi 3, powinien wydrukować:\n",
    "<br> 0 EVEN\n",
    "<br> 1 ODD \n",
    "<br> 2 EVEN \n",
    "<br> 3 ODD**"
   ]
  },
  {
   "cell_type": "code",
   "execution_count": 1,
   "id": "171cdcfb",
   "metadata": {},
   "outputs": [
    {
     "name": "stdout",
     "output_type": "stream",
     "text": [
      "0 EVEN\n",
      "1 ODD\n",
      "2 EVEN\n",
      "3 ODD\n"
     ]
    }
   ],
   "source": [
    "def show_numbers(x):\n",
    "    for i in range(x+1):\n",
    "        if i % 2 == 0:\n",
    "            print(i, 'EVEN')\n",
    "        else:\n",
    "            print(i, 'ODD')\n",
    "            \n",
    "show_numbers(3)"
   ]
  },
  {
   "cell_type": "markdown",
   "id": "418fa94a",
   "metadata": {},
   "source": [
    "**2. Napisz funkcję, która wypisuje wszystkie liczby pierwsze od 0 do limitu, gdzie limit jest parametrem.**"
   ]
  },
  {
   "cell_type": "code",
   "execution_count": 2,
   "id": "c159f1fe",
   "metadata": {},
   "outputs": [
    {
     "name": "stdout",
     "output_type": "stream",
     "text": [
      "Podaj limit sprawdzenia: 100\n",
      "[2, 3, 5, 7, 11, 13, 17, 19, 23, 29, 31, 37, 41, 43, 47, 53, 59, 61, 67, 71, 73, 79, 83, 89, 97]\n"
     ]
    }
   ],
   "source": [
    "n=int(input(\"Podaj limit sprawdzenia: \"))\n",
    "primes = []\n",
    "for i in range (2, n+1):\n",
    "    for j in range(2, i):\n",
    "        if i%j == 0:\n",
    "            break\n",
    "    else:\n",
    "        primes.append(i)\n",
    "print(primes)"
   ]
  },
  {
   "cell_type": "markdown",
   "id": "5e5ac591",
   "metadata": {},
   "source": [
    "**3. Napisz funkcję char_freq(), która pobiera łańcuch i tworzy listę częstości zawartych w nim znaków. <br> Przedstaw tę listę jako słownik Pythona (kluczem bedzie znak a wartoscia jego czestosc wystepowania). \n",
    "<br> Spróbuj z czymś takim jak char_freq(\"abbabcbdbabdbdbababcbcbab\") (tutaj podano przykladowy lancuch).**"
   ]
  },
  {
   "cell_type": "code",
   "execution_count": 4,
   "id": "76ab4b15",
   "metadata": {},
   "outputs": [
    {
     "name": "stdout",
     "output_type": "stream",
     "text": [
      "{'s': 1, 'i': 4, 'v': 4, 'j': 0, 'p': 1, 'f': 0}\n"
     ]
    }
   ],
   "source": [
    "def char_freq(chain):\n",
    "    frequency = {}\n",
    "    for letter in chain:\n",
    "        if letter not in frequency:\n",
    "            frequency[letter] = 0\n",
    "        else:\n",
    "            frequency[letter] += 1      \n",
    "    print(frequency)\n",
    "        \n",
    "char_freq(\"sivjivpsviviivpf\")"
   ]
  },
  {
   "cell_type": "markdown",
   "id": "13190c39",
   "metadata": {},
   "source": [
    "**4. Napisz funkcje, ktora znajdzie wszystkie liczby podzielne przez 7, ale nie będące wielokrotnością 5,między 2000 a 3200. Uzyskane liczby należy podać w liście jako wyjście z funkcji.**"
   ]
  },
  {
   "cell_type": "code",
   "execution_count": 14,
   "id": "40c7c2e2",
   "metadata": {},
   "outputs": [],
   "source": [
    "def find_numbers_conditions():\n",
    "    nl=[]\n",
    "    for x in range(1500, 2701):\n",
    "        if (x%7==0) and (x%5==0):\n",
    "            nl.append(x)\n",
    "    print (nl)"
   ]
  },
  {
   "cell_type": "code",
   "execution_count": 15,
   "id": "a9a65c95",
   "metadata": {},
   "outputs": [
    {
     "name": "stdout",
     "output_type": "stream",
     "text": [
      "[1505, 1540, 1575, 1610, 1645, 1680, 1715, 1750, 1785, 1820, 1855, 1890, 1925, 1960, 1995, 2030, 2065, 2100, 2135, 2170, 2205, 2240, 2275, 2310, 2345, 2380, 2415, 2450, 2485, 2520, 2555, 2590, 2625, 2660, 2695]\n"
     ]
    }
   ],
   "source": [
    "find_numbers_conditions()"
   ]
  },
  {
   "cell_type": "markdown",
   "id": "f230e79a",
   "metadata": {},
   "source": [
    "**5. Napisz funkcję, która przyjmuje jako dane wejściowe ciąg słów oddzielonych przecinkami i wyświetla je w kolejności oddzielonej przecinkami po posortowaniu alfabetycznym.**\n",
    "<br> Załóżmy, że dostarczane są następujące dane wejściowe: \n",
    "<br> **bez, witaj, torba, świat**,\n",
    "<br> Następnie dane wyjściowe powinny mieć postać:\n",
    "<br> **bez, cześć, świat, torba**"
   ]
  },
  {
   "cell_type": "code",
   "execution_count": 21,
   "id": "ddc95461",
   "metadata": {},
   "outputs": [],
   "source": [
    "def process_list_of_words(chain):\n",
    "    phrase_list = chain.split(\",\")\n",
    "    phrase_list.sort()\n",
    "    print((', ').join(phrase_list))"
   ]
  },
  {
   "cell_type": "code",
   "execution_count": 22,
   "id": "703930e4",
   "metadata": {},
   "outputs": [
    {
     "name": "stdout",
     "output_type": "stream",
     "text": [
      " ania,  maciek, jola\n"
     ]
    }
   ],
   "source": [
    "process_list_of_words('jola, ania, maciek')"
   ]
  },
  {
   "cell_type": "code",
   "execution_count": 23,
   "id": "3a0d2cd4",
   "metadata": {},
   "outputs": [
    {
     "name": "stdout",
     "output_type": "stream",
     "text": [
      " torba,  witaj,  świat, bez\n"
     ]
    }
   ],
   "source": [
    "process_list_of_words('bez, witaj, torba, świat')"
   ]
  },
  {
   "cell_type": "markdown",
   "id": "39a85ec5",
   "metadata": {},
   "source": [
    "**6. Napisz funkcję, która ma drukować słownik, w którym klucze są liczbami, a wartości są kwadratami tych kluczy.**"
   ]
  },
  {
   "cell_type": "code",
   "execution_count": 28,
   "id": "6b180d6a",
   "metadata": {},
   "outputs": [],
   "source": [
    "def print_dict(start, stop): #dodano dwa argumenty - start i stop - zeby moc wybierac zakres do slownika\n",
    "    d=dict()\n",
    "    for x in range(start,stop+1):\n",
    "        d[x]=x**2\n",
    "    print(d) "
   ]
  },
  {
   "cell_type": "code",
   "execution_count": 29,
   "id": "084a1b24",
   "metadata": {},
   "outputs": [
    {
     "name": "stdout",
     "output_type": "stream",
     "text": [
      "{1: 1, 2: 4, 3: 9, 4: 16, 5: 25, 6: 36, 7: 49, 8: 64, 9: 81, 10: 100}\n"
     ]
    }
   ],
   "source": [
    "print_dict(1,10)"
   ]
  },
  {
   "cell_type": "markdown",
   "id": "3990bb57",
   "metadata": {},
   "source": [
    "**7. Napisz funkcję w Pythonie, który znajdzie medianę trzech wartości.\n",
    "<br> Przyklad rozwiazania:\n",
    "<br> Input first number: 15\n",
    "<br> Input second number: 26\n",
    "<br> Input third number: 29\n",
    "<br> The median is 26.0**\n"
   ]
  },
  {
   "cell_type": "markdown",
   "id": "d43cc52f",
   "metadata": {},
   "source": [
    "## Sposob 1"
   ]
  },
  {
   "cell_type": "code",
   "execution_count": 43,
   "id": "06262a4d",
   "metadata": {},
   "outputs": [],
   "source": [
    "def find_median():\n",
    "    a = float(input(\"Input first number: \"))\n",
    "    b = float(input(\"Input second number: \"))\n",
    "    c = float(input(\"Input third number: \"))\n",
    "    if a > b:\n",
    "        if a < c:\n",
    "            median = a\n",
    "        elif b > c:\n",
    "            median = b\n",
    "        else:\n",
    "            median = c\n",
    "    else:\n",
    "        if a > c:\n",
    "            median = a\n",
    "        elif b < c:\n",
    "            median = b\n",
    "        else:\n",
    "            median = c\n",
    "    print(\"The median is\", median)"
   ]
  },
  {
   "cell_type": "code",
   "execution_count": 44,
   "id": "7a7f4ab8",
   "metadata": {},
   "outputs": [
    {
     "name": "stdout",
     "output_type": "stream",
     "text": [
      "Input first number: 19\n",
      "Input second number: 90\n",
      "Input third number: 90\n",
      "The median is 90.0\n"
     ]
    }
   ],
   "source": [
    "find_median()"
   ]
  },
  {
   "cell_type": "markdown",
   "id": "b548a544",
   "metadata": {},
   "source": [
    "## Sposob 2"
   ]
  },
  {
   "cell_type": "code",
   "execution_count": 48,
   "id": "6cf25f11",
   "metadata": {},
   "outputs": [],
   "source": [
    "import statistics\n",
    "def find_median_2():\n",
    "    a = float(input(\"Input first number: \"))\n",
    "    b = float(input(\"Input second number: \"))\n",
    "    c = float(input(\"Input third number: \"))\n",
    "    print(\"The median is\", statistics.median([a,b,c]))"
   ]
  },
  {
   "cell_type": "code",
   "execution_count": 49,
   "id": "bae48891",
   "metadata": {},
   "outputs": [
    {
     "name": "stdout",
     "output_type": "stream",
     "text": [
      "Input first number: 89\n",
      "Input second number: 90\n",
      "Input third number: 88\n",
      "The median is 89.0\n"
     ]
    }
   ],
   "source": [
    "find_median_2()"
   ]
  },
  {
   "cell_type": "markdown",
   "id": "64ebb4a1",
   "metadata": {},
   "source": [
    "## Sposob 3"
   ]
  },
  {
   "cell_type": "code",
   "execution_count": 57,
   "id": "6aa21e14",
   "metadata": {},
   "outputs": [],
   "source": [
    "import statistics\n",
    "def find_median_3(a,b,c):\n",
    "    print(\"Input first number: \", a)\n",
    "    print(\"Input second number: \", b)\n",
    "    print(\"Input third number: \", c)\n",
    "    print(\"The median is\", statistics.median([a,b,c]))"
   ]
  },
  {
   "cell_type": "code",
   "execution_count": 58,
   "id": "4851e6c4",
   "metadata": {},
   "outputs": [
    {
     "name": "stdout",
     "output_type": "stream",
     "text": [
      "Input first number:  10\n",
      "Input second number:  90\n",
      "Input third number:  18\n",
      "The median is 18\n"
     ]
    }
   ],
   "source": [
    "find_median_3(10,90,18)"
   ]
  },
  {
   "cell_type": "markdown",
   "id": "253aab99",
   "metadata": {},
   "source": [
    "#### Uwaga tutaj jest taka, ze nie stosujemy inputa, o ktorego komenda podana we wzorze \"input number\" raczej sie prosi. Nie mniej jednak output jest odpowiedni, zgodny z przykladowym rozwiazaniem"
   ]
  },
  {
   "cell_type": "markdown",
   "id": "e9c2378c",
   "metadata": {},
   "source": [
    "**1. Stwórz grę dla dwóch graczy Kamień-Papier-Nożyce.\n",
    "<br> (Wskazówka: Poproś o zagrania graczy (za pomocą danych wejściowych), porównaj je, wydrukuj wiadomość z gratulacjami dla zwycięzcy i zapytaj, czy gracze chcą rozpocząć nową grę).\n",
    "<br> Zapamiętaj zasady:\n",
    "<br> Rock bije nożyczki \n",
    "<br> Nożyczki biją papier \n",
    "<br> Papier bije kamien**"
   ]
  },
  {
   "cell_type": "code",
   "execution_count": 70,
   "id": "1be86bf5",
   "metadata": {},
   "outputs": [],
   "source": [
    "def popular_game(user_action,user_2_action):\n",
    "    print(f\"\\nYou chose {user_action}, user_2 chose {user_2_action}.\\n\")\n",
    "    if user_action == user_2_action:\n",
    "        print(f\"Both players selected {user_action}. It's a tie!\")\n",
    "    elif user_action == \"rock\":\n",
    "        if user_2_action == \"scissors\":\n",
    "            print(\"Rock smashes scissors! You win!\")\n",
    "        else:\n",
    "            print(\"Paper covers rock! You lose.\")\n",
    "    elif user_action == \"paper\":\n",
    "        if user_2_action == \"rock\":\n",
    "            print(\"Paper covers rock! You win!\")\n",
    "        else:\n",
    "            print(\"Scissors cuts paper! You lose.\")\n",
    "    elif user_action == \"scissors\":\n",
    "        if user_2_action == \"paper\":\n",
    "            print(\"Scissors cuts paper! You win!\")\n",
    "        else:\n",
    "            print(\"Rock smashes scissors! You lose.\")\n",
    "    print(\"Wanna play again?\")"
   ]
  },
  {
   "cell_type": "code",
   "execution_count": 71,
   "id": "b100690c",
   "metadata": {},
   "outputs": [
    {
     "name": "stdout",
     "output_type": "stream",
     "text": [
      "Enter a choice (rock, paper, scissors): rock\n",
      "Enter a choice (rock, paper, scissors): rock\n",
      "\n",
      "You chose rock, user_2 chose rock.\n",
      "\n",
      "Both players selected rock. It's a tie!\n",
      "Wanna play again?\n"
     ]
    }
   ],
   "source": [
    "user_action = input(\"Enter a choice (rock, paper, scissors): \")\n",
    "user_2_action = input(\"Enter a choice (rock, paper, scissors): \")\n",
    "\n",
    "popular_game(user_action,user_2_action)"
   ]
  }
 ],
 "metadata": {
  "kernelspec": {
   "display_name": "Python 3",
   "language": "python",
   "name": "python3"
  },
  "language_info": {
   "codemirror_mode": {
    "name": "ipython",
    "version": 3
   },
   "file_extension": ".py",
   "mimetype": "text/x-python",
   "name": "python",
   "nbconvert_exporter": "python",
   "pygments_lexer": "ipython3",
   "version": "3.8.8"
  }
 },
 "nbformat": 4,
 "nbformat_minor": 5
}
