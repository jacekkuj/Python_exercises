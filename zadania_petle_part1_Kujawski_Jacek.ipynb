{
 "cells": [
  {
   "cell_type": "markdown",
   "id": "f0c6b8d7",
   "metadata": {},
   "source": [
    "## PĘTLE"
   ]
  },
  {
   "cell_type": "markdown",
   "id": "55e39fad",
   "metadata": {},
   "source": [
    "1. Proszę za pomocą pętli i instrukcji if wyświetlić następujący ciąg:\n",
    "<br> 1\n",
    "<br> 2\n",
    "<br> 3\n",
    "<br> 4\n",
    "<br> Znalazłem 5! \n",
    "<br> 6\n",
    "<br> 7"
   ]
  },
  {
   "cell_type": "code",
   "execution_count": 1,
   "id": "4896ccae",
   "metadata": {},
   "outputs": [
    {
     "name": "stdout",
     "output_type": "stream",
     "text": [
      "1\n",
      "2\n",
      "3\n",
      "4\n",
      "5\n",
      "Znalazłem 5!\n",
      "6\n",
      "7\n"
     ]
    },
    {
     "data": {
      "text/plain": [
       "8"
      ]
     },
     "execution_count": 1,
     "metadata": {},
     "output_type": "execute_result"
    }
   ],
   "source": [
    "def ciag():\n",
    "    for liczba in range(1, 8):\n",
    "        print(liczba)\n",
    "        if liczba == 5:\n",
    "            print(\"Znalazłem 5!\")\n",
    "        else:\n",
    "            liczba += 1\n",
    "    return liczba\n",
    "\n",
    "ciag()\n"
   ]
  },
  {
   "cell_type": "markdown",
   "id": "8095df30",
   "metadata": {},
   "source": [
    "2.  Proszę, używając pętli for, napisać kod, który poprosi o wpisanie sześciu wartości. Po wpisaniu tych wartości program ma podsumować ile razy wprowadzona została wartość 5 (*-trudniejsze).\n",
    "\n",
    "<br> Wprowadź dowolną liczbę od 1 do 10: 2 \n",
    "<br> Wprowadź dowolną liczbę od 1 do 10: 3 \n",
    "<br> Wprowadź dowolną liczbę od 1 do 10: 5 \n",
    "<br> Wprowadź dowolną liczbę od 1 do 10: 5 \n",
    "<br> Wprowadź dowolną liczbę od 1 do 10: 5 \n",
    "<br> Użytkownik wybrał 3 razy liczbę 5."
   ]
  },
  {
   "cell_type": "code",
   "execution_count": 2,
   "id": "d868c82e",
   "metadata": {},
   "outputs": [
    {
     "name": "stdout",
     "output_type": "stream",
     "text": [
      "Podaj cyfrę całkowitą w zakresie: 1-10: 5\n",
      "Podaj cyfrę całkowitą w zakresie: 1-10: 5\n",
      "Podaj cyfrę całkowitą w zakresie: 1-10: 5\n",
      "Podaj cyfrę całkowitą w zakresie: 1-10: 9\n",
      "Podaj cyfrę całkowitą w zakresie: 1-10: 6\n",
      "Wybrano następujące cyfry:  [5, 5, 5, 9, 6]\n",
      "Cyfra 5 powtórzyła się 3 razy.\n",
      "Cyfra 5 powtórzyła się 3 razy.\n",
      "Cyfra 5 powtórzyła się 3 razy.\n",
      "Cyfra 9 powtórzyła się 1 razy.\n",
      "Cyfra 6 powtórzyła się 1 razy.\n"
     ]
    }
   ],
   "source": [
    "def ask_for_number():\n",
    "    number = int(input(\"Podaj cyfrę całkowitą w zakresie: 1-10: \"))\n",
    "    return number\n",
    "\n",
    "def check_if_greather_than_ten(ask_for_number2):\n",
    "    if ask_for_number2 >= 10:\n",
    "        print(\"błędna wartość, bo powyżej 10\")\n",
    "\n",
    "def check_if_less_than_zero(ask_for_number3):\n",
    "    if ask_for_number3 <= 0:\n",
    "        print(\"błędna wartość, bo poniżej 0\")    \n",
    "\n",
    "list_numbers = []\n",
    "for i in range(5):\n",
    "    numbers = ask_for_number()\n",
    "    check_if_greather_than_ten(numbers)\n",
    "    check_if_less_than_zero(numbers)\n",
    "    list_numbers.append(numbers)\n",
    "print(\"Wybrano następujące cyfry: \", list_numbers)\n",
    "for value in list_numbers:\n",
    "    print(f\"Cyfra {value} powtórzyła się {list_numbers.count(value)} razy.\")\n",
    "\n"
   ]
  },
  {
   "cell_type": "markdown",
   "id": "8f713bd2",
   "metadata": {},
   "source": [
    "3. Proszę, używając pętli for, napisać kod, który poprosi o wpisanie trzech wartości. Po wpisaniu tych wartości mają być one podsumowane.\n",
    "\n",
    "<br> Wprowadź wartość: 4\n",
    "<br> Wprowadź wartość: 2\n",
    "<br> Wprowadź wartość:\n",
    "<br> 2\n",
    "<br> Suma wpisanych wartości to: 8"
   ]
  },
  {
   "cell_type": "code",
   "execution_count": 5,
   "id": "5bac0169",
   "metadata": {},
   "outputs": [
    {
     "name": "stdout",
     "output_type": "stream",
     "text": [
      "Podaj cyfrę/liczbę całkowitą: 53\n",
      "Podaj cyfrę/liczbę całkowitą: 56\n",
      "Podaj cyfrę/liczbę całkowitą: 9887\n",
      "Wybrano następujące cyfry:  [53, 56, 9887]\n",
      "Suma wpisanych wartości wynosi: 9996.\n"
     ]
    }
   ],
   "source": [
    "def ask_for_number():\n",
    "    number = int(input(\"Podaj cyfrę/liczbę całkowitą: \"))\n",
    "    return number\n",
    "  \n",
    "list_numbers = []\n",
    "for i in range(3):\n",
    "    numbers = ask_for_number()\n",
    "    list_numbers.append(numbers)\n",
    "print(\"Wybrano następujące cyfry: \", list_numbers)\n",
    "print(f\"Suma wpisanych wartości wynosi: {sum(list_numbers)}.\")"
   ]
  },
  {
   "cell_type": "markdown",
   "id": "d588695d",
   "metadata": {},
   "source": [
    "4. Proszę, używając pętli, wypisać liczby parzyste od 0 do 10 za pomocą pętli"
   ]
  },
  {
   "cell_type": "code",
   "execution_count": 18,
   "id": "db9bed47",
   "metadata": {},
   "outputs": [
    {
     "name": "stdout",
     "output_type": "stream",
     "text": [
      "0\n",
      "2\n",
      "4\n",
      "6\n",
      "8\n",
      "10\n"
     ]
    }
   ],
   "source": [
    "def gen_numbers():\n",
    "    for number in range(0, 11):\n",
    "        if number %2 == 0:\n",
    "            print(number)\n",
    "            \n",
    "gen_numbers()\n",
    "        "
   ]
  },
  {
   "cell_type": "markdown",
   "id": "3e841569",
   "metadata": {},
   "source": [
    "5. Proszę, używając pętli, wypisać co trzecią liczbę z zakresu 1 do 100"
   ]
  },
  {
   "cell_type": "code",
   "execution_count": 10,
   "id": "e513b424",
   "metadata": {},
   "outputs": [
    {
     "name": "stdout",
     "output_type": "stream",
     "text": [
      "1\n",
      "4\n",
      "7\n",
      "10\n",
      "13\n",
      "16\n",
      "19\n",
      "22\n",
      "25\n",
      "28\n",
      "31\n",
      "34\n",
      "37\n",
      "40\n",
      "43\n",
      "46\n",
      "49\n",
      "52\n",
      "55\n",
      "58\n",
      "61\n",
      "64\n",
      "67\n",
      "70\n",
      "73\n",
      "76\n",
      "79\n",
      "82\n",
      "85\n",
      "88\n",
      "91\n",
      "94\n",
      "97\n",
      "100\n"
     ]
    }
   ],
   "source": [
    "def gen_numbers():\n",
    "    for number in range(1, 101, 3):\n",
    "        print(number)\n",
    "            \n",
    "gen_numbers()"
   ]
  },
  {
   "cell_type": "markdown",
   "id": "523b99fe",
   "metadata": {},
   "source": [
    "6. Proszę, używając pętli wypisać liczby do 100, przy czym pętla ma (*-trudniejsze):\n",
    "- omijać wszystkie podzielne przez 10\n",
    "- przerywać jeśli coś będzie podzielne przez 33"
   ]
  },
  {
   "cell_type": "code",
   "execution_count": 32,
   "id": "53fcfa3a",
   "metadata": {},
   "outputs": [
    {
     "name": "stdout",
     "output_type": "stream",
     "text": [
      "1\n",
      "2\n",
      "3\n",
      "4\n",
      "5\n",
      "6\n",
      "7\n",
      "8\n",
      "9\n",
      "11\n",
      "12\n",
      "13\n",
      "14\n",
      "15\n",
      "16\n",
      "17\n",
      "18\n",
      "19\n",
      "21\n",
      "22\n",
      "23\n",
      "24\n",
      "25\n",
      "26\n",
      "27\n",
      "28\n",
      "29\n",
      "31\n",
      "32\n",
      "33\n",
      "33 podzielne przez 33\n"
     ]
    }
   ],
   "source": [
    "def gen_numbers():\n",
    "    for number in range(1, 101):\n",
    "        if number %10 != 0:\n",
    "            print(number)\n",
    "\n",
    "        if number %33 == 0:\n",
    "            print(number, \"podzielne przez 33\")\n",
    "            break\n",
    "           \n",
    "gen_numbers()"
   ]
  },
  {
   "cell_type": "code",
   "execution_count": null,
   "id": "a14616a7",
   "metadata": {},
   "outputs": [],
   "source": []
  }
 ],
 "metadata": {
  "kernelspec": {
   "display_name": "Python 3",
   "language": "python",
   "name": "python3"
  },
  "language_info": {
   "codemirror_mode": {
    "name": "ipython",
    "version": 3
   },
   "file_extension": ".py",
   "mimetype": "text/x-python",
   "name": "python",
   "nbconvert_exporter": "python",
   "pygments_lexer": "ipython3",
   "version": "3.8.8"
  }
 },
 "nbformat": 4,
 "nbformat_minor": 5
}
