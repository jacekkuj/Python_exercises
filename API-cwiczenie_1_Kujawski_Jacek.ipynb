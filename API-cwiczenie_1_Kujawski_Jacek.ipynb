{
 "cells": [
  {
   "cell_type": "markdown",
   "id": "4a433ae5",
   "metadata": {},
   "source": [
    "## API - cwiczenia"
   ]
  },
  {
   "cell_type": "markdown",
   "id": "bcd44967",
   "metadata": {},
   "source": [
    "Dzisiejsze zadanie będzie dotyczyć wyciągania informacji dla jednego z fajniejszych i prostszych API - pokemon API. "
   ]
  },
  {
   "attachments": {
    "Unknown.png": {
     "image/png": "[encoded data removed]"
    }
   },
   "cell_type": "markdown",
   "id": "3bff73eb",
   "metadata": {},
   "source": [
    "![Unknown.png](attachment:Unknown.png)"
   ]
  },
  {
   "cell_type": "markdown",
   "id": "22b05bb1",
   "metadata": {},
   "source": [
    "https://pokeapi.co"
   ]
  },
  {
   "cell_type": "markdown",
   "id": "2c81cebd",
   "metadata": {},
   "source": [
    "na głównej stronie API jest informacja w jaki sposób generowac url. "
   ]
  },
  {
   "cell_type": "code",
   "execution_count": 5,
   "id": "a5dc17e7",
   "metadata": {},
   "outputs": [],
   "source": [
    "import requests"
   ]
  },
  {
   "cell_type": "markdown",
   "id": "04e44eb7",
   "metadata": {},
   "source": [
    "Przykładowo, poniżej zaprezentowano sposób wyciągania listy pokemonów II generacji. "
   ]
  },
  {
   "cell_type": "code",
   "execution_count": 6,
   "id": "96893476",
   "metadata": {},
   "outputs": [
    {
     "data": {
      "text/plain": [
       "<Response [200]>"
      ]
     },
     "execution_count": 6,
     "metadata": {},
     "output_type": "execute_result"
    }
   ],
   "source": [
    "API_CALL = \"https://pokeapi.co/api/v2/generation/generation-ii\"\n",
    "requests.get(API_CALL)"
   ]
  },
  {
   "cell_type": "code",
   "execution_count": 7,
   "id": "2681f7b3",
   "metadata": {},
   "outputs": [
    {
     "data": {
      "text/plain": [
       "{'abilities': [],\n",
       " 'id': 2,\n",
       " 'main_region': {'name': 'johto',\n",
       "  'url': 'https://pokeapi.co/api/v2/region/2/'},\n",
       " 'moves': [{'name': 'sketch', 'url': 'https://pokeapi.co/api/v2/move/166/'},\n",
       "  {'name': 'triple-kick', 'url': 'https://pokeapi.co/api/v2/move/167/'},\n",
       "  {'name': 'thief', 'url': 'https://pokeapi.co/api/v2/move/168/'},\n",
       "  {'name': 'spider-web', 'url': 'https://pokeapi.co/api/v2/move/169/'},\n",
       "  {'name': 'mind-reader', 'url': 'https://pokeapi.co/api/v2/move/170/'},\n",
       "  {'name': 'nightmare', 'url': 'https://pokeapi.co/api/v2/move/171/'},\n",
       "  {'name': 'flame-wheel', 'url': 'https://pokeapi.co/api/v2/move/172/'},\n",
       "  {'name': 'snore', 'url': 'https://pokeapi.co/api/v2/move/173/'},\n",
       "  {'name': 'curse', 'url': 'https://pokeapi.co/api/v2/move/174/'},\n",
       "  {'name': 'flail', 'url': 'https://pokeapi.co/api/v2/move/175/'},\n",
       "  {'name': 'conversion-2', 'url': 'https://pokeapi.co/api/v2/move/176/'},\n",
       "  {'name': 'aeroblast', 'url': 'https://pokeapi.co/api/v2/move/177/'},\n",
       "  {'name': 'cotton-spore', 'url': 'https://pokeapi.co/api/v2/move/178/'},\n",
       "  {'name': 'reversal', 'url': 'https://pokeapi.co/api/v2/move/179/'},\n",
       "  {'name': 'spite', 'url': 'https://pokeapi.co/api/v2/move/180/'},\n",
       "  {'name': 'powder-snow', 'url': 'https://pokeapi.co/api/v2/move/181/'},\n",
       "  {'name': 'protect', 'url': 'https://pokeapi.co/api/v2/move/182/'},\n",
       "  {'name': 'mach-punch', 'url': 'https://pokeapi.co/api/v2/move/183/'},\n",
       "  {'name': 'scary-face', 'url': 'https://pokeapi.co/api/v2/move/184/'},\n",
       "  {'name': 'feint-attack', 'url': 'https://pokeapi.co/api/v2/move/185/'},\n",
       "  {'name': 'sweet-kiss', 'url': 'https://pokeapi.co/api/v2/move/186/'},\n",
       "  {'name': 'belly-drum', 'url': 'https://pokeapi.co/api/v2/move/187/'},\n",
       "  {'name': 'sludge-bomb', 'url': 'https://pokeapi.co/api/v2/move/188/'},\n",
       "  {'name': 'mud-slap', 'url': 'https://pokeapi.co/api/v2/move/189/'},\n",
       "  {'name': 'octazooka', 'url': 'https://pokeapi.co/api/v2/move/190/'},\n",
       "  {'name': 'spikes', 'url': 'https://pokeapi.co/api/v2/move/191/'},\n",
       "  {'name': 'zap-cannon', 'url': 'https://pokeapi.co/api/v2/move/192/'},\n",
       "  {'name': 'foresight', 'url': 'https://pokeapi.co/api/v2/move/193/'},\n",
       "  {'name': 'destiny-bond', 'url': 'https://pokeapi.co/api/v2/move/194/'},\n",
       "  {'name': 'perish-song', 'url': 'https://pokeapi.co/api/v2/move/195/'},\n",
       "  {'name': 'icy-wind', 'url': 'https://pokeapi.co/api/v2/move/196/'},\n",
       "  {'name': 'detect', 'url': 'https://pokeapi.co/api/v2/move/197/'},\n",
       "  {'name': 'bone-rush', 'url': 'https://pokeapi.co/api/v2/move/198/'},\n",
       "  {'name': 'lock-on', 'url': 'https://pokeapi.co/api/v2/move/199/'},\n",
       "  {'name': 'outrage', 'url': 'https://pokeapi.co/api/v2/move/200/'},\n",
       "  {'name': 'sandstorm', 'url': 'https://pokeapi.co/api/v2/move/201/'},\n",
       "  {'name': 'giga-drain', 'url': 'https://pokeapi.co/api/v2/move/202/'},\n",
       "  {'name': 'endure', 'url': 'https://pokeapi.co/api/v2/move/203/'},\n",
       "  {'name': 'charm', 'url': 'https://pokeapi.co/api/v2/move/204/'},\n",
       "  {'name': 'rollout', 'url': 'https://pokeapi.co/api/v2/move/205/'},\n",
       "  {'name': 'false-swipe', 'url': 'https://pokeapi.co/api/v2/move/206/'},\n",
       "  {'name': 'swagger', 'url': 'https://pokeapi.co/api/v2/move/207/'},\n",
       "  {'name': 'milk-drink', 'url': 'https://pokeapi.co/api/v2/move/208/'},\n",
       "  {'name': 'spark', 'url': 'https://pokeapi.co/api/v2/move/209/'},\n",
       "  {'name': 'fury-cutter', 'url': 'https://pokeapi.co/api/v2/move/210/'},\n",
       "  {'name': 'steel-wing', 'url': 'https://pokeapi.co/api/v2/move/211/'},\n",
       "  {'name': 'mean-look', 'url': 'https://pokeapi.co/api/v2/move/212/'},\n",
       "  {'name': 'attract', 'url': 'https://pokeapi.co/api/v2/move/213/'},\n",
       "  {'name': 'sleep-talk', 'url': 'https://pokeapi.co/api/v2/move/214/'},\n",
       "  {'name': 'heal-bell', 'url': 'https://pokeapi.co/api/v2/move/215/'},\n",
       "  {'name': 'return', 'url': 'https://pokeapi.co/api/v2/move/216/'},\n",
       "  {'name': 'present', 'url': 'https://pokeapi.co/api/v2/move/217/'},\n",
       "  {'name': 'frustration', 'url': 'https://pokeapi.co/api/v2/move/218/'},\n",
       "  {'name': 'safeguard', 'url': 'https://pokeapi.co/api/v2/move/219/'},\n",
       "  {'name': 'pain-split', 'url': 'https://pokeapi.co/api/v2/move/220/'},\n",
       "  {'name': 'sacred-fire', 'url': 'https://pokeapi.co/api/v2/move/221/'},\n",
       "  {'name': 'magnitude', 'url': 'https://pokeapi.co/api/v2/move/222/'},\n",
       "  {'name': 'dynamic-punch', 'url': 'https://pokeapi.co/api/v2/move/223/'},\n",
       "  {'name': 'megahorn', 'url': 'https://pokeapi.co/api/v2/move/224/'},\n",
       "  {'name': 'dragon-breath', 'url': 'https://pokeapi.co/api/v2/move/225/'},\n",
       "  {'name': 'baton-pass', 'url': 'https://pokeapi.co/api/v2/move/226/'},\n",
       "  {'name': 'encore', 'url': 'https://pokeapi.co/api/v2/move/227/'},\n",
       "  {'name': 'pursuit', 'url': 'https://pokeapi.co/api/v2/move/228/'},\n",
       "  {'name': 'rapid-spin', 'url': 'https://pokeapi.co/api/v2/move/229/'},\n",
       "  {'name': 'sweet-scent', 'url': 'https://pokeapi.co/api/v2/move/230/'},\n",
       "  {'name': 'iron-tail', 'url': 'https://pokeapi.co/api/v2/move/231/'},\n",
       "  {'name': 'metal-claw', 'url': 'https://pokeapi.co/api/v2/move/232/'},\n",
       "  {'name': 'vital-throw', 'url': 'https://pokeapi.co/api/v2/move/233/'},\n",
       "  {'name': 'morning-sun', 'url': 'https://pokeapi.co/api/v2/move/234/'},\n",
       "  {'name': 'synthesis', 'url': 'https://pokeapi.co/api/v2/move/235/'},\n",
       "  {'name': 'moonlight', 'url': 'https://pokeapi.co/api/v2/move/236/'},\n",
       "  {'name': 'hidden-power', 'url': 'https://pokeapi.co/api/v2/move/237/'},\n",
       "  {'name': 'cross-chop', 'url': 'https://pokeapi.co/api/v2/move/238/'},\n",
       "  {'name': 'twister', 'url': 'https://pokeapi.co/api/v2/move/239/'},\n",
       "  {'name': 'rain-dance', 'url': 'https://pokeapi.co/api/v2/move/240/'},\n",
       "  {'name': 'sunny-day', 'url': 'https://pokeapi.co/api/v2/move/241/'},\n",
       "  {'name': 'crunch', 'url': 'https://pokeapi.co/api/v2/move/242/'},\n",
       "  {'name': 'mirror-coat', 'url': 'https://pokeapi.co/api/v2/move/243/'},\n",
       "  {'name': 'psych-up', 'url': 'https://pokeapi.co/api/v2/move/244/'},\n",
       "  {'name': 'extreme-speed', 'url': 'https://pokeapi.co/api/v2/move/245/'},\n",
       "  {'name': 'ancient-power', 'url': 'https://pokeapi.co/api/v2/move/246/'},\n",
       "  {'name': 'shadow-ball', 'url': 'https://pokeapi.co/api/v2/move/247/'},\n",
       "  {'name': 'future-sight', 'url': 'https://pokeapi.co/api/v2/move/248/'},\n",
       "  {'name': 'rock-smash', 'url': 'https://pokeapi.co/api/v2/move/249/'},\n",
       "  {'name': 'whirlpool', 'url': 'https://pokeapi.co/api/v2/move/250/'},\n",
       "  {'name': 'beat-up', 'url': 'https://pokeapi.co/api/v2/move/251/'}],\n",
       " 'name': 'generation-ii',\n",
       " 'names': [{'language': {'name': 'ja-Hrkt',\n",
       "    'url': 'https://pokeapi.co/api/v2/language/1/'},\n",
       "   'name': 'だいにせだい'},\n",
       "  {'language': {'name': 'ko', 'url': 'https://pokeapi.co/api/v2/language/3/'},\n",
       "   'name': '2세대'},\n",
       "  {'language': {'name': 'fr', 'url': 'https://pokeapi.co/api/v2/language/5/'},\n",
       "   'name': 'Génération II'},\n",
       "  {'language': {'name': 'de', 'url': 'https://pokeapi.co/api/v2/language/6/'},\n",
       "   'name': 'Generation II'},\n",
       "  {'language': {'name': 'es', 'url': 'https://pokeapi.co/api/v2/language/7/'},\n",
       "   'name': 'Generación II'},\n",
       "  {'language': {'name': 'en', 'url': 'https://pokeapi.co/api/v2/language/9/'},\n",
       "   'name': 'Generation II'},\n",
       "  {'language': {'name': 'ja', 'url': 'https://pokeapi.co/api/v2/language/11/'},\n",
       "   'name': '第二世代'}],\n",
       " 'pokemon_species': [{'name': 'chikorita',\n",
       "   'url': 'https://pokeapi.co/api/v2/pokemon-species/152/'},\n",
       "  {'name': 'cyndaquil',\n",
       "   'url': 'https://pokeapi.co/api/v2/pokemon-species/155/'},\n",
       "  {'name': 'totodile',\n",
       "   'url': 'https://pokeapi.co/api/v2/pokemon-species/158/'},\n",
       "  {'name': 'sentret', 'url': 'https://pokeapi.co/api/v2/pokemon-species/161/'},\n",
       "  {'name': 'hoothoot',\n",
       "   'url': 'https://pokeapi.co/api/v2/pokemon-species/163/'},\n",
       "  {'name': 'ledyba', 'url': 'https://pokeapi.co/api/v2/pokemon-species/165/'},\n",
       "  {'name': 'spinarak',\n",
       "   'url': 'https://pokeapi.co/api/v2/pokemon-species/167/'},\n",
       "  {'name': 'chinchou',\n",
       "   'url': 'https://pokeapi.co/api/v2/pokemon-species/170/'},\n",
       "  {'name': 'pichu', 'url': 'https://pokeapi.co/api/v2/pokemon-species/172/'},\n",
       "  {'name': 'cleffa', 'url': 'https://pokeapi.co/api/v2/pokemon-species/173/'},\n",
       "  {'name': 'igglybuff',\n",
       "   'url': 'https://pokeapi.co/api/v2/pokemon-species/174/'},\n",
       "  {'name': 'togepi', 'url': 'https://pokeapi.co/api/v2/pokemon-species/175/'},\n",
       "  {'name': 'natu', 'url': 'https://pokeapi.co/api/v2/pokemon-species/177/'},\n",
       "  {'name': 'mareep', 'url': 'https://pokeapi.co/api/v2/pokemon-species/179/'},\n",
       "  {'name': 'hoppip', 'url': 'https://pokeapi.co/api/v2/pokemon-species/187/'},\n",
       "  {'name': 'aipom', 'url': 'https://pokeapi.co/api/v2/pokemon-species/190/'},\n",
       "  {'name': 'sunkern', 'url': 'https://pokeapi.co/api/v2/pokemon-species/191/'},\n",
       "  {'name': 'yanma', 'url': 'https://pokeapi.co/api/v2/pokemon-species/193/'},\n",
       "  {'name': 'wooper', 'url': 'https://pokeapi.co/api/v2/pokemon-species/194/'},\n",
       "  {'name': 'murkrow', 'url': 'https://pokeapi.co/api/v2/pokemon-species/198/'},\n",
       "  {'name': 'misdreavus',\n",
       "   'url': 'https://pokeapi.co/api/v2/pokemon-species/200/'},\n",
       "  {'name': 'unown', 'url': 'https://pokeapi.co/api/v2/pokemon-species/201/'},\n",
       "  {'name': 'girafarig',\n",
       "   'url': 'https://pokeapi.co/api/v2/pokemon-species/203/'},\n",
       "  {'name': 'pineco', 'url': 'https://pokeapi.co/api/v2/pokemon-species/204/'},\n",
       "  {'name': 'dunsparce',\n",
       "   'url': 'https://pokeapi.co/api/v2/pokemon-species/206/'},\n",
       "  {'name': 'gligar', 'url': 'https://pokeapi.co/api/v2/pokemon-species/207/'},\n",
       "  {'name': 'snubbull',\n",
       "   'url': 'https://pokeapi.co/api/v2/pokemon-species/209/'},\n",
       "  {'name': 'qwilfish',\n",
       "   'url': 'https://pokeapi.co/api/v2/pokemon-species/211/'},\n",
       "  {'name': 'shuckle', 'url': 'https://pokeapi.co/api/v2/pokemon-species/213/'},\n",
       "  {'name': 'heracross',\n",
       "   'url': 'https://pokeapi.co/api/v2/pokemon-species/214/'},\n",
       "  {'name': 'sneasel', 'url': 'https://pokeapi.co/api/v2/pokemon-species/215/'},\n",
       "  {'name': 'teddiursa',\n",
       "   'url': 'https://pokeapi.co/api/v2/pokemon-species/216/'},\n",
       "  {'name': 'slugma', 'url': 'https://pokeapi.co/api/v2/pokemon-species/218/'},\n",
       "  {'name': 'swinub', 'url': 'https://pokeapi.co/api/v2/pokemon-species/220/'},\n",
       "  {'name': 'corsola', 'url': 'https://pokeapi.co/api/v2/pokemon-species/222/'},\n",
       "  {'name': 'remoraid',\n",
       "   'url': 'https://pokeapi.co/api/v2/pokemon-species/223/'},\n",
       "  {'name': 'delibird',\n",
       "   'url': 'https://pokeapi.co/api/v2/pokemon-species/225/'},\n",
       "  {'name': 'meganium',\n",
       "   'url': 'https://pokeapi.co/api/v2/pokemon-species/154/'},\n",
       "  {'name': 'quilava', 'url': 'https://pokeapi.co/api/v2/pokemon-species/156/'},\n",
       "  {'name': 'typhlosion',\n",
       "   'url': 'https://pokeapi.co/api/v2/pokemon-species/157/'},\n",
       "  {'name': 'croconaw',\n",
       "   'url': 'https://pokeapi.co/api/v2/pokemon-species/159/'},\n",
       "  {'name': 'feraligatr',\n",
       "   'url': 'https://pokeapi.co/api/v2/pokemon-species/160/'},\n",
       "  {'name': 'furret', 'url': 'https://pokeapi.co/api/v2/pokemon-species/162/'},\n",
       "  {'name': 'noctowl', 'url': 'https://pokeapi.co/api/v2/pokemon-species/164/'},\n",
       "  {'name': 'ledian', 'url': 'https://pokeapi.co/api/v2/pokemon-species/166/'},\n",
       "  {'name': 'ariados', 'url': 'https://pokeapi.co/api/v2/pokemon-species/168/'},\n",
       "  {'name': 'crobat', 'url': 'https://pokeapi.co/api/v2/pokemon-species/169/'},\n",
       "  {'name': 'lanturn', 'url': 'https://pokeapi.co/api/v2/pokemon-species/171/'},\n",
       "  {'name': 'togetic', 'url': 'https://pokeapi.co/api/v2/pokemon-species/176/'},\n",
       "  {'name': 'xatu', 'url': 'https://pokeapi.co/api/v2/pokemon-species/178/'},\n",
       "  {'name': 'flaaffy', 'url': 'https://pokeapi.co/api/v2/pokemon-species/180/'},\n",
       "  {'name': 'ampharos',\n",
       "   'url': 'https://pokeapi.co/api/v2/pokemon-species/181/'},\n",
       "  {'name': 'bellossom',\n",
       "   'url': 'https://pokeapi.co/api/v2/pokemon-species/182/'},\n",
       "  {'name': 'marill', 'url': 'https://pokeapi.co/api/v2/pokemon-species/183/'},\n",
       "  {'name': 'azumarill',\n",
       "   'url': 'https://pokeapi.co/api/v2/pokemon-species/184/'},\n",
       "  {'name': 'sudowoodo',\n",
       "   'url': 'https://pokeapi.co/api/v2/pokemon-species/185/'},\n",
       "  {'name': 'politoed',\n",
       "   'url': 'https://pokeapi.co/api/v2/pokemon-species/186/'},\n",
       "  {'name': 'skiploom',\n",
       "   'url': 'https://pokeapi.co/api/v2/pokemon-species/188/'},\n",
       "  {'name': 'jumpluff',\n",
       "   'url': 'https://pokeapi.co/api/v2/pokemon-species/189/'},\n",
       "  {'name': 'sunflora',\n",
       "   'url': 'https://pokeapi.co/api/v2/pokemon-species/192/'},\n",
       "  {'name': 'quagsire',\n",
       "   'url': 'https://pokeapi.co/api/v2/pokemon-species/195/'},\n",
       "  {'name': 'espeon', 'url': 'https://pokeapi.co/api/v2/pokemon-species/196/'},\n",
       "  {'name': 'umbreon', 'url': 'https://pokeapi.co/api/v2/pokemon-species/197/'},\n",
       "  {'name': 'slowking',\n",
       "   'url': 'https://pokeapi.co/api/v2/pokemon-species/199/'},\n",
       "  {'name': 'wobbuffet',\n",
       "   'url': 'https://pokeapi.co/api/v2/pokemon-species/202/'},\n",
       "  {'name': 'forretress',\n",
       "   'url': 'https://pokeapi.co/api/v2/pokemon-species/205/'},\n",
       "  {'name': 'steelix', 'url': 'https://pokeapi.co/api/v2/pokemon-species/208/'},\n",
       "  {'name': 'granbull',\n",
       "   'url': 'https://pokeapi.co/api/v2/pokemon-species/210/'},\n",
       "  {'name': 'scizor', 'url': 'https://pokeapi.co/api/v2/pokemon-species/212/'},\n",
       "  {'name': 'ursaring',\n",
       "   'url': 'https://pokeapi.co/api/v2/pokemon-species/217/'},\n",
       "  {'name': 'magcargo',\n",
       "   'url': 'https://pokeapi.co/api/v2/pokemon-species/219/'},\n",
       "  {'name': 'piloswine',\n",
       "   'url': 'https://pokeapi.co/api/v2/pokemon-species/221/'},\n",
       "  {'name': 'octillery',\n",
       "   'url': 'https://pokeapi.co/api/v2/pokemon-species/224/'},\n",
       "  {'name': 'skarmory',\n",
       "   'url': 'https://pokeapi.co/api/v2/pokemon-species/227/'},\n",
       "  {'name': 'houndour',\n",
       "   'url': 'https://pokeapi.co/api/v2/pokemon-species/228/'},\n",
       "  {'name': 'phanpy', 'url': 'https://pokeapi.co/api/v2/pokemon-species/231/'},\n",
       "  {'name': 'stantler',\n",
       "   'url': 'https://pokeapi.co/api/v2/pokemon-species/234/'},\n",
       "  {'name': 'smeargle',\n",
       "   'url': 'https://pokeapi.co/api/v2/pokemon-species/235/'},\n",
       "  {'name': 'tyrogue', 'url': 'https://pokeapi.co/api/v2/pokemon-species/236/'},\n",
       "  {'name': 'smoochum',\n",
       "   'url': 'https://pokeapi.co/api/v2/pokemon-species/238/'},\n",
       "  {'name': 'elekid', 'url': 'https://pokeapi.co/api/v2/pokemon-species/239/'},\n",
       "  {'name': 'magby', 'url': 'https://pokeapi.co/api/v2/pokemon-species/240/'},\n",
       "  {'name': 'miltank', 'url': 'https://pokeapi.co/api/v2/pokemon-species/241/'},\n",
       "  {'name': 'raikou', 'url': 'https://pokeapi.co/api/v2/pokemon-species/243/'},\n",
       "  {'name': 'entei', 'url': 'https://pokeapi.co/api/v2/pokemon-species/244/'},\n",
       "  {'name': 'suicune', 'url': 'https://pokeapi.co/api/v2/pokemon-species/245/'},\n",
       "  {'name': 'larvitar',\n",
       "   'url': 'https://pokeapi.co/api/v2/pokemon-species/246/'},\n",
       "  {'name': 'lugia', 'url': 'https://pokeapi.co/api/v2/pokemon-species/249/'},\n",
       "  {'name': 'ho-oh', 'url': 'https://pokeapi.co/api/v2/pokemon-species/250/'},\n",
       "  {'name': 'celebi', 'url': 'https://pokeapi.co/api/v2/pokemon-species/251/'},\n",
       "  {'name': 'houndoom',\n",
       "   'url': 'https://pokeapi.co/api/v2/pokemon-species/229/'},\n",
       "  {'name': 'kingdra', 'url': 'https://pokeapi.co/api/v2/pokemon-species/230/'},\n",
       "  {'name': 'donphan', 'url': 'https://pokeapi.co/api/v2/pokemon-species/232/'},\n",
       "  {'name': 'porygon2',\n",
       "   'url': 'https://pokeapi.co/api/v2/pokemon-species/233/'},\n",
       "  {'name': 'hitmontop',\n",
       "   'url': 'https://pokeapi.co/api/v2/pokemon-species/237/'},\n",
       "  {'name': 'blissey', 'url': 'https://pokeapi.co/api/v2/pokemon-species/242/'},\n",
       "  {'name': 'pupitar', 'url': 'https://pokeapi.co/api/v2/pokemon-species/247/'},\n",
       "  {'name': 'tyranitar',\n",
       "   'url': 'https://pokeapi.co/api/v2/pokemon-species/248/'},\n",
       "  {'name': 'bayleef', 'url': 'https://pokeapi.co/api/v2/pokemon-species/153/'},\n",
       "  {'name': 'mantine',\n",
       "   'url': 'https://pokeapi.co/api/v2/pokemon-species/226/'}],\n",
       " 'types': [{'name': 'steel', 'url': 'https://pokeapi.co/api/v2/type/9/'},\n",
       "  {'name': 'dark', 'url': 'https://pokeapi.co/api/v2/type/17/'},\n",
       "  {'name': 'unknown', 'url': 'https://pokeapi.co/api/v2/type/10001/'}],\n",
       " 'version_groups': [{'name': 'gold-silver',\n",
       "   'url': 'https://pokeapi.co/api/v2/version-group/3/'},\n",
       "  {'name': 'crystal', 'url': 'https://pokeapi.co/api/v2/version-group/4/'}]}"
      ]
     },
     "execution_count": 7,
     "metadata": {},
     "output_type": "execute_result"
    }
   ],
   "source": [
    "RES = requests.get(API_CALL)\n",
    "RES.json()"
   ]
  },
  {
   "cell_type": "code",
   "execution_count": 19,
   "id": "f5724c14",
   "metadata": {},
   "outputs": [
    {
     "data": {
      "text/plain": [
       "[{'name': 'chikorita',\n",
       "  'url': 'https://pokeapi.co/api/v2/pokemon-species/152/'},\n",
       " {'name': 'cyndaquil',\n",
       "  'url': 'https://pokeapi.co/api/v2/pokemon-species/155/'},\n",
       " {'name': 'totodile', 'url': 'https://pokeapi.co/api/v2/pokemon-species/158/'},\n",
       " {'name': 'sentret', 'url': 'https://pokeapi.co/api/v2/pokemon-species/161/'},\n",
       " {'name': 'hoothoot', 'url': 'https://pokeapi.co/api/v2/pokemon-species/163/'},\n",
       " {'name': 'ledyba', 'url': 'https://pokeapi.co/api/v2/pokemon-species/165/'},\n",
       " {'name': 'spinarak', 'url': 'https://pokeapi.co/api/v2/pokemon-species/167/'},\n",
       " {'name': 'chinchou', 'url': 'https://pokeapi.co/api/v2/pokemon-species/170/'},\n",
       " {'name': 'pichu', 'url': 'https://pokeapi.co/api/v2/pokemon-species/172/'},\n",
       " {'name': 'cleffa', 'url': 'https://pokeapi.co/api/v2/pokemon-species/173/'},\n",
       " {'name': 'igglybuff',\n",
       "  'url': 'https://pokeapi.co/api/v2/pokemon-species/174/'},\n",
       " {'name': 'togepi', 'url': 'https://pokeapi.co/api/v2/pokemon-species/175/'},\n",
       " {'name': 'natu', 'url': 'https://pokeapi.co/api/v2/pokemon-species/177/'},\n",
       " {'name': 'mareep', 'url': 'https://pokeapi.co/api/v2/pokemon-species/179/'},\n",
       " {'name': 'hoppip', 'url': 'https://pokeapi.co/api/v2/pokemon-species/187/'},\n",
       " {'name': 'aipom', 'url': 'https://pokeapi.co/api/v2/pokemon-species/190/'},\n",
       " {'name': 'sunkern', 'url': 'https://pokeapi.co/api/v2/pokemon-species/191/'},\n",
       " {'name': 'yanma', 'url': 'https://pokeapi.co/api/v2/pokemon-species/193/'},\n",
       " {'name': 'wooper', 'url': 'https://pokeapi.co/api/v2/pokemon-species/194/'},\n",
       " {'name': 'murkrow', 'url': 'https://pokeapi.co/api/v2/pokemon-species/198/'},\n",
       " {'name': 'misdreavus',\n",
       "  'url': 'https://pokeapi.co/api/v2/pokemon-species/200/'},\n",
       " {'name': 'unown', 'url': 'https://pokeapi.co/api/v2/pokemon-species/201/'},\n",
       " {'name': 'girafarig',\n",
       "  'url': 'https://pokeapi.co/api/v2/pokemon-species/203/'},\n",
       " {'name': 'pineco', 'url': 'https://pokeapi.co/api/v2/pokemon-species/204/'},\n",
       " {'name': 'dunsparce',\n",
       "  'url': 'https://pokeapi.co/api/v2/pokemon-species/206/'},\n",
       " {'name': 'gligar', 'url': 'https://pokeapi.co/api/v2/pokemon-species/207/'},\n",
       " {'name': 'snubbull', 'url': 'https://pokeapi.co/api/v2/pokemon-species/209/'},\n",
       " {'name': 'qwilfish', 'url': 'https://pokeapi.co/api/v2/pokemon-species/211/'},\n",
       " {'name': 'shuckle', 'url': 'https://pokeapi.co/api/v2/pokemon-species/213/'},\n",
       " {'name': 'heracross',\n",
       "  'url': 'https://pokeapi.co/api/v2/pokemon-species/214/'},\n",
       " {'name': 'sneasel', 'url': 'https://pokeapi.co/api/v2/pokemon-species/215/'},\n",
       " {'name': 'teddiursa',\n",
       "  'url': 'https://pokeapi.co/api/v2/pokemon-species/216/'},\n",
       " {'name': 'slugma', 'url': 'https://pokeapi.co/api/v2/pokemon-species/218/'},\n",
       " {'name': 'swinub', 'url': 'https://pokeapi.co/api/v2/pokemon-species/220/'},\n",
       " {'name': 'corsola', 'url': 'https://pokeapi.co/api/v2/pokemon-species/222/'},\n",
       " {'name': 'remoraid', 'url': 'https://pokeapi.co/api/v2/pokemon-species/223/'},\n",
       " {'name': 'delibird', 'url': 'https://pokeapi.co/api/v2/pokemon-species/225/'},\n",
       " {'name': 'meganium', 'url': 'https://pokeapi.co/api/v2/pokemon-species/154/'},\n",
       " {'name': 'quilava', 'url': 'https://pokeapi.co/api/v2/pokemon-species/156/'},\n",
       " {'name': 'typhlosion',\n",
       "  'url': 'https://pokeapi.co/api/v2/pokemon-species/157/'},\n",
       " {'name': 'croconaw', 'url': 'https://pokeapi.co/api/v2/pokemon-species/159/'},\n",
       " {'name': 'feraligatr',\n",
       "  'url': 'https://pokeapi.co/api/v2/pokemon-species/160/'},\n",
       " {'name': 'furret', 'url': 'https://pokeapi.co/api/v2/pokemon-species/162/'},\n",
       " {'name': 'noctowl', 'url': 'https://pokeapi.co/api/v2/pokemon-species/164/'},\n",
       " {'name': 'ledian', 'url': 'https://pokeapi.co/api/v2/pokemon-species/166/'},\n",
       " {'name': 'ariados', 'url': 'https://pokeapi.co/api/v2/pokemon-species/168/'},\n",
       " {'name': 'crobat', 'url': 'https://pokeapi.co/api/v2/pokemon-species/169/'},\n",
       " {'name': 'lanturn', 'url': 'https://pokeapi.co/api/v2/pokemon-species/171/'},\n",
       " {'name': 'togetic', 'url': 'https://pokeapi.co/api/v2/pokemon-species/176/'},\n",
       " {'name': 'xatu', 'url': 'https://pokeapi.co/api/v2/pokemon-species/178/'},\n",
       " {'name': 'flaaffy', 'url': 'https://pokeapi.co/api/v2/pokemon-species/180/'},\n",
       " {'name': 'ampharos', 'url': 'https://pokeapi.co/api/v2/pokemon-species/181/'},\n",
       " {'name': 'bellossom',\n",
       "  'url': 'https://pokeapi.co/api/v2/pokemon-species/182/'},\n",
       " {'name': 'marill', 'url': 'https://pokeapi.co/api/v2/pokemon-species/183/'},\n",
       " {'name': 'azumarill',\n",
       "  'url': 'https://pokeapi.co/api/v2/pokemon-species/184/'},\n",
       " {'name': 'sudowoodo',\n",
       "  'url': 'https://pokeapi.co/api/v2/pokemon-species/185/'},\n",
       " {'name': 'politoed', 'url': 'https://pokeapi.co/api/v2/pokemon-species/186/'},\n",
       " {'name': 'skiploom', 'url': 'https://pokeapi.co/api/v2/pokemon-species/188/'},\n",
       " {'name': 'jumpluff', 'url': 'https://pokeapi.co/api/v2/pokemon-species/189/'},\n",
       " {'name': 'sunflora', 'url': 'https://pokeapi.co/api/v2/pokemon-species/192/'},\n",
       " {'name': 'quagsire', 'url': 'https://pokeapi.co/api/v2/pokemon-species/195/'},\n",
       " {'name': 'espeon', 'url': 'https://pokeapi.co/api/v2/pokemon-species/196/'},\n",
       " {'name': 'umbreon', 'url': 'https://pokeapi.co/api/v2/pokemon-species/197/'},\n",
       " {'name': 'slowking', 'url': 'https://pokeapi.co/api/v2/pokemon-species/199/'},\n",
       " {'name': 'wobbuffet',\n",
       "  'url': 'https://pokeapi.co/api/v2/pokemon-species/202/'},\n",
       " {'name': 'forretress',\n",
       "  'url': 'https://pokeapi.co/api/v2/pokemon-species/205/'},\n",
       " {'name': 'steelix', 'url': 'https://pokeapi.co/api/v2/pokemon-species/208/'},\n",
       " {'name': 'granbull', 'url': 'https://pokeapi.co/api/v2/pokemon-species/210/'},\n",
       " {'name': 'scizor', 'url': 'https://pokeapi.co/api/v2/pokemon-species/212/'},\n",
       " {'name': 'ursaring', 'url': 'https://pokeapi.co/api/v2/pokemon-species/217/'},\n",
       " {'name': 'magcargo', 'url': 'https://pokeapi.co/api/v2/pokemon-species/219/'},\n",
       " {'name': 'piloswine',\n",
       "  'url': 'https://pokeapi.co/api/v2/pokemon-species/221/'},\n",
       " {'name': 'octillery',\n",
       "  'url': 'https://pokeapi.co/api/v2/pokemon-species/224/'},\n",
       " {'name': 'skarmory', 'url': 'https://pokeapi.co/api/v2/pokemon-species/227/'},\n",
       " {'name': 'houndour', 'url': 'https://pokeapi.co/api/v2/pokemon-species/228/'},\n",
       " {'name': 'phanpy', 'url': 'https://pokeapi.co/api/v2/pokemon-species/231/'},\n",
       " {'name': 'stantler', 'url': 'https://pokeapi.co/api/v2/pokemon-species/234/'},\n",
       " {'name': 'smeargle', 'url': 'https://pokeapi.co/api/v2/pokemon-species/235/'},\n",
       " {'name': 'tyrogue', 'url': 'https://pokeapi.co/api/v2/pokemon-species/236/'},\n",
       " {'name': 'smoochum', 'url': 'https://pokeapi.co/api/v2/pokemon-species/238/'},\n",
       " {'name': 'elekid', 'url': 'https://pokeapi.co/api/v2/pokemon-species/239/'},\n",
       " {'name': 'magby', 'url': 'https://pokeapi.co/api/v2/pokemon-species/240/'},\n",
       " {'name': 'miltank', 'url': 'https://pokeapi.co/api/v2/pokemon-species/241/'},\n",
       " {'name': 'raikou', 'url': 'https://pokeapi.co/api/v2/pokemon-species/243/'},\n",
       " {'name': 'entei', 'url': 'https://pokeapi.co/api/v2/pokemon-species/244/'},\n",
       " {'name': 'suicune', 'url': 'https://pokeapi.co/api/v2/pokemon-species/245/'},\n",
       " {'name': 'larvitar', 'url': 'https://pokeapi.co/api/v2/pokemon-species/246/'},\n",
       " {'name': 'lugia', 'url': 'https://pokeapi.co/api/v2/pokemon-species/249/'},\n",
       " {'name': 'ho-oh', 'url': 'https://pokeapi.co/api/v2/pokemon-species/250/'},\n",
       " {'name': 'celebi', 'url': 'https://pokeapi.co/api/v2/pokemon-species/251/'},\n",
       " {'name': 'houndoom', 'url': 'https://pokeapi.co/api/v2/pokemon-species/229/'},\n",
       " {'name': 'kingdra', 'url': 'https://pokeapi.co/api/v2/pokemon-species/230/'},\n",
       " {'name': 'donphan', 'url': 'https://pokeapi.co/api/v2/pokemon-species/232/'},\n",
       " {'name': 'porygon2', 'url': 'https://pokeapi.co/api/v2/pokemon-species/233/'},\n",
       " {'name': 'hitmontop',\n",
       "  'url': 'https://pokeapi.co/api/v2/pokemon-species/237/'},\n",
       " {'name': 'blissey', 'url': 'https://pokeapi.co/api/v2/pokemon-species/242/'},\n",
       " {'name': 'pupitar', 'url': 'https://pokeapi.co/api/v2/pokemon-species/247/'},\n",
       " {'name': 'tyranitar',\n",
       "  'url': 'https://pokeapi.co/api/v2/pokemon-species/248/'},\n",
       " {'name': 'bayleef', 'url': 'https://pokeapi.co/api/v2/pokemon-species/153/'},\n",
       " {'name': 'mantine', 'url': 'https://pokeapi.co/api/v2/pokemon-species/226/'}]"
      ]
     },
     "execution_count": 19,
     "metadata": {},
     "output_type": "execute_result"
    }
   ],
   "source": [
    "DATA = RES.json()\n",
    "DATA['moves']\n",
    "#dir(requests)"
   ]
  },
  {
   "cell_type": "code",
   "execution_count": 23,
   "id": "db566b8b",
   "metadata": {},
   "outputs": [
    {
     "data": {
      "text/plain": [
       "[{'language': {'name': 'ja-Hrkt',\n",
       "   'url': 'https://pokeapi.co/api/v2/language/1/'},\n",
       "  'name': 'だいにせだい'},\n",
       " {'language': {'name': 'ko', 'url': 'https://pokeapi.co/api/v2/language/3/'},\n",
       "  'name': '2세대'},\n",
       " {'language': {'name': 'fr', 'url': 'https://pokeapi.co/api/v2/language/5/'},\n",
       "  'name': 'Génération II'},\n",
       " {'language': {'name': 'de', 'url': 'https://pokeapi.co/api/v2/language/6/'},\n",
       "  'name': 'Generation II'},\n",
       " {'language': {'name': 'es', 'url': 'https://pokeapi.co/api/v2/language/7/'},\n",
       "  'name': 'Generación II'},\n",
       " {'language': {'name': 'en', 'url': 'https://pokeapi.co/api/v2/language/9/'},\n",
       "  'name': 'Generation II'},\n",
       " {'language': {'name': 'ja', 'url': 'https://pokeapi.co/api/v2/language/11/'},\n",
       "  'name': '第二世代'}]"
      ]
     },
     "execution_count": 23,
     "metadata": {},
     "output_type": "execute_result"
    }
   ],
   "source": [
    "DATA['names']"
   ]
  },
  {
   "cell_type": "code",
   "execution_count": 21,
   "id": "fefcc2a7",
   "metadata": {},
   "outputs": [
    {
     "data": {
      "text/plain": [
       "[{'name': 'chikorita',\n",
       "  'url': 'https://pokeapi.co/api/v2/pokemon-species/152/'},\n",
       " {'name': 'cyndaquil',\n",
       "  'url': 'https://pokeapi.co/api/v2/pokemon-species/155/'},\n",
       " {'name': 'totodile', 'url': 'https://pokeapi.co/api/v2/pokemon-species/158/'},\n",
       " {'name': 'sentret', 'url': 'https://pokeapi.co/api/v2/pokemon-species/161/'},\n",
       " {'name': 'hoothoot', 'url': 'https://pokeapi.co/api/v2/pokemon-species/163/'},\n",
       " {'name': 'ledyba', 'url': 'https://pokeapi.co/api/v2/pokemon-species/165/'},\n",
       " {'name': 'spinarak', 'url': 'https://pokeapi.co/api/v2/pokemon-species/167/'},\n",
       " {'name': 'chinchou', 'url': 'https://pokeapi.co/api/v2/pokemon-species/170/'},\n",
       " {'name': 'pichu', 'url': 'https://pokeapi.co/api/v2/pokemon-species/172/'},\n",
       " {'name': 'cleffa', 'url': 'https://pokeapi.co/api/v2/pokemon-species/173/'},\n",
       " {'name': 'igglybuff',\n",
       "  'url': 'https://pokeapi.co/api/v2/pokemon-species/174/'},\n",
       " {'name': 'togepi', 'url': 'https://pokeapi.co/api/v2/pokemon-species/175/'},\n",
       " {'name': 'natu', 'url': 'https://pokeapi.co/api/v2/pokemon-species/177/'},\n",
       " {'name': 'mareep', 'url': 'https://pokeapi.co/api/v2/pokemon-species/179/'},\n",
       " {'name': 'hoppip', 'url': 'https://pokeapi.co/api/v2/pokemon-species/187/'},\n",
       " {'name': 'aipom', 'url': 'https://pokeapi.co/api/v2/pokemon-species/190/'},\n",
       " {'name': 'sunkern', 'url': 'https://pokeapi.co/api/v2/pokemon-species/191/'},\n",
       " {'name': 'yanma', 'url': 'https://pokeapi.co/api/v2/pokemon-species/193/'},\n",
       " {'name': 'wooper', 'url': 'https://pokeapi.co/api/v2/pokemon-species/194/'},\n",
       " {'name': 'murkrow', 'url': 'https://pokeapi.co/api/v2/pokemon-species/198/'},\n",
       " {'name': 'misdreavus',\n",
       "  'url': 'https://pokeapi.co/api/v2/pokemon-species/200/'},\n",
       " {'name': 'unown', 'url': 'https://pokeapi.co/api/v2/pokemon-species/201/'},\n",
       " {'name': 'girafarig',\n",
       "  'url': 'https://pokeapi.co/api/v2/pokemon-species/203/'},\n",
       " {'name': 'pineco', 'url': 'https://pokeapi.co/api/v2/pokemon-species/204/'},\n",
       " {'name': 'dunsparce',\n",
       "  'url': 'https://pokeapi.co/api/v2/pokemon-species/206/'},\n",
       " {'name': 'gligar', 'url': 'https://pokeapi.co/api/v2/pokemon-species/207/'},\n",
       " {'name': 'snubbull', 'url': 'https://pokeapi.co/api/v2/pokemon-species/209/'},\n",
       " {'name': 'qwilfish', 'url': 'https://pokeapi.co/api/v2/pokemon-species/211/'},\n",
       " {'name': 'shuckle', 'url': 'https://pokeapi.co/api/v2/pokemon-species/213/'},\n",
       " {'name': 'heracross',\n",
       "  'url': 'https://pokeapi.co/api/v2/pokemon-species/214/'},\n",
       " {'name': 'sneasel', 'url': 'https://pokeapi.co/api/v2/pokemon-species/215/'},\n",
       " {'name': 'teddiursa',\n",
       "  'url': 'https://pokeapi.co/api/v2/pokemon-species/216/'},\n",
       " {'name': 'slugma', 'url': 'https://pokeapi.co/api/v2/pokemon-species/218/'},\n",
       " {'name': 'swinub', 'url': 'https://pokeapi.co/api/v2/pokemon-species/220/'},\n",
       " {'name': 'corsola', 'url': 'https://pokeapi.co/api/v2/pokemon-species/222/'},\n",
       " {'name': 'remoraid', 'url': 'https://pokeapi.co/api/v2/pokemon-species/223/'},\n",
       " {'name': 'delibird', 'url': 'https://pokeapi.co/api/v2/pokemon-species/225/'},\n",
       " {'name': 'meganium', 'url': 'https://pokeapi.co/api/v2/pokemon-species/154/'},\n",
       " {'name': 'quilava', 'url': 'https://pokeapi.co/api/v2/pokemon-species/156/'},\n",
       " {'name': 'typhlosion',\n",
       "  'url': 'https://pokeapi.co/api/v2/pokemon-species/157/'},\n",
       " {'name': 'croconaw', 'url': 'https://pokeapi.co/api/v2/pokemon-species/159/'},\n",
       " {'name': 'feraligatr',\n",
       "  'url': 'https://pokeapi.co/api/v2/pokemon-species/160/'},\n",
       " {'name': 'furret', 'url': 'https://pokeapi.co/api/v2/pokemon-species/162/'},\n",
       " {'name': 'noctowl', 'url': 'https://pokeapi.co/api/v2/pokemon-species/164/'},\n",
       " {'name': 'ledian', 'url': 'https://pokeapi.co/api/v2/pokemon-species/166/'},\n",
       " {'name': 'ariados', 'url': 'https://pokeapi.co/api/v2/pokemon-species/168/'},\n",
       " {'name': 'crobat', 'url': 'https://pokeapi.co/api/v2/pokemon-species/169/'},\n",
       " {'name': 'lanturn', 'url': 'https://pokeapi.co/api/v2/pokemon-species/171/'},\n",
       " {'name': 'togetic', 'url': 'https://pokeapi.co/api/v2/pokemon-species/176/'},\n",
       " {'name': 'xatu', 'url': 'https://pokeapi.co/api/v2/pokemon-species/178/'},\n",
       " {'name': 'flaaffy', 'url': 'https://pokeapi.co/api/v2/pokemon-species/180/'},\n",
       " {'name': 'ampharos', 'url': 'https://pokeapi.co/api/v2/pokemon-species/181/'},\n",
       " {'name': 'bellossom',\n",
       "  'url': 'https://pokeapi.co/api/v2/pokemon-species/182/'},\n",
       " {'name': 'marill', 'url': 'https://pokeapi.co/api/v2/pokemon-species/183/'},\n",
       " {'name': 'azumarill',\n",
       "  'url': 'https://pokeapi.co/api/v2/pokemon-species/184/'},\n",
       " {'name': 'sudowoodo',\n",
       "  'url': 'https://pokeapi.co/api/v2/pokemon-species/185/'},\n",
       " {'name': 'politoed', 'url': 'https://pokeapi.co/api/v2/pokemon-species/186/'},\n",
       " {'name': 'skiploom', 'url': 'https://pokeapi.co/api/v2/pokemon-species/188/'},\n",
       " {'name': 'jumpluff', 'url': 'https://pokeapi.co/api/v2/pokemon-species/189/'},\n",
       " {'name': 'sunflora', 'url': 'https://pokeapi.co/api/v2/pokemon-species/192/'},\n",
       " {'name': 'quagsire', 'url': 'https://pokeapi.co/api/v2/pokemon-species/195/'},\n",
       " {'name': 'espeon', 'url': 'https://pokeapi.co/api/v2/pokemon-species/196/'},\n",
       " {'name': 'umbreon', 'url': 'https://pokeapi.co/api/v2/pokemon-species/197/'},\n",
       " {'name': 'slowking', 'url': 'https://pokeapi.co/api/v2/pokemon-species/199/'},\n",
       " {'name': 'wobbuffet',\n",
       "  'url': 'https://pokeapi.co/api/v2/pokemon-species/202/'},\n",
       " {'name': 'forretress',\n",
       "  'url': 'https://pokeapi.co/api/v2/pokemon-species/205/'},\n",
       " {'name': 'steelix', 'url': 'https://pokeapi.co/api/v2/pokemon-species/208/'},\n",
       " {'name': 'granbull', 'url': 'https://pokeapi.co/api/v2/pokemon-species/210/'},\n",
       " {'name': 'scizor', 'url': 'https://pokeapi.co/api/v2/pokemon-species/212/'},\n",
       " {'name': 'ursaring', 'url': 'https://pokeapi.co/api/v2/pokemon-species/217/'},\n",
       " {'name': 'magcargo', 'url': 'https://pokeapi.co/api/v2/pokemon-species/219/'},\n",
       " {'name': 'piloswine',\n",
       "  'url': 'https://pokeapi.co/api/v2/pokemon-species/221/'},\n",
       " {'name': 'octillery',\n",
       "  'url': 'https://pokeapi.co/api/v2/pokemon-species/224/'},\n",
       " {'name': 'skarmory', 'url': 'https://pokeapi.co/api/v2/pokemon-species/227/'},\n",
       " {'name': 'houndour', 'url': 'https://pokeapi.co/api/v2/pokemon-species/228/'},\n",
       " {'name': 'phanpy', 'url': 'https://pokeapi.co/api/v2/pokemon-species/231/'},\n",
       " {'name': 'stantler', 'url': 'https://pokeapi.co/api/v2/pokemon-species/234/'},\n",
       " {'name': 'smeargle', 'url': 'https://pokeapi.co/api/v2/pokemon-species/235/'},\n",
       " {'name': 'tyrogue', 'url': 'https://pokeapi.co/api/v2/pokemon-species/236/'},\n",
       " {'name': 'smoochum', 'url': 'https://pokeapi.co/api/v2/pokemon-species/238/'},\n",
       " {'name': 'elekid', 'url': 'https://pokeapi.co/api/v2/pokemon-species/239/'},\n",
       " {'name': 'magby', 'url': 'https://pokeapi.co/api/v2/pokemon-species/240/'},\n",
       " {'name': 'miltank', 'url': 'https://pokeapi.co/api/v2/pokemon-species/241/'},\n",
       " {'name': 'raikou', 'url': 'https://pokeapi.co/api/v2/pokemon-species/243/'},\n",
       " {'name': 'entei', 'url': 'https://pokeapi.co/api/v2/pokemon-species/244/'},\n",
       " {'name': 'suicune', 'url': 'https://pokeapi.co/api/v2/pokemon-species/245/'},\n",
       " {'name': 'larvitar', 'url': 'https://pokeapi.co/api/v2/pokemon-species/246/'},\n",
       " {'name': 'lugia', 'url': 'https://pokeapi.co/api/v2/pokemon-species/249/'},\n",
       " {'name': 'ho-oh', 'url': 'https://pokeapi.co/api/v2/pokemon-species/250/'},\n",
       " {'name': 'celebi', 'url': 'https://pokeapi.co/api/v2/pokemon-species/251/'},\n",
       " {'name': 'houndoom', 'url': 'https://pokeapi.co/api/v2/pokemon-species/229/'},\n",
       " {'name': 'kingdra', 'url': 'https://pokeapi.co/api/v2/pokemon-species/230/'},\n",
       " {'name': 'donphan', 'url': 'https://pokeapi.co/api/v2/pokemon-species/232/'},\n",
       " {'name': 'porygon2', 'url': 'https://pokeapi.co/api/v2/pokemon-species/233/'},\n",
       " {'name': 'hitmontop',\n",
       "  'url': 'https://pokeapi.co/api/v2/pokemon-species/237/'},\n",
       " {'name': 'blissey', 'url': 'https://pokeapi.co/api/v2/pokemon-species/242/'},\n",
       " {'name': 'pupitar', 'url': 'https://pokeapi.co/api/v2/pokemon-species/247/'},\n",
       " {'name': 'tyranitar',\n",
       "  'url': 'https://pokeapi.co/api/v2/pokemon-species/248/'},\n",
       " {'name': 'bayleef', 'url': 'https://pokeapi.co/api/v2/pokemon-species/153/'},\n",
       " {'name': 'mantine', 'url': 'https://pokeapi.co/api/v2/pokemon-species/226/'}]"
      ]
     },
     "execution_count": 21,
     "metadata": {},
     "output_type": "execute_result"
    }
   ],
   "source": [
    "DATA['pokemon_species']"
   ]
  },
  {
   "cell_type": "markdown",
   "id": "1946988d",
   "metadata": {},
   "source": [
    "Zad.1. Podaj ilość pokemontów, które dotycza II generacji. Poproś API również o dane z innej generacji i wykonaj wykres zestawiajacy te wartosci.  "
   ]
  },
  {
   "cell_type": "code",
   "execution_count": 47,
   "id": "eaac915d",
   "metadata": {},
   "outputs": [
    {
     "name": "stdout",
     "output_type": "stream",
     "text": [
      "Liczba imion pokemnonow II generacji POKEMON SPECIES wynosi: 100.\n"
     ]
    }
   ],
   "source": [
    "#pp = pprint.PrettyPrinter(indent=1)\n",
    "#pp.pprint(DATA)\n",
    "#len(DATA['pokemon_species'])\n",
    "\n",
    "#list(zip(DATA['pokemon_species']))\n",
    "list_of_keys = []\n",
    "for k in DATA['pokemon_species']:\n",
    "    list_of_keys.append(\n",
    "        k['name']\n",
    "        )\n",
    "pokemon_species_number = len(list_of_keys)\n",
    "print(f\"Liczba imion pokemnonow II generacji POKEMON SPECIES wynosi: {pokemon_species_number}.\")"
   ]
  },
  {
   "cell_type": "code",
   "execution_count": 48,
   "id": "9b21dd07",
   "metadata": {},
   "outputs": [
    {
     "name": "stdout",
     "output_type": "stream",
     "text": [
      "Liczba imion pokemnonow generacji MOVES wynosi: 86.\n"
     ]
    }
   ],
   "source": [
    "list_of_moves_names = []\n",
    "for k in DATA['moves']:\n",
    "    list_of_moves_names.append(\n",
    "        k['name']\n",
    "        )\n",
    "moves_names_number = len(list_of_moves_names)\n",
    "print(f\"Liczba imion pokemnonow generacji MOVES wynosi: {moves_names_number}.\")"
   ]
  },
  {
   "cell_type": "code",
   "execution_count": 62,
   "id": "173d9e30",
   "metadata": {},
   "outputs": [
    {
     "data": {
      "image/png": "[encoded data removed]",
      "text/plain": [
       "<Figure size 432x288 with 1 Axes>"
      ]
     },
     "metadata": {
      "needs_background": "light"
     },
     "output_type": "display_data"
    }
   ],
   "source": [
    "import matplotlib.pyplot as plt\n",
    "import numpy as np\n",
    "\n",
    "x_bar = np.array(['Pokemon species', 'Moves'])\n",
    "y_bar = np.array([pokemon_species_number,moves_names_number])\n",
    "plt.bar(x_bar, y_bar) \n",
    "plt.xlabel('Generation of Pokemones')\n",
    "plt.ylabel('Number of Pokemones')\n",
    "plt.show()"
   ]
  },
  {
   "cell_type": "markdown",
   "id": "7081a465",
   "metadata": {},
   "source": [
    "Zad.2. Spróbuj wyciągnać wagę Pikachu :)"
   ]
  },
  {
   "cell_type": "code",
   "execution_count": 72,
   "id": "fb713cc2",
   "metadata": {},
   "outputs": [
    {
     "data": {
      "text/plain": [
       "60"
      ]
     },
     "execution_count": 72,
     "metadata": {},
     "output_type": "execute_result"
    }
   ],
   "source": [
    "# Gdzie jest ten Pikachu?\n",
    "pikachu = requests.get(\"https://pokeapi.co/api/v2/pokemon/pikachu\").json()\n",
    "pikachu['weight']"
   ]
  },
  {
   "cell_type": "markdown",
   "id": "2796fda0",
   "metadata": {},
   "source": [
    "Zad.3. Podaj wartość base_experience dla Charizarda i jego form. Który ma najwięcej?"
   ]
  },
  {
   "cell_type": "code",
   "execution_count": 98,
   "id": "9e10ddfd",
   "metadata": {},
   "outputs": [
    {
     "name": "stdout",
     "output_type": "stream",
     "text": [
      "240 as a Base experience for Charizard in form: charizard.\n",
      "285 as a Base experience for Charizard in form: charizard-mega-x.\n",
      "285 as a Base experience for Charizard in form: charizard-mega-y.\n",
      "240 as a Base experience for Charizard in form: charizard-gmax.\n"
     ]
    }
   ],
   "source": [
    "# Gdzie jest ten Charizard?\n",
    "charizard = requests.get(\"https://pokeapi.co/api/v2/pokemon-species/6/\").json() \n",
    "for element in charizard['varieties']:\n",
    "    charizard_search = requests.get(element['pokemon']['url']).json() # pobieramy key-value z json\n",
    "    print(\"{} as a Base experience for Charizard in form: {}.\".format(charizard_search['base_experience'], charizard_search['forms'][0]['name']) )\n",
    "    "
   ]
  },
  {
   "cell_type": "markdown",
   "id": "7e442f83",
   "metadata": {},
   "source": [
    "Zad.4. Policz ilosc pokemontow typu 'ground' i 'flying'. Poczytaj jak dokonac takiej selekcji w dokumentacji. "
   ]
  },
  {
   "cell_type": "code",
   "execution_count": 92,
   "id": "35be973e",
   "metadata": {},
   "outputs": [
    {
     "name": "stdout",
     "output_type": "stream",
     "text": [
      "Number of 'flying' pokemons: 135.\n"
     ]
    }
   ],
   "source": [
    "flying = requests.get(\"https://pokeapi.co/api/v2/type/flying\").json() \n",
    "list_flying = 0\n",
    "for x in flying['pokemon']:\n",
    "    list_flying = list_flying + 1\n",
    "print(f\"Number of 'flying' pokemons: {list_flying}.\")"
   ]
  },
  {
   "cell_type": "code",
   "execution_count": 93,
   "id": "1ac4c807",
   "metadata": {},
   "outputs": [
    {
     "name": "stdout",
     "output_type": "stream",
     "text": [
      "Number of 'ground' pokemons: 82.\n"
     ]
    }
   ],
   "source": [
    "ground = requests.get(\"https://pokeapi.co/api/v2/type/ground\").json() \n",
    "list_ground = 0\n",
    "for x in ground['pokemon']:\n",
    "    list_ground = list_ground + 1\n",
    "print(f\"Number of 'ground' pokemons: {list_ground}.\")"
   ]
  },
  {
   "cell_type": "code",
   "execution_count": null,
   "id": "4a145b56",
   "metadata": {},
   "outputs": [],
   "source": []
  }
 ],
 "metadata": {
  "kernelspec": {
   "display_name": "Python 3",
   "language": "python",
   "name": "python3"
  },
  "language_info": {
   "codemirror_mode": {
    "name": "ipython",
    "version": 3
   },
   "file_extension": ".py",
   "mimetype": "text/x-python",
   "name": "python",
   "nbconvert_exporter": "python",
   "pygments_lexer": "ipython3",
   "version": "3.8.8"
  }
 },
 "nbformat": 4,
 "nbformat_minor": 5
}
