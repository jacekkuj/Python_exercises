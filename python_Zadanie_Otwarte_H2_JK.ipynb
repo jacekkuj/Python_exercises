{
  "metadata": {
    "kernelspec": {
      "language": "python",
      "display_name": "Python 3",
      "name": "python3"
    },
    "language_info": {
      "name": "python",
      "version": "3.10.13",
      "mimetype": "text/x-python",
      "codemirror_mode": {
        "name": "ipython",
        "version": 3
      },
      "pygments_lexer": "ipython3",
      "nbconvert_exporter": "python",
      "file_extension": ".py"
    },
    "kaggle": {
      "accelerator": "none",
      "dataSources": [],
      "dockerImageVersionId": 30664,
      "isInternetEnabled": true,
      "language": "python",
      "sourceType": "notebook",
      "isGpuEnabled": false
    },
    "colab": {
      "provenance": []
    }
  },
  "nbformat_minor": 0,
  "nbformat": 4,
  "cells": [
    {
      "cell_type": "markdown",
      "source": [
        "### Zadanie 1: Grupowanie słów według pierwszej litery\n",
        "\n",
        "Napisz program, który będzie grupował słowa z podanej listy według ich pierwszej litery, tworząc słownik. Kluczem w tym słowniku powinna być pierwsza litera słowa, a wartością - lista słów zaczynających się na daną literę. Funkcja powinna nazywać się group_words. Program powinien zadziałać nawet w przypadku, gdy lista zawiera słowa rozpoczynające się zarówno od dużych, jak i małych liter - traktuj je jednolicie (np. 'Apple' i 'apple' powinny być grupowane razem).\n",
        "Przykład działania:\n",
        "\n",
        "```python\n",
        "words = ['apple', 'banana', 'Apricot', 'blackberry', 'cherry', 'date']\n",
        "result = group_words(words)\n",
        "print(result)\n",
        "```\n",
        "Oczekiwany wynik:\n",
        "\n",
        "\n",
        "```python\n",
        "{'a': ['apple', 'Apricot'], 'b': ['banana', 'blackberry'], 'c': ['cherry'], 'd': ['date']\n",
        "```"
      ],
      "metadata": {
        "_uuid": "8f2839f25d086af736a60e9eeb907d3b93b6e0e5",
        "_cell_guid": "b1076dfc-b9ad-4769-8c92-a6c4dae69d19",
        "id": "TX-qB1MCG1ux"
      }
    },
    {
      "cell_type": "code",
      "source": [
        "def group_words(word_list):\n",
        "  grouped_words = {}\n",
        "  for word in word_list:\n",
        "    if word:\n",
        "      if word[0].lower() not in grouped_words:\n",
        "        grouped_words[word[0].lower()] = []\n",
        "      grouped_words[word[0].lower()].append(word)\n",
        "  return grouped_words\n",
        "\n",
        "result = group_words(words)\n",
        "result"
      ],
      "metadata": {
        "colab": {
          "base_uri": "https://localhost:8080/"
        },
        "id": "movLQ62hkqBR",
        "outputId": "5d5676f0-0fd9-4d7a-82d8-33fc51241ca9"
      },
      "execution_count": null,
      "outputs": [
        {
          "output_type": "execute_result",
          "data": {
            "text/plain": [
              "{'a': ['apple', 'Apricot'],\n",
              " 'b': ['banana', 'blackberry'],\n",
              " 'c': ['cherry'],\n",
              " 'd': ['date']}"
            ]
          },
          "metadata": {},
          "execution_count": 8
        }
      ]
    },
    {
      "cell_type": "markdown",
      "source": [
        "### Zadanie 2: Filtracja danych osobowych\n",
        "\n",
        "Napisz funkcję filter_adults, która przyjmie słownik zawierający imiona osób i ich wiek, a następnie zwróci nowy słownik, który będzie zawierał tylko dane osób pełnoletnich (18 lat i więcej). Program powinien zadbać o to, aby nie uwzględniać osób niepełnoletnich w wynikowym słowniku.\n",
        "Przykład działania:\n",
        "\n",
        "\n",
        "```python\n",
        "people_ages = {'Anna': 17, 'Bob': 22, 'Carol': 15, 'Dave': 18}\n",
        "adults = filter_adults(people_ages)\n",
        "print(adults)\n",
        "```\n",
        "Oczekiwany wynik:\n",
        "```python\n",
        "{'Bob': 22, 'Dave': 18}\n",
        "```\n",
        "\n"
      ],
      "metadata": {
        "id": "N4-_zMpbG1uz"
      }
    },
    {
      "cell_type": "code",
      "source": [
        "def filter_adults(people_ages):\n",
        "  adults = {}\n",
        "  for name, age in people_ages.items():\n",
        "    if age >= 18:\n",
        "      adults[name] = age\n",
        "  return adults\n",
        "\n",
        "people_ages = {'Anna': 17, 'Bob': 22, 'Carol': 15, 'Dave': 18}\n",
        "adults = filter_adults(people_ages)\n",
        "adults"
      ],
      "metadata": {
        "id": "3YWOyCBSG1uz",
        "colab": {
          "base_uri": "https://localhost:8080/"
        },
        "outputId": "505a7caa-f18f-493b-c91f-d1dee76059b0"
      },
      "execution_count": null,
      "outputs": [
        {
          "output_type": "execute_result",
          "data": {
            "text/plain": [
              "{'Bob': 22, 'Dave': 18}"
            ]
          },
          "metadata": {},
          "execution_count": 15
        }
      ]
    },
    {
      "cell_type": "markdown",
      "source": [
        "# Zadanie 3: Sumowanie wartości w słowniku\n",
        "Napisz funkcję sum_values, która przyjmie słownik zawierający wartości liczbowe i obliczy sumę tych wartości. Funkcja ta będzie bardzo przydatna w przypadkach, gdy chcemy szybko zsumować różnorodne dane liczbowe przechowywane w formie słownika, np. różne koszty, punkty w grze itp.\n",
        "\n",
        "Przykład działania:\n",
        "```python\n",
        "expenses = {'Rent': 1200, 'Groceries': 300, 'Utilities': 150, 'Entertainment': 280}\n",
        "total_expenses = sum_values(expenses)\n",
        "print(total_expenses)\n",
        "```\n",
        "Oczekiwany wynik:\n",
        "1930"
      ],
      "metadata": {
        "id": "UFcpcW06G1uz"
      }
    },
    {
      "cell_type": "code",
      "source": [
        "def sum_values(dictionary):\n",
        "  total = 0\n",
        "  for value in dictionary.values():\n",
        "    if isinstance(value, (int, float)):\n",
        "      total += value\n",
        "  return total\n",
        "\n",
        "expenses = {'Rent': 1200, 'Groceries': 300, 'Utilities': 150, 'Entertainment': 280}\n",
        "total_expenses = sum_values(expenses)\n",
        "total_expenses"
      ],
      "metadata": {
        "id": "J98z2_8WG1u0",
        "colab": {
          "base_uri": "https://localhost:8080/"
        },
        "outputId": "9dc8110c-90a9-4261-c72d-2e770d2fe866"
      },
      "execution_count": 1,
      "outputs": [
        {
          "output_type": "execute_result",
          "data": {
            "text/plain": [
              "1930"
            ]
          },
          "metadata": {},
          "execution_count": 1
        }
      ]
    },
    {
      "cell_type": "markdown",
      "source": [
        "# Zadanie 4: Generator hasła\n",
        "Napisz funkcję generate_password, która przyjmie dwa argumenty: długość hasła i flagę wskazującą, czy hasło powinno zawierać także symbole specjalne (np. @, #, $, itd.). Funkcja powinna generować losowe hasło zawierające małe i duże litery alfabetu angielskiego, cyfry, a opcjonalnie symbole specjalne. Wykorzystaj moduł random do losowania składników hasła."
      ],
      "metadata": {
        "id": "kCjUsl8NG1u0"
      }
    },
    {
      "cell_type": "code",
      "source": [
        "import random\n",
        "import string\n",
        "\n",
        "def generate_password(length, include_special_chars=False):\n",
        "  characters = string.ascii_letters + string.digits\n",
        "  if include_special_chars:\n",
        "    characters += string.punctuation\n",
        "\n",
        "  if length <= 0:\n",
        "    return \"\"\n",
        "\n",
        "  password = ''.join(random.choice(characters) for i in range(length))\n",
        "  return password\n",
        "\n",
        "# Przykłady użycia:\n",
        "print(generate_password(10))\n",
        "print(generate_password(12, include_special_chars=True))\n",
        "print(generate_password(8, False))\n",
        "print(generate_password(0))"
      ],
      "metadata": {
        "colab": {
          "base_uri": "https://localhost:8080/"
        },
        "id": "ufnGDkwpmDAg",
        "outputId": "041aea48-2617-44cf-ff74-00d6892d0406"
      },
      "execution_count": null,
      "outputs": [
        {
          "output_type": "stream",
          "name": "stdout",
          "text": [
            "2jf2jjtRNf\n",
            "H:RW:/'UwAgZ\n",
            "FeqBxByT\n",
            "\n"
          ]
        }
      ]
    },
    {
      "cell_type": "markdown",
      "source": [
        "### Zadanie 5: Kalkulator BMI\n",
        "Napisz program, który poprosi użytkownika o podanie wagi w kilogramach oraz wzrostu w metrach, a następnie obliczy i wyświetli jego wskaźnik BMI (Body Mass Index). BMI obliczane jest jako waga w kilogramach podzielona przez kwadrat wzrostu w metrach. Program powinien również informować użytkownika, w której kategorii BMI się znajduje (niedowaga, waga normalna, nadwaga, otyłość).\n",
        "\n"
      ],
      "metadata": {
        "id": "gkUeaqqmG1u0"
      }
    },
    {
      "cell_type": "code",
      "source": [
        "def calculate_bmi(weight_kg, height_m):\n",
        "  \"\"\"Calculates the Body Mass Index (BMI).\n",
        "\n",
        "  Args:\n",
        "    weight_kg: Weight in kilograms.\n",
        "    height_m: Height in meters.\n",
        "\n",
        "  Returns:\n",
        "    The calculated BMI.\n",
        "  \"\"\"\n",
        "  if height_m <= 0:\n",
        "    return \"Wzrost musi być większy od zera.\"\n",
        "  return weight_kg / (height_m ** 2)\n",
        "\n",
        "def categorize_bmi(bmi):\n",
        "  if isinstance(bmi, str):\n",
        "      return bmi # Return error message if height was not > 0\n",
        "  if bmi < 18.5:\n",
        "    return \"Niedowaga\"\n",
        "  elif 18.5 <= bmi < 25:\n",
        "    return \"Waga normalna\"\n",
        "  elif 25 <= bmi < 30:\n",
        "    return \"Nadwaga\"\n",
        "  else:\n",
        "    return \"Otyłość\"\n",
        "\n",
        "# User input\n",
        "try:\n",
        "  weight = float(input(\"Podaj wagę w kilogramach: \"))\n",
        "  height = float(input(\"Podaj wzrost w metrach: \"))\n",
        "\n",
        "  bmi_value = calculate_bmi(weight, height)\n",
        "\n",
        "  bmi_category = categorize_bmi(bmi_value)\n",
        "  print(f\"Twoje BMI wynosi: {bmi_value:.2f}\")\n",
        "  print(f\"Kategoria BMI: {bmi_category}\")\n",
        "\n",
        "except ValueError:\n",
        "  print(\"Wprowadzono nieprawidłowe dane. Upewnij się, że podajesz liczby.\")"
      ],
      "metadata": {
        "id": "fJKXfFmIG1u0",
        "colab": {
          "base_uri": "https://localhost:8080/"
        },
        "outputId": "375a839c-d75d-4de4-fc08-b148f9299d3c"
      },
      "execution_count": 2,
      "outputs": [
        {
          "output_type": "stream",
          "name": "stdout",
          "text": [
            "Podaj wagę w kilogramach: 78\n",
            "Podaj wzrost w metrach: 1.73\n",
            "Twoje BMI wynosi: 26.06\n",
            "Kategoria BMI: Nadwaga\n"
          ]
        }
      ]
    }
  ]
}