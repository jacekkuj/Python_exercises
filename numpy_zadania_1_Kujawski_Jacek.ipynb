{
 "cells": [
  {
   "cell_type": "markdown",
   "id": "46950f4f",
   "metadata": {},
   "source": [
    "## Przygotowanie do pracy - import pakietu, sprawdzenie wersji"
   ]
  },
  {
   "cell_type": "code",
   "execution_count": 1,
   "id": "2a9f5838",
   "metadata": {},
   "outputs": [
    {
     "data": {
      "text/plain": [
       "'1.20.1'"
      ]
     },
     "execution_count": 1,
     "metadata": {},
     "output_type": "execute_result"
    }
   ],
   "source": [
    "import numpy as np\n",
    "np.__version__"
   ]
  },
  {
   "cell_type": "markdown",
   "id": "ea65d780",
   "metadata": {},
   "source": [
    "### Pamiętaj, żeby przy wykonywaniu tych zadań posługiwać się dokumentacją biblioteki numpy!\n",
    "https://numpy.org/doc/\n",
    "\n",
    "U góry widoczna jest wersja Twojej biblioteki. Wybierz właściwa dokumentację :)"
   ]
  },
  {
   "cell_type": "markdown",
   "id": "e3c20b3d",
   "metadata": {},
   "source": [
    "Zad.1. Stworz wektor (ndarray) o wielkosci 10 elementow. "
   ]
  },
  {
   "cell_type": "code",
   "execution_count": 2,
   "id": "8a758bcf",
   "metadata": {},
   "outputs": [],
   "source": [
    "x1 = np.random.randint(250, size=10)"
   ]
  },
  {
   "cell_type": "code",
   "execution_count": 3,
   "id": "014a6e2b",
   "metadata": {},
   "outputs": [
    {
     "data": {
      "text/plain": [
       "array([232,  35,  93, 119, 118,  89,   1,  99,  73, 123])"
      ]
     },
     "execution_count": 3,
     "metadata": {},
     "output_type": "execute_result"
    }
   ],
   "source": [
    "x1"
   ]
  },
  {
   "cell_type": "markdown",
   "id": "04e69ed8",
   "metadata": {},
   "source": [
    "Zad.2. Stworz wektor (ndarray) o wartościach z zakresu od 10 do 109"
   ]
  },
  {
   "cell_type": "code",
   "execution_count": 6,
   "id": "5dbe1a08",
   "metadata": {},
   "outputs": [],
   "source": [
    "x2 = np.arange(10, 110)"
   ]
  },
  {
   "cell_type": "code",
   "execution_count": 7,
   "id": "9eaf8144",
   "metadata": {},
   "outputs": [
    {
     "data": {
      "text/plain": [
       "array([ 10,  11,  12,  13,  14,  15,  16,  17,  18,  19,  20,  21,  22,\n",
       "        23,  24,  25,  26,  27,  28,  29,  30,  31,  32,  33,  34,  35,\n",
       "        36,  37,  38,  39,  40,  41,  42,  43,  44,  45,  46,  47,  48,\n",
       "        49,  50,  51,  52,  53,  54,  55,  56,  57,  58,  59,  60,  61,\n",
       "        62,  63,  64,  65,  66,  67,  68,  69,  70,  71,  72,  73,  74,\n",
       "        75,  76,  77,  78,  79,  80,  81,  82,  83,  84,  85,  86,  87,\n",
       "        88,  89,  90,  91,  92,  93,  94,  95,  96,  97,  98,  99, 100,\n",
       "       101, 102, 103, 104, 105, 106, 107, 108, 109])"
      ]
     },
     "execution_count": 7,
     "metadata": {},
     "output_type": "execute_result"
    }
   ],
   "source": [
    "x2"
   ]
  },
  {
   "cell_type": "markdown",
   "id": "112bb8a1",
   "metadata": {},
   "source": [
    "Zad.3. Znajdz w dokumentacji numpy funkcję, która odwróci ten wektor. Ostatni jego element ma się stać pierwszym."
   ]
  },
  {
   "cell_type": "code",
   "execution_count": 8,
   "id": "e1a8a19d",
   "metadata": {},
   "outputs": [],
   "source": [
    "x2_reverse = x2[::-1]"
   ]
  },
  {
   "cell_type": "code",
   "execution_count": 9,
   "id": "244a5184",
   "metadata": {},
   "outputs": [
    {
     "data": {
      "text/plain": [
       "array([109, 108, 107, 106, 105, 104, 103, 102, 101, 100,  99,  98,  97,\n",
       "        96,  95,  94,  93,  92,  91,  90,  89,  88,  87,  86,  85,  84,\n",
       "        83,  82,  81,  80,  79,  78,  77,  76,  75,  74,  73,  72,  71,\n",
       "        70,  69,  68,  67,  66,  65,  64,  63,  62,  61,  60,  59,  58,\n",
       "        57,  56,  55,  54,  53,  52,  51,  50,  49,  48,  47,  46,  45,\n",
       "        44,  43,  42,  41,  40,  39,  38,  37,  36,  35,  34,  33,  32,\n",
       "        31,  30,  29,  28,  27,  26,  25,  24,  23,  22,  21,  20,  19,\n",
       "        18,  17,  16,  15,  14,  13,  12,  11,  10])"
      ]
     },
     "execution_count": 9,
     "metadata": {},
     "output_type": "execute_result"
    }
   ],
   "source": [
    "x2_reverse"
   ]
  },
  {
   "cell_type": "markdown",
   "id": "95bd541b",
   "metadata": {},
   "source": [
    "Zad.4. Stworz macierz 3x3 o wartościach od 0 do 8."
   ]
  },
  {
   "cell_type": "code",
   "execution_count": 14,
   "id": "9acb758e",
   "metadata": {},
   "outputs": [],
   "source": [
    "#x3 = np.random.randint(0, 9, size=(3,3))\n",
    "x3 = ([[0,1,2], [3,4,5], [6,7,8]])"
   ]
  },
  {
   "cell_type": "code",
   "execution_count": 15,
   "id": "21aab655",
   "metadata": {},
   "outputs": [
    {
     "data": {
      "text/plain": [
       "[[0, 1, 2], [3, 4, 5], [6, 7, 8]]"
      ]
     },
     "execution_count": 15,
     "metadata": {},
     "output_type": "execute_result"
    }
   ],
   "source": [
    "x3"
   ]
  },
  {
   "cell_type": "markdown",
   "id": "bd6e954f",
   "metadata": {},
   "source": [
    "Zad.5. Stworz macierz 10x10 z randomowymi wartościami (jak na początku notebooka z zajęć).\n",
    "\n",
    "Podaj jej max i min. "
   ]
  },
  {
   "cell_type": "code",
   "execution_count": 16,
   "id": "3a0f5ed5",
   "metadata": {},
   "outputs": [],
   "source": [
    "x4 = np.random.randint(10, size=(10,10))"
   ]
  },
  {
   "cell_type": "code",
   "execution_count": 19,
   "id": "49f61c24",
   "metadata": {},
   "outputs": [
    {
     "data": {
      "text/plain": [
       "(9, 0)"
      ]
     },
     "execution_count": 19,
     "metadata": {},
     "output_type": "execute_result"
    }
   ],
   "source": [
    "x4\n",
    "x4.max(),x4.min()\n",
    "x"
   ]
  },
  {
   "cell_type": "markdown",
   "id": "cde91c05",
   "metadata": {},
   "source": [
    "Zad.6. Podano następujący skrypt:\n",
    "    \n",
    "```python\n",
    "np.array(np.nan) / 5\n",
    "```\n",
    "Jaki będzie jej wynik? Podaj odpowiedź bez wywoływania."
   ]
  },
  {
   "cell_type": "code",
   "execution_count": 20,
   "id": "178453ad",
   "metadata": {},
   "outputs": [
    {
     "data": {
      "text/plain": [
       "nan"
      ]
     },
     "execution_count": 20,
     "metadata": {},
     "output_type": "execute_result"
    }
   ],
   "source": [
    "np.array(np.nan) / 5 # dzielenie przez nic (nan) daje nadal nic *(nan)"
   ]
  },
  {
   "cell_type": "markdown",
   "id": "db2dba22",
   "metadata": {},
   "source": [
    "Zad.7. Dodaj do siebie poniższe macierze\n",
    "\n",
    "```python\n",
    "a = np.array([[1,2,3],\n",
    "              [4,5,6]])\n",
    "\n",
    "b = np.array([[10,11,12],\n",
    "              [13,14,15]])\n",
    "```"
   ]
  },
  {
   "cell_type": "code",
   "execution_count": 26,
   "id": "9937b795",
   "metadata": {},
   "outputs": [
    {
     "data": {
      "text/plain": [
       "array([[ 1,  2,  3],\n",
       "       [ 4,  5,  6],\n",
       "       [10, 11, 12],\n",
       "       [13, 14, 15]])"
      ]
     },
     "execution_count": 26,
     "metadata": {},
     "output_type": "execute_result"
    }
   ],
   "source": [
    "a = np.array([[1,2,3],\n",
    "              [4,5,6]])\n",
    "\n",
    "b = np.array([[10,11,12],\n",
    "              [13,14,15]])\n",
    "a_b = np.concatenate([a,b])\n",
    "a_b"
   ]
  },
  {
   "cell_type": "markdown",
   "id": "9e5b5772",
   "metadata": {},
   "source": [
    "Zad.8. Majac ponizsza macierz:\n",
    "\n",
    "```python\n",
    "a = np.array([x for x in range(27)])\n",
    "```\n",
    "zreshapuj ja do 3 możliwych arrayek 3 wymiarowych. Za kazdym razem nie alokuj wyniku do zmienej."
   ]
  },
  {
   "cell_type": "code",
   "execution_count": 27,
   "id": "55f3e09a",
   "metadata": {},
   "outputs": [],
   "source": [
    "a = np.array([x for x in range(27)])"
   ]
  },
  {
   "cell_type": "code",
   "execution_count": 32,
   "id": "714d11c1",
   "metadata": {},
   "outputs": [
    {
     "data": {
      "text/plain": [
       "array([[[ 0,  1,  2],\n",
       "        [ 3,  4,  5],\n",
       "        [ 6,  7,  8]],\n",
       "\n",
       "       [[ 9, 10, 11],\n",
       "        [12, 13, 14],\n",
       "        [15, 16, 17]],\n",
       "\n",
       "       [[18, 19, 20],\n",
       "        [21, 22, 23],\n",
       "        [24, 25, 26]]])"
      ]
     },
     "execution_count": 32,
     "metadata": {},
     "output_type": "execute_result"
    }
   ],
   "source": [
    "a.reshape(3,3,3)"
   ]
  },
  {
   "cell_type": "markdown",
   "id": "6451a40a",
   "metadata": {},
   "source": [
    "Zad.9. Zmień typ danych w arrayce na bool\n",
    "\n",
    "```python\n",
    "a = np.array([[1, 0, 0],\n",
    "              [1, 1, 1],\n",
    "              [0, 0, 0]])\n",
    "```"
   ]
  },
  {
   "cell_type": "code",
   "execution_count": 33,
   "id": "ae054622",
   "metadata": {},
   "outputs": [
    {
     "data": {
      "text/plain": [
       "array([[ True, False, False],\n",
       "       [ True,  True,  True],\n",
       "       [False, False, False]])"
      ]
     },
     "execution_count": 33,
     "metadata": {},
     "output_type": "execute_result"
    }
   ],
   "source": [
    "a = np.array([[1, 0, 0],\n",
    "              [1, 1, 1],\n",
    "              [0, 0, 0]])\n",
    "a == 1"
   ]
  },
  {
   "cell_type": "markdown",
   "id": "34d2b505",
   "metadata": {},
   "source": [
    "Zad.10. Podaj ilość elementów poniższej macierzy, jej kształt i spłaszcz ją.\n",
    "\n",
    "```python\n",
    "a2 = np.array([[7,8],\n",
    "               [9,10],\n",
    "               [10,11]])\n",
    "```"
   ]
  },
  {
   "cell_type": "code",
   "execution_count": 35,
   "id": "24ea8d1b",
   "metadata": {},
   "outputs": [
    {
     "data": {
      "text/plain": [
       "6"
      ]
     },
     "execution_count": 35,
     "metadata": {},
     "output_type": "execute_result"
    }
   ],
   "source": [
    "a2 = np.array([[7,8],\n",
    "               [9,10],\n",
    "               [10,11]])\n",
    "a2.shape\n",
    "a2.size"
   ]
  },
  {
   "cell_type": "markdown",
   "id": "5f983baf",
   "metadata": {},
   "source": [
    "Zad.11. Stworz wektor o 10 elementach z randomowymi wartościami oraz przesortuj go."
   ]
  },
  {
   "cell_type": "code",
   "execution_count": 36,
   "id": "011ecf5f",
   "metadata": {},
   "outputs": [],
   "source": [
    "x4 = np.random.randint(15, size=10)"
   ]
  },
  {
   "cell_type": "code",
   "execution_count": 37,
   "id": "ca25b8f4",
   "metadata": {},
   "outputs": [
    {
     "data": {
      "text/plain": [
       "array([12,  6,  2,  9,  6,  0, 14,  3,  5,  2])"
      ]
     },
     "execution_count": 37,
     "metadata": {},
     "output_type": "execute_result"
    }
   ],
   "source": [
    "x4"
   ]
  },
  {
   "cell_type": "code",
   "execution_count": 38,
   "id": "d32b7ef1",
   "metadata": {},
   "outputs": [
    {
     "data": {
      "text/plain": [
       "array([ 2,  5,  3, 14,  0,  6,  9,  2,  6, 12])"
      ]
     },
     "execution_count": 38,
     "metadata": {},
     "output_type": "execute_result"
    }
   ],
   "source": [
    "x4[::-1]"
   ]
  },
  {
   "cell_type": "markdown",
   "id": "781fa236",
   "metadata": {},
   "source": [
    "Zad.12. Mając arrayke\n",
    "\n",
    "Z = [1,2,3,4,5,6,7,8,9,10,11,12,13,14], \n",
    "\n",
    "Sprobuj wyprodukować taka jak poniższa\n",
    "\n",
    "R = [[1,2,3,4], [2,3,4,5], [3,4,5,6], ..., [11,12,13,14]]"
   ]
  },
  {
   "cell_type": "code",
   "execution_count": null,
   "id": "8e84d3c2",
   "metadata": {},
   "outputs": [],
   "source": [
    "Z = [1,2,3,4,5,6,7,8,9,10,11,12,13,14]\n",
    "i = 0\n",
    "lista = []\n",
    "for element in Z:\n",
    "    for element in range(Z[i], Z[i+4]):\n",
    "        while True:\n",
    "            lista.append(element)\n",
    "            i += 1\n",
    "        print(lista)\n"
   ]
  },
  {
   "cell_type": "code",
   "execution_count": 64,
   "id": "e80c511f",
   "metadata": {},
   "outputs": [
    {
     "data": {
      "text/plain": [
       "array([[ 2,  3,  4,  5,  6,  7],\n",
       "       [ 9, 10, 11, 12, 13, 14]])"
      ]
     },
     "execution_count": 64,
     "metadata": {},
     "output_type": "execute_result"
    }
   ],
   "source": [
    "R = Z.reshape(2, -1)[:5,1:]\n",
    "R"
   ]
  },
  {
   "cell_type": "markdown",
   "id": "c1494982",
   "metadata": {},
   "source": [
    "Zad.13. Połącz wertykalnie następujące arrayki\n",
    "\n",
    "```python\n",
    "a1 = np.array([[1,2],\n",
    "               [3,4],\n",
    "               [5,6]])\n",
    "\n",
    "a2 = np.array([[7,8],\n",
    "               [9,10],\n",
    "               [10,11]])\n",
    "```"
   ]
  },
  {
   "cell_type": "code",
   "execution_count": 80,
   "id": "93231153",
   "metadata": {},
   "outputs": [
    {
     "data": {
      "text/plain": [
       "array([[ 1,  2],\n",
       "       [ 3,  4],\n",
       "       [ 5,  6],\n",
       "       [ 7,  8],\n",
       "       [ 9, 10],\n",
       "       [10, 11]])"
      ]
     },
     "execution_count": 80,
     "metadata": {},
     "output_type": "execute_result"
    }
   ],
   "source": [
    "a1 = np.array([[1,2],\n",
    "               [3,4],\n",
    "               [5,6]])\n",
    "\n",
    "a2 = np.array([[7,8],\n",
    "               [9,10],\n",
    "               [10,11]])\n",
    "a1_a2 = np.vstack([a1,a2])\n",
    "a1_a2"
   ]
  },
  {
   "cell_type": "markdown",
   "id": "7d8dc135",
   "metadata": {},
   "source": [
    "Zad.14. Jaką funkcją można znaleźć najczęściej występującą wartość w arrayce? Przeszukaj dokumentację :)"
   ]
  },
  {
   "cell_type": "code",
   "execution_count": 84,
   "id": "3978a7a2",
   "metadata": {},
   "outputs": [],
   "source": [
    "x5 = [1,2,3,4,4,4,4,4,5,7,8,9,9,99]"
   ]
  },
  {
   "cell_type": "code",
   "execution_count": 85,
   "id": "4acc249e",
   "metadata": {},
   "outputs": [
    {
     "data": {
      "text/plain": [
       "4"
      ]
     },
     "execution_count": 85,
     "metadata": {},
     "output_type": "execute_result"
    }
   ],
   "source": [
    "np.bincount(x5).argmax()"
   ]
  },
  {
   "cell_type": "code",
   "execution_count": null,
   "id": "ba366cba",
   "metadata": {},
   "outputs": [],
   "source": []
  }
 ],
 "metadata": {
  "kernelspec": {
   "display_name": "Python 3",
   "language": "python",
   "name": "python3"
  },
  "language_info": {
   "codemirror_mode": {
    "name": "ipython",
    "version": 3
   },
   "file_extension": ".py",
   "mimetype": "text/x-python",
   "name": "python",
   "nbconvert_exporter": "python",
   "pygments_lexer": "ipython3",
   "version": "3.8.8"
  }
 },
 "nbformat": 4,
 "nbformat_minor": 5
}
